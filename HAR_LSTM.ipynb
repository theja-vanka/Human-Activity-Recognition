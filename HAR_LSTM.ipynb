{
 "cells": [
  {
   "cell_type": "code",
   "execution_count": 1,
   "metadata": {},
   "outputs": [],
   "source": [
    "# Importing Libraries"
   ]
  },
  {
   "cell_type": "code",
   "execution_count": 2,
   "metadata": {},
   "outputs": [],
   "source": [
    "import pandas as pd\n",
    "import numpy as np"
   ]
  },
  {
   "cell_type": "code",
   "execution_count": 3,
   "metadata": {},
   "outputs": [],
   "source": [
    "# Activities are the class labels\n",
    "# It is a 6 class classification\n",
    "ACTIVITIES = {\n",
    "    0: 'WALKING',\n",
    "    1: 'WALKING_UPSTAIRS',\n",
    "    2: 'WALKING_DOWNSTAIRS',\n",
    "    3: 'SITTING',\n",
    "    4: 'STANDING',\n",
    "    5: 'LAYING',\n",
    "}\n",
    "\n",
    "# Utility function to print the confusion matrix\n",
    "def confusion_matrix(Y_true, Y_pred):\n",
    "    Y_true = pd.Series([ACTIVITIES[y] for y in np.argmax(Y_true, axis=1)])\n",
    "    Y_pred = pd.Series([ACTIVITIES[y] for y in np.argmax(Y_pred, axis=1)])\n",
    "\n",
    "    return pd.crosstab(Y_true, Y_pred, rownames=['True'], colnames=['Pred'])"
   ]
  },
  {
   "cell_type": "markdown",
   "metadata": {},
   "source": [
    "### Data"
   ]
  },
  {
   "cell_type": "code",
   "execution_count": 4,
   "metadata": {},
   "outputs": [],
   "source": [
    "# Data directory\n",
    "DATADIR = 'UCI_HAR_Dataset'"
   ]
  },
  {
   "cell_type": "code",
   "execution_count": 5,
   "metadata": {},
   "outputs": [],
   "source": [
    "# Raw data signals\n",
    "# Signals are from Accelerometer and Gyroscope\n",
    "# The signals are in x,y,z directions\n",
    "# Sensor signals are filtered to have only body acceleration\n",
    "# excluding the acceleration due to gravity\n",
    "# Triaxial acceleration from the accelerometer is total acceleration\n",
    "SIGNALS = [\n",
    "    \"body_acc_x\",\n",
    "    \"body_acc_y\",\n",
    "    \"body_acc_z\",\n",
    "    \"body_gyro_x\",\n",
    "    \"body_gyro_y\",\n",
    "    \"body_gyro_z\",\n",
    "    \"total_acc_x\",\n",
    "    \"total_acc_y\",\n",
    "    \"total_acc_z\"\n",
    "]"
   ]
  },
  {
   "cell_type": "code",
   "execution_count": 6,
   "metadata": {},
   "outputs": [],
   "source": [
    "# Utility function to read the data from csv file\n",
    "def _read_csv(filename):\n",
    "    return pd.read_csv(filename, delim_whitespace=True, header=None)\n",
    "\n",
    "# Utility function to load the load\n",
    "def load_signals(subset):\n",
    "    signals_data = []\n",
    "\n",
    "    for signal in SIGNALS:\n",
    "        filename = f'UCI_HAR_Dataset/{subset}/Inertial Signals/{signal}_{subset}.txt'\n",
    "        signals_data.append(\n",
    "            _read_csv(filename).as_matrix()\n",
    "        ) \n",
    "\n",
    "    # Transpose is used to change the dimensionality of the output,\n",
    "    # aggregating the signals by combination of sample/timestep.\n",
    "    # Resultant shape is (7352 train/2947 test samples, 128 timesteps, 9 signals)\n",
    "    return np.transpose(signals_data, (1, 2, 0))"
   ]
  },
  {
   "cell_type": "code",
   "execution_count": 7,
   "metadata": {},
   "outputs": [],
   "source": [
    "\n",
    "def load_y(subset):\n",
    "    \"\"\"\n",
    "    The objective that we are trying to predict is a integer, from 1 to 6,\n",
    "    that represents a human activity. We return a binary representation of \n",
    "    every sample objective as a 6 bits vector using One Hot Encoding\n",
    "    (https://pandas.pydata.org/pandas-docs/stable/generated/pandas.get_dummies.html)\n",
    "    \"\"\"\n",
    "    filename = f'UCI_HAR_Dataset/{subset}/y_{subset}.txt'\n",
    "    y = _read_csv(filename)[0]\n",
    "\n",
    "    return pd.get_dummies(y).as_matrix()"
   ]
  },
  {
   "cell_type": "code",
   "execution_count": 8,
   "metadata": {},
   "outputs": [],
   "source": [
    "def load_data():\n",
    "    \"\"\"\n",
    "    Obtain the dataset from multiple files.\n",
    "    Returns: X_train, X_test, y_train, y_test\n",
    "    \"\"\"\n",
    "    X_train, X_test = load_signals('train'), load_signals('test')\n",
    "    y_train, y_test = load_y('train'), load_y('test')\n",
    "\n",
    "    return X_train, X_test, y_train, y_test"
   ]
  },
  {
   "cell_type": "code",
   "execution_count": 9,
   "metadata": {},
   "outputs": [],
   "source": [
    "# Importing tensorflow\n",
    "np.random.seed(42)\n",
    "import tensorflow as tf\n",
    "tf.set_random_seed(42)"
   ]
  },
  {
   "cell_type": "code",
   "execution_count": 10,
   "metadata": {},
   "outputs": [],
   "source": [
    "# Configuring a session\n",
    "session_conf = tf.ConfigProto(\n",
    "    intra_op_parallelism_threads=1,\n",
    "    inter_op_parallelism_threads=1\n",
    ")"
   ]
  },
  {
   "cell_type": "code",
   "execution_count": 11,
   "metadata": {},
   "outputs": [
    {
     "name": "stderr",
     "output_type": "stream",
     "text": [
      "Using TensorFlow backend.\n"
     ]
    }
   ],
   "source": [
    "# Import Keras\n",
    "from keras import backend as K\n",
    "sess = tf.Session(graph=tf.get_default_graph(), config=session_conf)\n",
    "K.set_session(sess)"
   ]
  },
  {
   "cell_type": "code",
   "execution_count": 12,
   "metadata": {},
   "outputs": [],
   "source": [
    "# Importing libraries\n",
    "from keras.models import Sequential\n",
    "from keras.layers import LSTM, Conv2D, MaxPooling2D, Flatten,Conv1D,MaxPooling1D,TimeDistributed\n",
    "from keras.layers.core import Dense, Dropout"
   ]
  },
  {
   "cell_type": "code",
   "execution_count": 13,
   "metadata": {},
   "outputs": [],
   "source": [
    "# Initializing parameters\n",
    "epochs = 30\n",
    "batch_size = 16\n",
    "n_hidden = 32"
   ]
  },
  {
   "cell_type": "code",
   "execution_count": 14,
   "metadata": {},
   "outputs": [],
   "source": [
    "# Utility function to count the number of classes\n",
    "def _count_classes(y):\n",
    "    return len(set([tuple(category) for category in y]))"
   ]
  },
  {
   "cell_type": "code",
   "execution_count": 15,
   "metadata": {
    "scrolled": true
   },
   "outputs": [
    {
     "name": "stderr",
     "output_type": "stream",
     "text": [
      "/usr/local/lib/python3.7/site-packages/ipykernel_launcher.py:12: FutureWarning: Method .as_matrix will be removed in a future version. Use .values instead.\n",
      "  if sys.path[0] == '':\n"
     ]
    }
   ],
   "source": [
    "# Loading the train and test data\n",
    "X_train, X_test, Y_train, Y_test = load_data()"
   ]
  },
  {
   "cell_type": "code",
   "execution_count": 16,
   "metadata": {},
   "outputs": [
    {
     "name": "stdout",
     "output_type": "stream",
     "text": [
      "128\n",
      "9\n",
      "7352\n"
     ]
    }
   ],
   "source": [
    "timesteps = len(X_train[0])\n",
    "input_dim = len(X_train[0][0])\n",
    "n_classes = _count_classes(Y_train)\n",
    "\n",
    "print(timesteps)\n",
    "print(input_dim)\n",
    "print(len(X_train))"
   ]
  },
  {
   "cell_type": "code",
   "execution_count": 17,
   "metadata": {},
   "outputs": [
    {
     "name": "stdout",
     "output_type": "stream",
     "text": [
      "7352\n",
      "128\n",
      "9\n"
     ]
    }
   ],
   "source": [
    "print(len(X_train))\n",
    "print(len(X_train[0]))\n",
    "print(len(X_train[0][0]))"
   ]
  },
  {
   "cell_type": "code",
   "execution_count": 18,
   "metadata": {},
   "outputs": [],
   "source": [
    "trainX = X_train.reshape((len(X_train), 4,32, input_dim))\n",
    "testX = X_test.reshape((len(X_test), 4, 32, input_dim))"
   ]
  },
  {
   "cell_type": "markdown",
   "metadata": {},
   "source": [
    "- Defining the Architecture of LSTM"
   ]
  },
  {
   "cell_type": "code",
   "execution_count": 17,
   "metadata": {},
   "outputs": [
    {
     "name": "stdout",
     "output_type": "stream",
     "text": [
      "WARNING:tensorflow:From /usr/local/lib/python3.7/site-packages/tensorflow/python/framework/op_def_library.py:263: colocate_with (from tensorflow.python.framework.ops) is deprecated and will be removed in a future version.\n",
      "Instructions for updating:\n",
      "Colocations handled automatically by placer.\n",
      "WARNING:tensorflow:From /usr/local/lib/python3.7/site-packages/keras/backend/tensorflow_backend.py:3445: calling dropout (from tensorflow.python.ops.nn_ops) with keep_prob is deprecated and will be removed in a future version.\n",
      "Instructions for updating:\n",
      "Please use `rate` instead of `keep_prob`. Rate should be set to `rate = 1 - keep_prob`.\n",
      "_________________________________________________________________\n",
      "Layer (type)                 Output Shape              Param #   \n",
      "=================================================================\n",
      "lstm_1 (LSTM)                (None, 32)                5376      \n",
      "_________________________________________________________________\n",
      "dropout_1 (Dropout)          (None, 32)                0         \n",
      "_________________________________________________________________\n",
      "dense_1 (Dense)              (None, 6)                 198       \n",
      "=================================================================\n",
      "Total params: 5,574\n",
      "Trainable params: 5,574\n",
      "Non-trainable params: 0\n",
      "_________________________________________________________________\n"
     ]
    }
   ],
   "source": [
    "# Initiliazing the sequential model\n",
    "model = Sequential()\n",
    "# Configuring the parameters\n",
    "model.add(LSTM(n_hidden, input_shape=(timesteps, input_dim)))\n",
    "# Adding a dropout layer\n",
    "model.add(Dropout(0.5))\n",
    "# Adding a dense output layer with sigmoid activation\n",
    "model.add(Dense(n_classes, activation='sigmoid'))\n",
    "model.summary()"
   ]
  },
  {
   "cell_type": "code",
   "execution_count": 18,
   "metadata": {},
   "outputs": [],
   "source": [
    "# Compiling the model\n",
    "model.compile(loss='categorical_crossentropy',\n",
    "              optimizer='rmsprop',\n",
    "              metrics=['accuracy'])"
   ]
  },
  {
   "cell_type": "code",
   "execution_count": 19,
   "metadata": {},
   "outputs": [
    {
     "name": "stdout",
     "output_type": "stream",
     "text": [
      "WARNING:tensorflow:From /usr/local/lib/python3.7/site-packages/tensorflow/python/ops/math_ops.py:3066: to_int32 (from tensorflow.python.ops.math_ops) is deprecated and will be removed in a future version.\n",
      "Instructions for updating:\n",
      "Use tf.cast instead.\n",
      "Train on 7352 samples, validate on 2947 samples\n",
      "Epoch 1/30\n",
      "7352/7352 [==============================] - 34s 5ms/step - loss: 1.3306 - acc: 0.4361 - val_loss: 1.1743 - val_acc: 0.4723\n",
      "Epoch 2/30\n",
      "7352/7352 [==============================] - 27s 4ms/step - loss: 0.9716 - acc: 0.5788 - val_loss: 0.9656 - val_acc: 0.5263\n",
      "Epoch 3/30\n",
      "7352/7352 [==============================] - 29s 4ms/step - loss: 0.7787 - acc: 0.6510 - val_loss: 0.7841 - val_acc: 0.6135\n",
      "Epoch 4/30\n",
      "7352/7352 [==============================] - 26s 4ms/step - loss: 0.6911 - acc: 0.6587 - val_loss: 0.7109 - val_acc: 0.6203\n",
      "Epoch 5/30\n",
      "7352/7352 [==============================] - 26s 3ms/step - loss: 0.6496 - acc: 0.6794 - val_loss: 0.8000 - val_acc: 0.6362\n",
      "Epoch 6/30\n",
      "7352/7352 [==============================] - 26s 4ms/step - loss: 0.8295 - acc: 0.6221 - val_loss: 0.7970 - val_acc: 0.6318\n",
      "Epoch 7/30\n",
      "7352/7352 [==============================] - 30s 4ms/step - loss: 0.5920 - acc: 0.7122 - val_loss: 0.6816 - val_acc: 0.7038\n",
      "Epoch 8/30\n",
      "7352/7352 [==============================] - 30s 4ms/step - loss: 0.5472 - acc: 0.7594 - val_loss: 0.6473 - val_acc: 0.7258\n",
      "Epoch 9/30\n",
      "7352/7352 [==============================] - 28s 4ms/step - loss: 0.4838 - acc: 0.7805 - val_loss: 0.6033 - val_acc: 0.7445\n",
      "Epoch 10/30\n",
      "7352/7352 [==============================] - 27s 4ms/step - loss: 0.4212 - acc: 0.7907 - val_loss: 0.5396 - val_acc: 0.7472\n",
      "Epoch 11/30\n",
      "7352/7352 [==============================] - 29s 4ms/step - loss: 0.3967 - acc: 0.8084 - val_loss: 0.5399 - val_acc: 0.7526\n",
      "Epoch 12/30\n",
      "7352/7352 [==============================] - 25s 3ms/step - loss: 0.3609 - acc: 0.8407 - val_loss: 0.5420 - val_acc: 0.8222\n",
      "Epoch 13/30\n",
      "7352/7352 [==============================] - 26s 4ms/step - loss: 0.3312 - acc: 0.8798 - val_loss: 0.5038 - val_acc: 0.8673\n",
      "Epoch 14/30\n",
      "7352/7352 [==============================] - 26s 3ms/step - loss: 0.3000 - acc: 0.9053 - val_loss: 0.4823 - val_acc: 0.8758\n",
      "Epoch 15/30\n",
      "7352/7352 [==============================] - 26s 4ms/step - loss: 0.2574 - acc: 0.9230 - val_loss: 0.5465 - val_acc: 0.8731\n",
      "Epoch 16/30\n",
      "7352/7352 [==============================] - 31s 4ms/step - loss: 0.2383 - acc: 0.9293 - val_loss: 0.5054 - val_acc: 0.8694\n",
      "Epoch 17/30\n",
      "7352/7352 [==============================] - 31s 4ms/step - loss: 0.2271 - acc: 0.9313 - val_loss: 0.5409 - val_acc: 0.8653\n",
      "Epoch 18/30\n",
      "7352/7352 [==============================] - 30s 4ms/step - loss: 0.2121 - acc: 0.9353 - val_loss: 0.5611 - val_acc: 0.8677\n",
      "Epoch 19/30\n",
      "7352/7352 [==============================] - 31s 4ms/step - loss: 0.2129 - acc: 0.9355 - val_loss: 0.5293 - val_acc: 0.8887\n",
      "Epoch 20/30\n",
      "7352/7352 [==============================] - 31s 4ms/step - loss: 0.1825 - acc: 0.9425 - val_loss: 0.4945 - val_acc: 0.8656\n",
      "Epoch 21/30\n",
      "7352/7352 [==============================] - 30s 4ms/step - loss: 0.1857 - acc: 0.9400 - val_loss: 0.4470 - val_acc: 0.8836\n",
      "Epoch 22/30\n",
      "7352/7352 [==============================] - 30s 4ms/step - loss: 0.1827 - acc: 0.9445 - val_loss: 0.7009 - val_acc: 0.8517\n",
      "Epoch 23/30\n",
      "7352/7352 [==============================] - 24s 3ms/step - loss: 0.1909 - acc: 0.9391 - val_loss: 0.5290 - val_acc: 0.8884\n",
      "Epoch 24/30\n",
      "7352/7352 [==============================] - 25s 3ms/step - loss: 0.1925 - acc: 0.9399 - val_loss: 0.6053 - val_acc: 0.8812\n",
      "Epoch 25/30\n",
      "7352/7352 [==============================] - 27s 4ms/step - loss: 0.1821 - acc: 0.9440 - val_loss: 0.4675 - val_acc: 0.8765\n",
      "Epoch 26/30\n",
      "7352/7352 [==============================] - 29s 4ms/step - loss: 0.1773 - acc: 0.9448 - val_loss: 0.5316 - val_acc: 0.8826\n",
      "Epoch 27/30\n",
      "7352/7352 [==============================] - 30s 4ms/step - loss: 0.1817 - acc: 0.9406 - val_loss: 0.5282 - val_acc: 0.8843\n",
      "Epoch 28/30\n",
      "7352/7352 [==============================] - 29s 4ms/step - loss: 0.1966 - acc: 0.9402 - val_loss: 0.5390 - val_acc: 0.8931\n",
      "Epoch 29/30\n",
      "7352/7352 [==============================] - 30s 4ms/step - loss: 0.2257 - acc: 0.9291 - val_loss: 0.4739 - val_acc: 0.8948\n",
      "Epoch 30/30\n",
      "7352/7352 [==============================] - 29s 4ms/step - loss: 0.1745 - acc: 0.9442 - val_loss: 0.4692 - val_acc: 0.8806\n"
     ]
    },
    {
     "data": {
      "text/plain": [
       "<keras.callbacks.History at 0x104ed6940>"
      ]
     },
     "execution_count": 19,
     "metadata": {},
     "output_type": "execute_result"
    }
   ],
   "source": [
    "# Training the model\n",
    "model.fit(X_train,\n",
    "          Y_train,\n",
    "          batch_size=batch_size,\n",
    "          validation_data=(X_test, Y_test),\n",
    "          epochs=epochs)"
   ]
  },
  {
   "cell_type": "code",
   "execution_count": 20,
   "metadata": {},
   "outputs": [
    {
     "name": "stdout",
     "output_type": "stream",
     "text": [
      "Pred                LAYING  SITTING  STANDING  WALKING  WALKING_DOWNSTAIRS  \\\n",
      "True                                                                         \n",
      "LAYING                 510        0         0        0                   0   \n",
      "SITTING                  0      398        66        0                   0   \n",
      "STANDING                 0      100       418        2                   0   \n",
      "WALKING                  0        3         0      465                   8   \n",
      "WALKING_DOWNSTAIRS       0        0         0        0                 360   \n",
      "WALKING_UPSTAIRS         0        3         0       23                   1   \n",
      "\n",
      "Pred                WALKING_UPSTAIRS  \n",
      "True                                  \n",
      "LAYING                            27  \n",
      "SITTING                           27  \n",
      "STANDING                          12  \n",
      "WALKING                           20  \n",
      "WALKING_DOWNSTAIRS                60  \n",
      "WALKING_UPSTAIRS                 444  \n"
     ]
    }
   ],
   "source": [
    "# Confusion Matrix\n",
    "print(confusion_matrix(Y_test, model.predict(X_test)))"
   ]
  },
  {
   "cell_type": "code",
   "execution_count": 21,
   "metadata": {},
   "outputs": [
    {
     "name": "stdout",
     "output_type": "stream",
     "text": [
      "2947/2947 [==============================] - 1s 305us/step\n"
     ]
    }
   ],
   "source": [
    "score = model.evaluate(X_test, Y_test)"
   ]
  },
  {
   "cell_type": "code",
   "execution_count": 22,
   "metadata": {},
   "outputs": [
    {
     "data": {
      "text/plain": [
       "[0.4692274864947224, 0.8805564981336953]"
      ]
     },
     "execution_count": 22,
     "metadata": {},
     "output_type": "execute_result"
    }
   ],
   "source": [
    "score"
   ]
  },
  {
   "cell_type": "markdown",
   "metadata": {},
   "source": [
    "- With a simple 2 layer architecture we got 90.09% accuracy and a loss of 0.30\n",
    "- We can further imporve the performace with Hyperparameter tuning"
   ]
  },
  {
   "cell_type": "markdown",
   "metadata": {},
   "source": [
    "## Single Layer Hyper Parameter tuning"
   ]
  },
  {
   "cell_type": "code",
   "execution_count": 19,
   "metadata": {},
   "outputs": [],
   "source": [
    "np.save(\"./tmp/X_train\", X_train)\n",
    "np.save(\"./tmp/Y_train\", Y_train)\n",
    "np.save(\"./tmp/X_test\", X_test)\n",
    "np.save(\"./tmp/Y_test\", Y_test)"
   ]
  },
  {
   "cell_type": "code",
   "execution_count": 20,
   "metadata": {},
   "outputs": [
    {
     "data": {
      "text/plain": [
       "6"
      ]
     },
     "execution_count": 20,
     "metadata": {},
     "output_type": "execute_result"
    }
   ],
   "source": [
    "n_classes"
   ]
  },
  {
   "cell_type": "code",
   "execution_count": 17,
   "metadata": {},
   "outputs": [],
   "source": [
    "def data():\n",
    "    x_train = np.load(\"./tmp/X_train.npy\")\n",
    "    y_train = np.load(\"./tmp/Y_train.npy\")\n",
    "    x_test = np.load(\"./tmp/X_test.npy\")\n",
    "    y_test = np.load(\"./tmp/Y_test.npy\")\n",
    "    return x_train, y_train, x_test, y_test"
   ]
  },
  {
   "cell_type": "code",
   "execution_count": 80,
   "metadata": {},
   "outputs": [],
   "source": [
    "from hyperopt import Trials, STATUS_OK, tpe\n",
    "from hyperas import optim\n",
    "from hyperas.distributions import choice, uniform\n",
    "\n",
    "# Reference - https://github.com/maxpumperla/hyperas\n",
    "\n",
    "def create_model(x_train, y_train, x_test, y_test):\n",
    "    \n",
    "    epochs = 30\n",
    "    batch_size = 16\n",
    "    timesteps = x_train.shape[1]\n",
    "    input_dim = len(x_train[0][0])\n",
    "    n_classes = 6\n",
    "    \n",
    "    model = Sequential()\n",
    "    model.add(LSTM({{choice([64, 32, 16])}}, input_shape=(timesteps, input_dim)))\n",
    "    model.add(Dropout({{uniform(0, 1)}}))\n",
    "    model.add(Dense(n_classes, activation='sigmoid'))\n",
    "    print(model.summary())\n",
    "    model.compile(loss='categorical_crossentropy', optimizer='rmsprop', metrics=['accuracy'])\n",
    "    # ... model fitting\n",
    "    \n",
    "    history = model.fit(x_train, y_train, batch_size = batch_size, epochs=epochs, verbose=2, validation_data=(x_test, y_test))\n",
    "    validation_acc = np.amax(history.history['val_acc'])\n",
    "    return {'loss': -validation_acc, 'status': STATUS_OK, 'model': model}"
   ]
  },
  {
   "cell_type": "code",
   "execution_count": 81,
   "metadata": {},
   "outputs": [
    {
     "name": "stdout",
     "output_type": "stream",
     "text": [
      ">>> Imports:\n",
      "#coding=utf-8\n",
      "\n",
      "try:\n",
      "    import pandas as pd\n",
      "except:\n",
      "    pass\n",
      "\n",
      "try:\n",
      "    import numpy as np\n",
      "except:\n",
      "    pass\n",
      "\n",
      "try:\n",
      "    import tensorflow as tf\n",
      "except:\n",
      "    pass\n",
      "\n",
      "try:\n",
      "    from keras import backend as K\n",
      "except:\n",
      "    pass\n",
      "\n",
      "try:\n",
      "    from keras.models import Sequential\n",
      "except:\n",
      "    pass\n",
      "\n",
      "try:\n",
      "    from keras.layers import LSTM\n",
      "except:\n",
      "    pass\n",
      "\n",
      "try:\n",
      "    from keras.layers.core import Dense, Dropout\n",
      "except:\n",
      "    pass\n",
      "\n",
      "try:\n",
      "    from hyperopt import Trials, STATUS_OK, tpe\n",
      "except:\n",
      "    pass\n",
      "\n",
      "try:\n",
      "    from hyperas import optim\n",
      "except:\n",
      "    pass\n",
      "\n",
      "try:\n",
      "    from hyperas.distributions import choice, uniform\n",
      "except:\n",
      "    pass\n",
      "\n",
      ">>> Hyperas search space:\n",
      "\n",
      "def get_space():\n",
      "    return {\n",
      "        'LSTM': hp.choice('LSTM', [64, 32, 16]),\n",
      "        'Dropout': hp.uniform('Dropout', 0, 1),\n",
      "    }\n",
      "\n",
      ">>> Data\n",
      "  1: \n",
      "  2: x_train = np.load(\"./tmp/X_train.npy\")\n",
      "  3: y_train = np.load(\"./tmp/Y_train.npy\")\n",
      "  4: x_test = np.load(\"./tmp/X_test.npy\")\n",
      "  5: y_test = np.load(\"./tmp/Y_test.npy\")\n",
      "  6: \n",
      "  7: \n",
      "  8: \n",
      ">>> Resulting replaced keras model:\n",
      "\n",
      "  1: def keras_fmin_fnct(space):\n",
      "  2: \n",
      "  3:     \n",
      "  4:     epochs = 30\n",
      "  5:     batch_size = 16\n",
      "  6:     timesteps = x_train.shape[1]\n",
      "  7:     input_dim = len(x_train[0][0])\n",
      "  8:     n_classes = 6\n",
      "  9:     \n",
      " 10:     model = Sequential()\n",
      " 11:     model.add(LSTM(space['LSTM'], input_shape=(timesteps, input_dim)))\n",
      " 12:     model.add(Dropout(space['Dropout']))\n",
      " 13:     model.add(Dense(n_classes, activation='sigmoid'))\n",
      " 14:     print(model.summary())\n",
      " 15:     model.compile(loss='categorical_crossentropy', optimizer='rmsprop', metrics=['accuracy'])\n",
      " 16:     # ... model fitting\n",
      " 17:     \n",
      " 18:     history = model.fit(x_train, y_train, batch_size = batch_size, epochs=epochs, verbose=2, validation_data=(x_test, y_test))\n",
      " 19:     validation_acc = np.amax(history.history['val_acc'])\n",
      " 20:     return {'loss': -validation_acc, 'status': STATUS_OK, 'model': model}\n",
      " 21: \n",
      "_________________________________________________________________\n",
      "Layer (type)                 Output Shape              Param #   \n",
      "=================================================================\n",
      "lstm_6 (LSTM)                (None, 16)                1664      \n",
      "_________________________________________________________________\n",
      "dropout_6 (Dropout)          (None, 16)                0         \n",
      "_________________________________________________________________\n",
      "dense_6 (Dense)              (None, 6)                 102       \n",
      "=================================================================\n",
      "Total params: 1,766                                \n",
      "Trainable params: 1,766                            \n",
      "Non-trainable params: 0                            \n",
      "_________________________________________________________________\n",
      "None                                               \n",
      "Train on 7352 samples, validate on 2947 samples    \n",
      "Epoch 1/30                                         \n",
      " - 22s - loss: 1.4181 - acc: 0.4426 - val_loss: 1.2250 - val_acc: 0.4438\n",
      "\n",
      "Epoch 2/30                                         \n",
      " - 22s - loss: 1.0958 - acc: 0.5390 - val_loss: 1.0571 - val_acc: 0.5348\n",
      "\n",
      "Epoch 3/30                                         \n",
      " - 21s - loss: 0.9197 - acc: 0.6328 - val_loss: 0.9134 - val_acc: 0.6230\n",
      "\n",
      "Epoch 4/30                                         \n",
      " - 21s - loss: 0.7587 - acc: 0.6862 - val_loss: 0.8278 - val_acc: 0.6420\n",
      "\n",
      "Epoch 5/30                                         \n",
      " - 21s - loss: 0.6856 - acc: 0.7112 - val_loss: 0.8437 - val_acc: 0.6345\n",
      "\n",
      "Epoch 6/30                                         \n",
      " - 21s - loss: 0.6339 - acc: 0.7315 - val_loss: 0.7031 - val_acc: 0.7136\n",
      "\n",
      "Epoch 7/30                                         \n",
      " - 21s - loss: 0.5732 - acc: 0.7655 - val_loss: 0.6571 - val_acc: 0.7262\n",
      "\n",
      "Epoch 8/30                                         \n",
      " - 26s - loss: 0.5185 - acc: 0.7803 - val_loss: 0.6590 - val_acc: 0.7445\n",
      "\n",
      "Epoch 9/30                                         \n",
      " - 23s - loss: 0.4775 - acc: 0.7863 - val_loss: 0.6188 - val_acc: 0.7350\n",
      "\n",
      "Epoch 10/30                                        \n",
      " - 26s - loss: 0.4484 - acc: 0.7919 - val_loss: 0.6282 - val_acc: 0.7357\n",
      "\n",
      "Epoch 11/30                                        \n",
      " - 22s - loss: 0.4323 - acc: 0.7996 - val_loss: 0.5921 - val_acc: 0.7435\n",
      "\n",
      "Epoch 12/30                                        \n",
      " - 21s - loss: 0.4135 - acc: 0.8078 - val_loss: 0.5650 - val_acc: 0.7452\n",
      "\n",
      "Epoch 13/30                                        \n",
      " - 21s - loss: 0.3992 - acc: 0.8169 - val_loss: 0.5999 - val_acc: 0.7547\n",
      "\n",
      "Epoch 14/30                                        \n",
      " - 21s - loss: 0.4034 - acc: 0.8094 - val_loss: 0.6064 - val_acc: 0.7631\n",
      "\n",
      "Epoch 15/30                                        \n",
      " - 21s - loss: 0.3913 - acc: 0.8258 - val_loss: 0.6027 - val_acc: 0.7679\n",
      "\n",
      "Epoch 16/30                                        \n",
      " - 21s - loss: 0.3875 - acc: 0.8444 - val_loss: 0.6290 - val_acc: 0.8219\n",
      "\n",
      "Epoch 17/30                                        \n",
      " - 21s - loss: 0.3690 - acc: 0.8621 - val_loss: 0.5285 - val_acc: 0.8375\n",
      "\n",
      "Epoch 18/30                                        \n",
      " - 21s - loss: 0.3203 - acc: 0.8847 - val_loss: 0.5478 - val_acc: 0.8419\n",
      "\n",
      "Epoch 19/30                                        \n",
      " - 21s - loss: 0.2968 - acc: 0.9029 - val_loss: 0.5359 - val_acc: 0.8266\n",
      "\n",
      "Epoch 20/30                                        \n",
      " - 21s - loss: 0.2781 - acc: 0.9112 - val_loss: 0.4906 - val_acc: 0.8541\n",
      "\n",
      "Epoch 21/30                                        \n",
      " - 21s - loss: 0.2451 - acc: 0.9174 - val_loss: 0.4923 - val_acc: 0.8599\n",
      "\n",
      "Epoch 22/30                                        \n",
      " - 21s - loss: 0.2466 - acc: 0.9184 - val_loss: 0.5128 - val_acc: 0.8548\n",
      "\n",
      "Epoch 23/30                                        \n",
      " - 21s - loss: 0.2456 - acc: 0.9214 - val_loss: 0.4693 - val_acc: 0.8568\n",
      "\n",
      "Epoch 24/30                                        \n",
      " - 21s - loss: 0.2318 - acc: 0.9268 - val_loss: 0.4425 - val_acc: 0.8704\n",
      "\n",
      "Epoch 25/30                                        \n",
      " - 21s - loss: 0.2377 - acc: 0.9226 - val_loss: 0.3757 - val_acc: 0.8782\n",
      "\n",
      "Epoch 26/30                                        \n",
      " - 22s - loss: 0.2088 - acc: 0.9295 - val_loss: 0.4998 - val_acc: 0.8744\n",
      "\n",
      "Epoch 27/30                                        \n",
      " - 22s - loss: 0.2051 - acc: 0.9335 - val_loss: 0.4520 - val_acc: 0.8809\n",
      "\n",
      "Epoch 28/30                                        \n",
      " - 21s - loss: 0.2059 - acc: 0.9327 - val_loss: 0.6362 - val_acc: 0.8402\n",
      "\n",
      "Epoch 29/30                                        \n",
      " - 21s - loss: 0.2201 - acc: 0.9312 - val_loss: 0.4299 - val_acc: 0.8829\n",
      "\n",
      "Epoch 30/30                                        \n",
      " - 21s - loss: 0.1900 - acc: 0.9366 - val_loss: 0.4266 - val_acc: 0.8823\n",
      "\n",
      "_________________________________________________________________             \n",
      "Layer (type)                 Output Shape              Param #                \n",
      "=================================================================             \n",
      "lstm_7 (LSTM)                (None, 64)                18944                  \n",
      "_________________________________________________________________             \n",
      "dropout_7 (Dropout)          (None, 64)                0                      \n",
      "_________________________________________________________________             \n",
      "dense_7 (Dense)              (None, 6)                 390                    \n",
      "=================================================================             \n",
      "Total params: 19,334                                                          \n",
      "Trainable params: 19,334                                                      \n",
      "Non-trainable params: 0                                                       \n",
      "_________________________________________________________________             \n",
      "None                                                                          \n",
      "Train on 7352 samples, validate on 2947 samples                               \n",
      "Epoch 1/30                                                                    \n",
      " - 27s - loss: 1.1528 - acc: 0.5029 - val_loss: 0.9494 - val_acc: 0.6172      \n",
      "\n",
      "Epoch 2/30                                                                    \n",
      " - 26s - loss: 0.7921 - acc: 0.6634 - val_loss: 0.7129 - val_acc: 0.7313      \n",
      "\n",
      "Epoch 3/30                                                                    \n",
      " - 26s - loss: 0.6238 - acc: 0.7801 - val_loss: 0.5944 - val_acc: 0.8225      \n",
      "\n",
      "Epoch 4/30                                                                    \n",
      " - 26s - loss: 0.3943 - acc: 0.8757 - val_loss: 0.4600 - val_acc: 0.8497      \n",
      "\n",
      "Epoch 5/30                                                                    \n",
      " - 26s - loss: 0.2997 - acc: 0.9044 - val_loss: 0.3765 - val_acc: 0.8836      \n",
      "\n",
      "Epoch 6/30                                                                    \n",
      " - 26s - loss: 0.2279 - acc: 0.9227 - val_loss: 0.3043 - val_acc: 0.8833      \n",
      "\n",
      "Epoch 7/30                                                                    \n",
      " - 26s - loss: 0.2107 - acc: 0.9300 - val_loss: 0.3541 - val_acc: 0.8823      \n",
      "\n",
      "Epoch 8/30                                                                    \n",
      " - 26s - loss: 0.1815 - acc: 0.9382 - val_loss: 0.2402 - val_acc: 0.9053      \n",
      "\n",
      "Epoch 9/30                                                                    \n",
      " - 26s - loss: 0.1754 - acc: 0.9374 - val_loss: 0.2776 - val_acc: 0.9040      \n",
      "\n",
      "Epoch 10/30                                                                   \n",
      " - 26s - loss: 0.1781 - acc: 0.9370 - val_loss: 0.3430 - val_acc: 0.9046      \n",
      "\n",
      "Epoch 11/30                                                                   \n",
      " - 27s - loss: 0.1527 - acc: 0.9433 - val_loss: 0.2582 - val_acc: 0.9179      \n",
      "\n",
      "Epoch 12/30                                                                   \n",
      " - 27s - loss: 0.1432 - acc: 0.9453 - val_loss: 0.3067 - val_acc: 0.9087      \n",
      "\n",
      "Epoch 13/30                                                                   \n",
      " - 27s - loss: 0.1559 - acc: 0.9470 - val_loss: 0.2659 - val_acc: 0.9040      \n",
      "\n",
      "Epoch 14/30                                                                   \n",
      " - 27s - loss: 0.1360 - acc: 0.9489 - val_loss: 0.3567 - val_acc: 0.8924      \n",
      "\n",
      "Epoch 15/30                                                                   \n",
      " - 27s - loss: 0.1302 - acc: 0.9489 - val_loss: 0.3589 - val_acc: 0.9030      \n",
      "\n",
      "Epoch 16/30                                                                   \n",
      " - 26s - loss: 0.1258 - acc: 0.9520 - val_loss: 0.3325 - val_acc: 0.9036      \n",
      "\n",
      "Epoch 17/30                                                                   \n",
      " - 30s - loss: 0.1191 - acc: 0.9527 - val_loss: 0.4162 - val_acc: 0.9070      \n",
      "\n",
      "Epoch 18/30                                                                   \n",
      " - 26s - loss: 0.1332 - acc: 0.9513 - val_loss: 0.4133 - val_acc: 0.8979      \n",
      "\n",
      "Epoch 19/30                                                                   \n",
      " - 29s - loss: 0.1271 - acc: 0.9482 - val_loss: 0.4092 - val_acc: 0.9026      \n",
      "\n",
      "Epoch 20/30                                                                   \n",
      " - 27s - loss: 0.1366 - acc: 0.9493 - val_loss: 0.3244 - val_acc: 0.9067      \n",
      "\n",
      "Epoch 21/30                                                                   \n",
      " - 26s - loss: 0.1397 - acc: 0.9508 - val_loss: 0.3714 - val_acc: 0.9060      \n",
      "\n",
      "Epoch 22/30                                                                   \n",
      " - 26s - loss: 0.1250 - acc: 0.9532 - val_loss: 0.4326 - val_acc: 0.9087      \n",
      "\n",
      "Epoch 23/30                                                                   \n",
      " - 26s - loss: 0.1198 - acc: 0.9557 - val_loss: 0.4049 - val_acc: 0.9080      \n",
      "\n",
      "Epoch 24/30                                                                   \n",
      " - 27s - loss: 0.1185 - acc: 0.9554 - val_loss: 0.5537 - val_acc: 0.8918      \n",
      "\n",
      "Epoch 25/30                                                                   \n",
      " - 27s - loss: 0.1336 - acc: 0.9516 - val_loss: 0.4524 - val_acc: 0.9002      \n",
      "\n",
      "Epoch 26/30                                                                   \n",
      " - 26s - loss: 0.1327 - acc: 0.9525 - val_loss: 0.3667 - val_acc: 0.9097      \n",
      "\n",
      "Epoch 27/30                                                                   \n",
      " - 26s - loss: 0.1367 - acc: 0.9514 - val_loss: 0.4059 - val_acc: 0.9135      \n",
      "\n",
      "Epoch 28/30                                                                   \n",
      " - 27s - loss: 0.1412 - acc: 0.9494 - val_loss: 0.4896 - val_acc: 0.8989      \n",
      "\n",
      "Epoch 29/30                                                                   \n",
      " - 27s - loss: 0.1419 - acc: 0.9486 - val_loss: 0.3142 - val_acc: 0.9152      \n",
      "\n",
      "Epoch 30/30                                                                   \n",
      " - 26s - loss: 0.1398 - acc: 0.9516 - val_loss: 0.3218 - val_acc: 0.9199      \n",
      "\n",
      "_________________________________________________________________             \n",
      "Layer (type)                 Output Shape              Param #                \n",
      "=================================================================             \n",
      "lstm_8 (LSTM)                (None, 32)                5376                   \n",
      "_________________________________________________________________             \n",
      "dropout_8 (Dropout)          (None, 32)                0                      \n",
      "_________________________________________________________________             \n",
      "dense_8 (Dense)              (None, 6)                 198                    \n",
      "=================================================================             \n",
      "Total params: 5,574                                                           \n",
      "Trainable params: 5,574                                                       \n",
      "Non-trainable params: 0                                                       \n",
      "_________________________________________________________________             \n",
      "None                                                                          \n",
      "Train on 7352 samples, validate on 2947 samples                               \n",
      "Epoch 1/30                                                                    \n",
      " - 24s - loss: 1.4421 - acc: 0.4055 - val_loss: 1.2122 - val_acc: 0.4499      \n",
      "\n",
      "Epoch 2/30                                                                    \n",
      " - 23s - loss: 1.1989 - acc: 0.4816 - val_loss: 1.1084 - val_acc: 0.5209      \n",
      "\n",
      "Epoch 3/30                                                                    \n",
      " - 23s - loss: 1.0463 - acc: 0.5494 - val_loss: 0.9952 - val_acc: 0.5901      \n",
      "\n",
      "Epoch 4/30                                                                    \n",
      " - 23s - loss: 1.1030 - acc: 0.5248 - val_loss: 1.3211 - val_acc: 0.3475      \n",
      "\n",
      "Epoch 5/30                                                                    \n",
      " - 23s - loss: 0.9116 - acc: 0.6034 - val_loss: 0.8685 - val_acc: 0.5830      \n",
      "\n",
      "Epoch 6/30                                                                    \n",
      " - 23s - loss: 0.8460 - acc: 0.6167 - val_loss: 0.7976 - val_acc: 0.6213      \n",
      "\n",
      "Epoch 7/30                                                                    \n",
      " - 26s - loss: 0.7853 - acc: 0.6323 - val_loss: 0.7972 - val_acc: 0.6111      \n",
      "\n",
      "Epoch 8/30                                                                    \n",
      " - 29s - loss: 0.7552 - acc: 0.6522 - val_loss: 0.7674 - val_acc: 0.6237      \n",
      "\n",
      "Epoch 9/30                                                                    \n",
      " - 30s - loss: 0.7196 - acc: 0.6639 - val_loss: 0.7933 - val_acc: 0.6220      \n",
      "\n",
      "Epoch 10/30                                                                   \n",
      " - 23s - loss: 0.7080 - acc: 0.6795 - val_loss: 0.8886 - val_acc: 0.6257      \n",
      "\n",
      "Epoch 11/30                                                                   \n",
      " - 24s - loss: 0.6796 - acc: 0.6984 - val_loss: 0.7922 - val_acc: 0.7024      \n",
      "\n",
      "Epoch 12/30                                                                   \n",
      " - 23s - loss: 0.6391 - acc: 0.7329 - val_loss: 0.7733 - val_acc: 0.7136      \n",
      "\n",
      "Epoch 13/30                                                                   \n",
      " - 27s - loss: 0.6275 - acc: 0.7403 - val_loss: 0.7517 - val_acc: 0.7282      \n",
      "\n",
      "Epoch 14/30                                                                   \n",
      " - 26s - loss: 0.6045 - acc: 0.7675 - val_loss: 0.6580 - val_acc: 0.7567      \n",
      "\n",
      "Epoch 15/30                                                                   \n",
      " - 28s - loss: 0.6021 - acc: 0.7852 - val_loss: 0.6070 - val_acc: 0.8117      \n",
      "\n",
      "Epoch 16/30                                                                   \n",
      " - 29s - loss: 0.5705 - acc: 0.7923 - val_loss: 0.6245 - val_acc: 0.8222      \n",
      "\n",
      "Epoch 17/30                                                                   \n"
     ]
    },
    {
     "name": "stdout",
     "output_type": "stream",
     "text": [
      " - 23s - loss: 0.5146 - acc: 0.8211 - val_loss: 0.5720 - val_acc: 0.8361      \n",
      "\n",
      "Epoch 18/30                                                                   \n",
      " - 23s - loss: 0.5210 - acc: 0.8326 - val_loss: 0.6667 - val_acc: 0.8334      \n",
      "\n",
      "Epoch 19/30                                                                   \n",
      " - 23s - loss: 0.4721 - acc: 0.8520 - val_loss: 0.6538 - val_acc: 0.8456      \n",
      "\n",
      "Epoch 20/30                                                                   \n",
      " - 26s - loss: 0.4444 - acc: 0.8658 - val_loss: 0.6144 - val_acc: 0.8215      \n",
      "\n",
      "Epoch 21/30                                                                   \n",
      " - 24s - loss: 0.4416 - acc: 0.8734 - val_loss: 0.5811 - val_acc: 0.8571      \n",
      "\n",
      "Epoch 22/30                                                                   \n",
      " - 30s - loss: 0.4092 - acc: 0.8832 - val_loss: 0.4342 - val_acc: 0.8738      \n",
      "\n",
      "Epoch 23/30                                                                   \n",
      " - 24s - loss: 0.3897 - acc: 0.8887 - val_loss: 0.9183 - val_acc: 0.8378      \n",
      "\n",
      "Epoch 24/30                                                                   \n",
      " - 27s - loss: nan - acc: 0.8551 - val_loss: nan - val_acc: 0.1683            \n",
      "\n",
      "Epoch 25/30                                                                   \n",
      " - 27s - loss: nan - acc: 0.1668 - val_loss: nan - val_acc: 0.1683            \n",
      "\n",
      "Epoch 26/30                                                                   \n",
      " - 27s - loss: nan - acc: 0.1668 - val_loss: nan - val_acc: 0.1683            \n",
      "\n",
      "Epoch 27/30                                                                   \n",
      " - 30s - loss: nan - acc: 0.1668 - val_loss: nan - val_acc: 0.1683            \n",
      "\n",
      "Epoch 28/30                                                                   \n",
      " - 29s - loss: nan - acc: 0.1668 - val_loss: nan - val_acc: 0.1683            \n",
      "\n",
      "Epoch 29/30                                                                   \n",
      " - 29s - loss: nan - acc: 0.1668 - val_loss: nan - val_acc: 0.1683            \n",
      "\n",
      "Epoch 30/30                                                                   \n",
      " - 28s - loss: nan - acc: 0.1668 - val_loss: nan - val_acc: 0.1683            \n",
      "\n",
      "_________________________________________________________________             \n",
      "Layer (type)                 Output Shape              Param #                \n",
      "=================================================================             \n",
      "lstm_9 (LSTM)                (None, 32)                5376                   \n",
      "_________________________________________________________________             \n",
      "dropout_9 (Dropout)          (None, 32)                0                      \n",
      "_________________________________________________________________             \n",
      "dense_9 (Dense)              (None, 6)                 198                    \n",
      "=================================================================             \n",
      "Total params: 5,574                                                           \n",
      "Trainable params: 5,574                                                       \n",
      "Non-trainable params: 0                                                       \n",
      "_________________________________________________________________             \n",
      "None                                                                          \n",
      "Train on 7352 samples, validate on 2947 samples                               \n",
      "Epoch 1/30                                                                    \n",
      " - 30s - loss: 1.3239 - acc: 0.4410 - val_loss: 1.1631 - val_acc: 0.5022      \n",
      "\n",
      "Epoch 2/30                                                                    \n",
      " - 26s - loss: 1.0351 - acc: 0.5476 - val_loss: 0.9988 - val_acc: 0.5840      \n",
      "\n",
      "Epoch 3/30                                                                    \n",
      " - 24s - loss: 0.8382 - acc: 0.6136 - val_loss: 0.8434 - val_acc: 0.6505      \n",
      "\n",
      "Epoch 4/30                                                                    \n",
      " - 26s - loss: 0.7551 - acc: 0.6526 - val_loss: 0.8050 - val_acc: 0.6332      \n",
      "\n",
      "Epoch 5/30                                                                    \n",
      " - 27s - loss: 0.6984 - acc: 0.6650 - val_loss: 0.7658 - val_acc: 0.6552      \n",
      "\n",
      "Epoch 6/30                                                                    \n",
      " - 28s - loss: 0.6971 - acc: 0.6662 - val_loss: 0.7527 - val_acc: 0.6417      \n",
      "\n",
      "Epoch 7/30                                                                    \n",
      " - 28s - loss: 0.6578 - acc: 0.6836 - val_loss: 0.7663 - val_acc: 0.6644      \n",
      "\n",
      "Epoch 8/30                                                                    \n",
      " - 26s - loss: 0.6813 - acc: 0.6624 - val_loss: 0.7608 - val_acc: 0.6271      \n",
      "\n",
      "Epoch 9/30                                                                    \n",
      " - 25s - loss: 0.7053 - acc: 0.6726 - val_loss: 0.7118 - val_acc: 0.7201      \n",
      "\n",
      "Epoch 10/30                                                                   \n",
      " - 24s - loss: 0.8069 - acc: 0.6693 - val_loss: 0.7598 - val_acc: 0.6274      \n",
      "\n",
      "Epoch 11/30                                                                   \n",
      " - 24s - loss: 0.5943 - acc: 0.7372 - val_loss: 0.6243 - val_acc: 0.7316      \n",
      "\n",
      "Epoch 12/30                                                                   \n",
      " - 24s - loss: 0.5518 - acc: 0.7665 - val_loss: 0.5450 - val_acc: 0.7567      \n",
      "\n",
      "Epoch 13/30                                                                   \n",
      " - 24s - loss: 0.4700 - acc: 0.8003 - val_loss: 0.6088 - val_acc: 0.7608      \n",
      "\n",
      "Epoch 14/30                                                                   \n",
      " - 24s - loss: 0.4325 - acc: 0.8252 - val_loss: 0.5777 - val_acc: 0.7893      \n",
      "\n",
      "Epoch 15/30                                                                   \n",
      " - 24s - loss: 0.4021 - acc: 0.8501 - val_loss: 0.5316 - val_acc: 0.8076      \n",
      "\n",
      "Epoch 16/30                                                                   \n",
      " - 24s - loss: 0.3514 - acc: 0.8885 - val_loss: 0.4710 - val_acc: 0.8310      \n",
      "\n",
      "Epoch 17/30                                                                   \n",
      " - 24s - loss: 0.3279 - acc: 0.9013 - val_loss: 0.5562 - val_acc: 0.7859      \n",
      "\n",
      "Epoch 18/30                                                                   \n",
      " - 24s - loss: 0.2880 - acc: 0.9112 - val_loss: 0.4827 - val_acc: 0.8605      \n",
      "\n",
      "Epoch 19/30                                                                   \n",
      " - 24s - loss: 0.2840 - acc: 0.9140 - val_loss: 0.4614 - val_acc: 0.8558      \n",
      "\n",
      "Epoch 20/30                                                                   \n",
      " - 24s - loss: 0.2664 - acc: 0.9155 - val_loss: 0.3792 - val_acc: 0.8616      \n",
      "\n",
      "Epoch 21/30                                                                   \n",
      " - 24s - loss: 0.2745 - acc: 0.9165 - val_loss: 0.4700 - val_acc: 0.8673      \n",
      "\n",
      "Epoch 22/30                                                                   \n",
      " - 23s - loss: 0.2157 - acc: 0.9321 - val_loss: 0.4522 - val_acc: 0.8626      \n",
      "\n",
      "Epoch 23/30                                                                   \n",
      " - 24s - loss: 0.2025 - acc: 0.9348 - val_loss: 0.5130 - val_acc: 0.8527      \n",
      "\n",
      "Epoch 24/30                                                                   \n",
      " - 24s - loss: 0.2057 - acc: 0.9355 - val_loss: 0.4265 - val_acc: 0.8622      \n",
      "\n",
      "Epoch 25/30                                                                   \n",
      " - 24s - loss: 0.1835 - acc: 0.9396 - val_loss: 0.4855 - val_acc: 0.8748      \n",
      "\n",
      "Epoch 26/30                                                                   \n",
      " - 24s - loss: 0.1699 - acc: 0.9406 - val_loss: 0.4114 - val_acc: 0.8870      \n",
      "\n",
      "Epoch 27/30                                                                   \n",
      " - 24s - loss: 0.1823 - acc: 0.9415 - val_loss: 0.3560 - val_acc: 0.8904      \n",
      "\n",
      "Epoch 28/30                                                                   \n",
      " - 24s - loss: 0.1772 - acc: 0.9429 - val_loss: 0.3424 - val_acc: 0.9013      \n",
      "\n",
      "Epoch 29/30                                                                   \n",
      " - 24s - loss: 0.1721 - acc: 0.9403 - val_loss: 0.3167 - val_acc: 0.8958      \n",
      "\n",
      "Epoch 30/30                                                                   \n",
      " - 24s - loss: 0.1956 - acc: 0.9418 - val_loss: 0.3690 - val_acc: 0.8911      \n",
      "\n",
      "100%|██████████| 4/4 [49:20<00:00, 724.06s/it, best loss: -0.9199185612487275]\n",
      "2947/2947 [==============================] - 1s 494us/step\n"
     ]
    }
   ],
   "source": [
    "best_run, best_model = optim.minimize(model=create_model, data=data, algo=tpe.suggest, max_evals=4, trials=Trials(), notebook_name = \"HAR_LSTM\")\n",
    "score = best_model.evaluate(X_test, Y_test)\n"
   ]
  },
  {
   "cell_type": "code",
   "execution_count": 86,
   "metadata": {
    "scrolled": false
   },
   "outputs": [
    {
     "name": "stdout",
     "output_type": "stream",
     "text": [
      "---------------------\n",
      "|      Accuracy      |\n",
      "---------------------\n",
      "91.99%\n",
      "\n",
      "----------------------------------\n",
      "|      Best Hyper-Parameters      |\n",
      "----------------------------------\n",
      "{'Dropout': 0.23316134447477344, 'LSTM': 0}\n",
      "_________________________________________________________________\n",
      "Layer (type)                 Output Shape              Param #   \n",
      "=================================================================\n",
      "lstm_7 (LSTM)                (None, 64)                18944     \n",
      "_________________________________________________________________\n",
      "dropout_7 (Dropout)          (None, 64)                0         \n",
      "_________________________________________________________________\n",
      "dense_7 (Dense)              (None, 6)                 390       \n",
      "=================================================================\n",
      "Total params: 19,334\n",
      "Trainable params: 19,334\n",
      "Non-trainable params: 0\n",
      "_________________________________________________________________\n",
      "None\n",
      "\n",
      "\n",
      "\n"
     ]
    }
   ],
   "source": [
    "print('---------------------')\n",
    "print('|      Accuracy      |')\n",
    "print('---------------------')\n",
    "acc = np.round((score[1]*100), 2)\n",
    "print(str(acc)+\"%\\n\")\n",
    "    \n",
    "print('----------------------------------')\n",
    "print('|      Best Hyper-Parameters      |')\n",
    "print('----------------------------------')\n",
    "print(best_run)\n",
    "print(best_model.summary())\n",
    "print(\"\\n\\n\")"
   ]
  },
  {
   "cell_type": "code",
   "execution_count": 88,
   "metadata": {},
   "outputs": [],
   "source": [
    "from sklearn.metrics import confusion_matrix\n",
    "\n",
    "true_values = [np.argmax(i)+1 for i in Y_test]\n",
    "predicted_prob = best_model.predict(X_test)\n",
    "predicted_values = [np.argmax(i)+1 for i in predicted_prob]\n",
    "\n",
    "\n",
    "label = [\"WALKING\", \"WALKING_UPSTAIRS\", \"WALKING_DOWNSTAIRS\", \"SITTING\", \"STANDING\", \"LYING\"]\n",
    "frame_confusion = pd.DataFrame(confusion_matrix(true_values, predicted_values), index = label, columns = label)\n"
   ]
  },
  {
   "cell_type": "code",
   "execution_count": 24,
   "metadata": {},
   "outputs": [
    {
     "data": {
      "image/png": "[encoded data removed]",
      "text/plain": [
       "<Figure size 432x288 with 2 Axes>"
      ]
     },
     "metadata": {
      "needs_background": "light"
     },
     "output_type": "display_data"
    }
   ],
   "source": [
    "import matplotlib.pyplot as plt\n",
    "import seaborn as sns\n",
    "sns.heatmap(frame_confusion, annot = True, fmt=\"d\", cmap=\"YlGnBu\", linewidths=.5)\n",
    "plt.title(\"Test confusion matrix\")\n",
    "plt.xlabel(\"Predicted Label\")\n",
    "plt.ylabel(\"True Label\")\n",
    "plt.show()"
   ]
  },
  {
   "cell_type": "markdown",
   "metadata": {},
   "source": [
    "## 2-Layer hyper parameter tuning"
   ]
  },
  {
   "cell_type": "code",
   "execution_count": 25,
   "metadata": {},
   "outputs": [],
   "source": [
    "def data():\n",
    "    x_train = np.load(\"./tmp/X_train.npy\")\n",
    "    y_train = np.load(\"./tmp/Y_train.npy\")\n",
    "    x_test = np.load(\"./tmp/X_test.npy\")\n",
    "    y_test = np.load(\"./tmp/Y_test.npy\")\n",
    "    return x_train, y_train, x_test, y_test"
   ]
  },
  {
   "cell_type": "code",
   "execution_count": 26,
   "metadata": {},
   "outputs": [],
   "source": [
    "from hyperopt import Trials, STATUS_OK, tpe\n",
    "from hyperas import optim\n",
    "from hyperas.distributions import choice, uniform\n",
    "\n",
    "# Reference - https://github.com/maxpumperla/hyperas\n",
    "\n",
    "def create_model(x_train, y_train, x_test, y_test):\n",
    "    \n",
    "    epochs = 30\n",
    "    batch_size = 16\n",
    "    timesteps = x_train.shape[1]\n",
    "    input_dim = len(x_train[0][0])\n",
    "    n_classes = 6\n",
    "    \n",
    "    model = Sequential()\n",
    "    model.add(LSTM(64, return_sequences = True, input_shape = (timesteps, input_dim)))\n",
    "    model.add(Dropout({{uniform(0, 1)}}))   \n",
    "    model.add(LSTM({{choice([64, 32, 16])}}))\n",
    "    model.add(Dropout({{uniform(0, 1)}}))\n",
    "    model.add(Dense(n_classes, activation='sigmoid'))\n",
    "    print(model.summary())\n",
    "    model.compile(loss='categorical_crossentropy', optimizer='rmsprop', metrics=['accuracy'])\n",
    "    # ... model fitting\n",
    "    \n",
    "    history = model.fit(x_train, y_train, batch_size = batch_size, epochs=epochs, verbose=2, validation_data=(x_test, y_test))\n",
    "    validation_acc = np.amax(history.history['val_acc'])\n",
    "    return {'loss': -validation_acc, 'status': STATUS_OK, 'model': model}"
   ]
  },
  {
   "cell_type": "code",
   "execution_count": 27,
   "metadata": {},
   "outputs": [
    {
     "name": "stdout",
     "output_type": "stream",
     "text": [
      ">>> Imports:\n",
      "#coding=utf-8\n",
      "\n",
      "try:\n",
      "    import pandas as pd\n",
      "except:\n",
      "    pass\n",
      "\n",
      "try:\n",
      "    import numpy as np\n",
      "except:\n",
      "    pass\n",
      "\n",
      "try:\n",
      "    import tensorflow as tf\n",
      "except:\n",
      "    pass\n",
      "\n",
      "try:\n",
      "    from keras import backend as K\n",
      "except:\n",
      "    pass\n",
      "\n",
      "try:\n",
      "    from keras.models import Sequential\n",
      "except:\n",
      "    pass\n",
      "\n",
      "try:\n",
      "    from keras.layers import LSTM\n",
      "except:\n",
      "    pass\n",
      "\n",
      "try:\n",
      "    from keras.layers.core import Dense, Dropout\n",
      "except:\n",
      "    pass\n",
      "\n",
      "try:\n",
      "    from hyperopt import Trials, STATUS_OK, tpe\n",
      "except:\n",
      "    pass\n",
      "\n",
      "try:\n",
      "    from hyperas import optim\n",
      "except:\n",
      "    pass\n",
      "\n",
      "try:\n",
      "    from hyperas.distributions import choice, uniform\n",
      "except:\n",
      "    pass\n",
      "\n",
      "try:\n",
      "    from sklearn.metrics import confusion_matrix\n",
      "except:\n",
      "    pass\n",
      "\n",
      "try:\n",
      "    import matplotlib.pyplot as plt\n",
      "except:\n",
      "    pass\n",
      "\n",
      "try:\n",
      "    import seaborn as sns\n",
      "except:\n",
      "    pass\n",
      "\n",
      "try:\n",
      "    from hyperopt import Trials, STATUS_OK, tpe\n",
      "except:\n",
      "    pass\n",
      "\n",
      "try:\n",
      "    from hyperas import optim\n",
      "except:\n",
      "    pass\n",
      "\n",
      "try:\n",
      "    from hyperas.distributions import choice, uniform\n",
      "except:\n",
      "    pass\n",
      "\n",
      ">>> Hyperas search space:\n",
      "\n",
      "def get_space():\n",
      "    return {\n",
      "        'Dropout': hp.uniform('Dropout', 0, 1),\n",
      "        'LSTM': hp.choice('LSTM', [64, 32, 16]),\n",
      "        'Dropout_1': hp.uniform('Dropout_1', 0, 1),\n",
      "    }\n",
      "\n",
      ">>> Data\n",
      "  1: \n",
      "  2: x_train = np.load(\"./tmp/X_train.npy\")\n",
      "  3: y_train = np.load(\"./tmp/Y_train.npy\")\n",
      "  4: x_test = np.load(\"./tmp/X_test.npy\")\n",
      "  5: y_test = np.load(\"./tmp/Y_test.npy\")\n",
      "  6: \n",
      "  7: \n",
      "  8: \n",
      ">>> Resulting replaced keras model:\n",
      "\n",
      "  1: def keras_fmin_fnct(space):\n",
      "  2: \n",
      "  3:     \n",
      "  4:     epochs = 30\n",
      "  5:     batch_size = 16\n",
      "  6:     timesteps = x_train.shape[1]\n",
      "  7:     input_dim = len(x_train[0][0])\n",
      "  8:     n_classes = 6\n",
      "  9:     \n",
      " 10:     model = Sequential()\n",
      " 11:     model.add(LSTM(64, return_sequences = True, input_shape = (timesteps, input_dim)))\n",
      " 12:     model.add(Dropout(space['Dropout']))   \n",
      " 13:     model.add(LSTM(space['LSTM']))\n",
      " 14:     model.add(Dropout(space['Dropout_1']))\n",
      " 15:     model.add(Dense(n_classes, activation='sigmoid'))\n",
      " 16:     print(model.summary())\n",
      " 17:     model.compile(loss='categorical_crossentropy', optimizer='rmsprop', metrics=['accuracy'])\n",
      " 18:     # ... model fitting\n",
      " 19:     \n",
      " 20:     history = model.fit(x_train, y_train, batch_size = batch_size, epochs=epochs, verbose=2, validation_data=(x_test, y_test))\n",
      " 21:     validation_acc = np.amax(history.history['val_acc'])\n",
      " 22:     return {'loss': -validation_acc, 'status': STATUS_OK, 'model': model}\n",
      " 23: \n",
      "  0%|          | 0/4 [00:00<?, ?it/s, best loss: ?]WARNING:tensorflow:From /usr/local/lib/python3.7/site-packages/tensorflow/python/framework/op_def_library.py:263: colocate_with (from tensorflow.python.framework.ops) is deprecated and will be removed in a future version.\n",
      "Instructions for updating:\n",
      "Colocations handled automatically by placer.\n",
      "WARNING:tensorflow:From /usr/local/lib/python3.7/site-packages/keras/backend/tensorflow_backend.py:3445: calling dropout (from tensorflow.python.ops.nn_ops) with keep_prob is deprecated and will be removed in a future version.\n",
      "Instructions for updating:\n",
      "Please use `rate` instead of `keep_prob`. Rate should be set to `rate = 1 - keep_prob`.\n",
      "_________________________________________________________________\n",
      "Layer (type)                 Output Shape              Param #   \n",
      "=================================================================\n",
      "lstm_1 (LSTM)                (None, 128, 64)           18944     \n",
      "_________________________________________________________________\n",
      "dropout_1 (Dropout)          (None, 128, 64)           0         \n",
      "_________________________________________________________________\n",
      "lstm_2 (LSTM)                (None, 16)                5184      \n",
      "_________________________________________________________________\n",
      "dropout_2 (Dropout)          (None, 16)                0         \n",
      "_________________________________________________________________\n",
      "dense_1 (Dense)              (None, 6)                 102       \n",
      "=================================================================\n",
      "Total params: 24,230                               \n",
      "Trainable params: 24,230                           \n",
      "Non-trainable params: 0                            \n",
      "_________________________________________________________________\n",
      "None                                               \n",
      "  0%|          | 0/4 [00:00<?, ?it/s, best loss: ?]WARNING:tensorflow:From /usr/local/lib/python3.7/site-packages/tensorflow/python/ops/math_ops.py:3066: to_int32 (from tensorflow.python.ops.math_ops) is deprecated and will be removed in a future version.\n",
      "Instructions for updating:\n",
      "Use tf.cast instead.\n",
      "Train on 7352 samples, validate on 2947 samples    \n",
      "Epoch 1/30                                         \n",
      " - 62s - loss: 1.3127 - acc: 0.4804 - val_loss: 1.1648 - val_acc: 0.5219\n",
      "\n",
      "Epoch 2/30                                         \n",
      " - 56s - loss: 0.9484 - acc: 0.6537 - val_loss: 0.9783 - val_acc: 0.6464\n",
      "\n",
      "Epoch 3/30                                         \n",
      " - 55s - loss: 0.6763 - acc: 0.7549 - val_loss: 0.6509 - val_acc: 0.7920\n",
      "\n",
      "Epoch 4/30                                         \n",
      " - 58s - loss: 0.5011 - acc: 0.8241 - val_loss: 0.4861 - val_acc: 0.8504\n",
      "\n",
      "Epoch 5/30                                         \n",
      " - 54s - loss: 0.4796 - acc: 0.8606 - val_loss: 0.6035 - val_acc: 0.7998\n",
      "\n",
      "Epoch 6/30                                         \n",
      " - 54s - loss: 0.3035 - acc: 0.9155 - val_loss: 0.4294 - val_acc: 0.8728\n",
      "\n",
      "Epoch 7/30                                         \n",
      " - 54s - loss: 0.2579 - acc: 0.9221 - val_loss: 0.3600 - val_acc: 0.8823\n",
      "\n",
      "Epoch 8/30                                         \n",
      " - 54s - loss: 0.2223 - acc: 0.9340 - val_loss: 0.4901 - val_acc: 0.8582\n",
      "\n",
      "Epoch 9/30                                         \n",
      " - 54s - loss: 0.1958 - acc: 0.9395 - val_loss: 0.2488 - val_acc: 0.8989\n",
      "\n",
      "Epoch 10/30                                        \n",
      " - 54s - loss: 0.2005 - acc: 0.9392 - val_loss: 0.3199 - val_acc: 0.9067\n",
      "\n",
      "Epoch 11/30                                        \n",
      " - 54s - loss: 0.2158 - acc: 0.9359 - val_loss: 0.2573 - val_acc: 0.9019\n",
      "\n",
      "Epoch 12/30                                        \n",
      " - 54s - loss: 0.2039 - acc: 0.9387 - val_loss: 0.3033 - val_acc: 0.9013\n",
      "\n",
      "Epoch 13/30                                        \n",
      " - 54s - loss: 0.1825 - acc: 0.9450 - val_loss: 0.5536 - val_acc: 0.8775\n",
      "\n",
      "Epoch 14/30                                        \n",
      " - 54s - loss: 0.1788 - acc: 0.9414 - val_loss: 0.3784 - val_acc: 0.9097\n",
      "\n",
      "Epoch 15/30                                        \n",
      " - 54s - loss: 0.1562 - acc: 0.9460 - val_loss: 0.3758 - val_acc: 0.9128\n",
      "\n",
      "Epoch 16/30                                        \n",
      " - 54s - loss: 0.1795 - acc: 0.9385 - val_loss: 0.4061 - val_acc: 0.8935\n",
      "\n",
      "Epoch 17/30                                        \n",
      " - 54s - loss: 0.1504 - acc: 0.9489 - val_loss: 0.3435 - val_acc: 0.9118\n",
      "\n",
      "Epoch 18/30                                        \n",
      " - 54s - loss: 0.1695 - acc: 0.9459 - val_loss: 0.3411 - val_acc: 0.9030\n",
      "\n",
      "Epoch 19/30                                        \n",
      " - 54s - loss: 0.1575 - acc: 0.9486 - val_loss: 0.4170 - val_acc: 0.9046\n",
      "\n",
      "Epoch 20/30                                        \n",
      " - 54s - loss: 0.1646 - acc: 0.9449 - val_loss: 0.3776 - val_acc: 0.9043\n",
      "\n",
      "Epoch 21/30                                        \n",
      " - 54s - loss: 0.1804 - acc: 0.9452 - val_loss: 0.5554 - val_acc: 0.8907\n",
      "\n",
      "Epoch 22/30                                        \n",
      " - 54s - loss: 0.1828 - acc: 0.9450 - val_loss: 0.4146 - val_acc: 0.9094\n",
      "\n",
      "Epoch 23/30                                        \n",
      " - 54s - loss: 0.1529 - acc: 0.9497 - val_loss: 0.3406 - val_acc: 0.9053\n",
      "\n",
      "Epoch 24/30                                        \n",
      " - 54s - loss: 0.1568 - acc: 0.9478 - val_loss: 0.2781 - val_acc: 0.9131\n",
      "\n",
      "Epoch 25/30                                        \n",
      " - 54s - loss: 0.1643 - acc: 0.9476 - val_loss: 0.4164 - val_acc: 0.9145\n",
      "\n",
      "Epoch 26/30                                        \n",
      " - 54s - loss: 0.1676 - acc: 0.9464 - val_loss: 0.6055 - val_acc: 0.8850\n",
      "\n",
      "Epoch 27/30                                        \n",
      " - 54s - loss: 0.1569 - acc: 0.9484 - val_loss: 0.4221 - val_acc: 0.9080\n",
      "\n",
      "Epoch 28/30                                        \n",
      " - 54s - loss: 0.1547 - acc: 0.9504 - val_loss: 0.3809 - val_acc: 0.9209\n",
      "\n",
      "Epoch 29/30                                        \n",
      " - 61s - loss: 0.1573 - acc: 0.9490 - val_loss: 0.4005 - val_acc: 0.9043\n",
      "\n",
      "Epoch 30/30                                        \n",
      " - 61s - loss: 0.1437 - acc: 0.9516 - val_loss: 0.4309 - val_acc: 0.9036\n",
      "\n",
      "_________________________________________________________________                \n",
      "Layer (type)                 Output Shape              Param #                   \n",
      "=================================================================                \n",
      "lstm_3 (LSTM)                (None, 128, 64)           18944                     \n",
      "_________________________________________________________________                \n",
      "dropout_3 (Dropout)          (None, 128, 64)           0                         \n",
      "_________________________________________________________________                \n",
      "lstm_4 (LSTM)                (None, 64)                33024                     \n",
      "_________________________________________________________________                \n",
      "dropout_4 (Dropout)          (None, 64)                0                         \n",
      "_________________________________________________________________                \n",
      "dense_2 (Dense)              (None, 6)                 390                       \n",
      "=================================================================                \n",
      "Total params: 52,358                                                             \n",
      "Trainable params: 52,358                                                         \n",
      "Non-trainable params: 0                                                          \n",
      "_________________________________________________________________                \n",
      "None                                                                             \n",
      "Train on 7352 samples, validate on 2947 samples                                  \n",
      "Epoch 1/30                                                                       \n",
      " - 66s - loss: 0.9916 - acc: 0.5793 - val_loss: 0.8720 - val_acc: 0.6505         \n",
      "\n",
      "Epoch 2/30                                                                       \n",
      " - 66s - loss: 0.6609 - acc: 0.7254 - val_loss: 0.6846 - val_acc: 0.7316         \n",
      "\n",
      "Epoch 3/30                                                                       \n",
      " - 62s - loss: 0.5587 - acc: 0.7884 - val_loss: 0.6722 - val_acc: 0.7574         \n",
      "\n",
      "Epoch 4/30                                                                       \n",
      " - 62s - loss: 0.3138 - acc: 0.8928 - val_loss: 0.4903 - val_acc: 0.8704         \n",
      "\n",
      "Epoch 5/30                                                                       \n",
      " - 74s - loss: 0.2322 - acc: 0.9172 - val_loss: 0.5107 - val_acc: 0.8629         \n",
      "\n",
      "Epoch 6/30                                                                       \n",
      " - 67s - loss: 0.2005 - acc: 0.9319 - val_loss: 0.4056 - val_acc: 0.8894         \n",
      "\n",
      "Epoch 7/30                                                                       \n",
      " - 62s - loss: 0.1804 - acc: 0.9365 - val_loss: 0.3649 - val_acc: 0.9118         \n",
      "\n",
      "Epoch 8/30                                                                       \n",
      " - 62s - loss: 0.1540 - acc: 0.9412 - val_loss: 0.3643 - val_acc: 0.8975         \n",
      "\n",
      "Epoch 9/30                                                                       \n",
      " - 62s - loss: 0.1663 - acc: 0.9410 - val_loss: 0.3895 - val_acc: 0.9094         \n",
      "\n",
      "Epoch 10/30                                                                      \n",
      " - 62s - loss: 0.1393 - acc: 0.9461 - val_loss: 0.4414 - val_acc: 0.8938         \n",
      "\n",
      "Epoch 11/30                                                                      \n",
      " - 62s - loss: 0.1432 - acc: 0.9474 - val_loss: 0.4058 - val_acc: 0.8985         \n",
      "\n",
      "Epoch 12/30                                                                      \n",
      " - 62s - loss: 0.1409 - acc: 0.9437 - val_loss: 0.3252 - val_acc: 0.9104         \n",
      "\n",
      "Epoch 13/30                                                                      \n",
      " - 62s - loss: 0.1384 - acc: 0.9471 - val_loss: 0.3467 - val_acc: 0.9192         \n",
      "\n",
      "Epoch 14/30                                                                      \n",
      " - 62s - loss: 0.1281 - acc: 0.9491 - val_loss: 0.3217 - val_acc: 0.9125         \n",
      "\n",
      "Epoch 15/30                                                                      \n",
      " - 62s - loss: 0.1332 - acc: 0.9502 - val_loss: 0.3704 - val_acc: 0.9074         \n",
      "\n",
      "Epoch 16/30                                                                      \n",
      " - 61s - loss: 0.1407 - acc: 0.9489 - val_loss: 0.3833 - val_acc: 0.8955         \n",
      "\n",
      "Epoch 17/30                                                                      \n",
      " - 62s - loss: 0.1409 - acc: 0.9472 - val_loss: 0.3830 - val_acc: 0.8890         \n",
      "\n",
      "Epoch 18/30                                                                      \n",
      " - 62s - loss: 0.1328 - acc: 0.9478 - val_loss: 0.4133 - val_acc: 0.9077         \n",
      "\n",
      "Epoch 19/30                                                                      \n",
      " - 62s - loss: 0.1359 - acc: 0.9479 - val_loss: 0.4291 - val_acc: 0.9036         \n",
      "\n",
      "Epoch 20/30                                                                      \n",
      " - 62s - loss: 0.1316 - acc: 0.9484 - val_loss: 0.4164 - val_acc: 0.9091         \n",
      "\n",
      "Epoch 21/30                                                                      \n",
      " - 62s - loss: 0.1283 - acc: 0.9513 - val_loss: 0.3921 - val_acc: 0.9125         \n",
      "\n",
      "Epoch 22/30                                                                      \n",
      " - 62s - loss: 0.1431 - acc: 0.9482 - val_loss: 0.4885 - val_acc: 0.9074         \n",
      "\n",
      "Epoch 23/30                                                                      \n",
      " - 62s - loss: 0.1279 - acc: 0.9540 - val_loss: 0.3809 - val_acc: 0.9087         \n",
      "\n",
      "Epoch 24/30                                                                      \n",
      " - 61s - loss: 0.1179 - acc: 0.9527 - val_loss: 0.4510 - val_acc: 0.9043         \n",
      "\n",
      "Epoch 25/30                                                                      \n",
      " - 62s - loss: 0.1361 - acc: 0.9483 - val_loss: 0.3269 - val_acc: 0.9264         \n",
      "\n",
      "Epoch 26/30                                                                      \n",
      " - 62s - loss: 0.1120 - acc: 0.9540 - val_loss: 0.3994 - val_acc: 0.9033         \n",
      "\n",
      "Epoch 27/30                                                                      \n",
      " - 62s - loss: 0.1322 - acc: 0.9524 - val_loss: 0.4926 - val_acc: 0.9046         \n",
      "\n",
      "Epoch 28/30                                                                      \n",
      " - 61s - loss: 0.1154 - acc: 0.9520 - val_loss: 0.4739 - val_acc: 0.9114         \n",
      "\n",
      "Epoch 29/30                                                                      \n",
      " - 62s - loss: 0.1154 - acc: 0.9548 - val_loss: 0.5415 - val_acc: 0.9091         \n",
      "\n",
      "Epoch 30/30                                                                      \n",
      " - 62s - loss: 0.1187 - acc: 0.9546 - val_loss: 0.5287 - val_acc: 0.8979         \n",
      "\n",
      "_________________________________________________________________                \n",
      "Layer (type)                 Output Shape              Param #                 \n",
      "=================================================================              \n",
      "lstm_5 (LSTM)                (None, 128, 64)           18944                   \n",
      "_________________________________________________________________              \n",
      "dropout_5 (Dropout)          (None, 128, 64)           0                       \n",
      "_________________________________________________________________              \n",
      "lstm_6 (LSTM)                (None, 32)                12416                   \n",
      "_________________________________________________________________              \n",
      "dropout_6 (Dropout)          (None, 32)                0                       \n",
      "_________________________________________________________________              \n",
      "dense_3 (Dense)              (None, 6)                 198                     \n",
      "=================================================================              \n",
      "Total params: 31,558                                                           \n",
      "Trainable params: 31,558                                                       \n",
      "Non-trainable params: 0                                                        \n",
      "_________________________________________________________________              \n",
      "None                                                                           \n"
     ]
    },
    {
     "name": "stdout",
     "output_type": "stream",
     "text": [
      "Train on 7352 samples, validate on 2947 samples                                \n",
      "Epoch 1/30                                                                     \n",
      " - 64s - loss: 1.3529 - acc: 0.4335 - val_loss: 1.1770 - val_acc: 0.4506       \n",
      "\n",
      "Epoch 2/30                                                                     \n",
      " - 56s - loss: 1.1150 - acc: 0.5148 - val_loss: 0.9697 - val_acc: 0.5938       \n",
      "\n",
      "Epoch 3/30                                                                       \n",
      " - 56s - loss: 0.9493 - acc: 0.6023 - val_loss: 0.8144 - val_acc: 0.6003         \n",
      "\n",
      "Epoch 4/30                                                                       \n",
      " - 56s - loss: 0.9392 - acc: 0.5913 - val_loss: 0.8347 - val_acc: 0.6040         \n",
      "\n",
      "Epoch 5/30                                                                       \n",
      " - 56s - loss: 0.8170 - acc: 0.6304 - val_loss: 0.7824 - val_acc: 0.6200         \n",
      "\n",
      "Epoch 6/30                                                                       \n",
      " - 56s - loss: 0.7682 - acc: 0.6348 - val_loss: 0.8184 - val_acc: 0.6064         \n",
      "\n",
      "Epoch 7/30                                                                       \n",
      " - 56s - loss: 0.7729 - acc: 0.6421 - val_loss: 0.7878 - val_acc: 0.6172         \n",
      "\n",
      "Epoch 8/30                                                                       \n",
      " - 56s - loss: 0.7577 - acc: 0.6420 - val_loss: 0.9185 - val_acc: 0.5948         \n",
      "\n",
      "Epoch 9/30                                                                       \n",
      " - 55s - loss: 0.7370 - acc: 0.6415 - val_loss: 0.7116 - val_acc: 0.6172         \n",
      "\n",
      "Epoch 10/30                                                                      \n",
      " - 55s - loss: 0.7343 - acc: 0.6480 - val_loss: 0.7171 - val_acc: 0.6200         \n",
      "\n",
      "Epoch 11/30                                                                      \n",
      " - 61s - loss: 0.6960 - acc: 0.6772 - val_loss: 0.6793 - val_acc: 0.6254         \n",
      "\n",
      "Epoch 12/30                                                                      \n",
      " - 57s - loss: 0.6638 - acc: 0.7142 - val_loss: 0.6380 - val_acc: 0.7234         \n",
      "\n",
      "Epoch 13/30                                                                      \n",
      " - 56s - loss: 0.6055 - acc: 0.7520 - val_loss: 0.5734 - val_acc: 0.7431         \n",
      "\n",
      "Epoch 14/30                                                                      \n",
      " - 56s - loss: 0.5477 - acc: 0.7590 - val_loss: 0.4681 - val_acc: 0.7665         \n",
      "\n",
      "Epoch 15/30                                                                      \n",
      " - 56s - loss: 0.5308 - acc: 0.7769 - val_loss: 0.5356 - val_acc: 0.8371         \n",
      "\n",
      "Epoch 16/30                                                                      \n",
      " - 68s - loss: 0.4842 - acc: 0.8097 - val_loss: 0.5060 - val_acc: 0.8778         \n",
      "\n",
      "Epoch 17/30                                                                      \n",
      " - 58s - loss: 0.4489 - acc: 0.8478 - val_loss: 0.4826 - val_acc: 0.8802         \n",
      "\n",
      "Epoch 18/30                                                                      \n",
      " - 56s - loss: 0.4155 - acc: 0.8672 - val_loss: 0.5634 - val_acc: 0.8823         \n",
      "\n",
      "Epoch 19/30                                                                      \n",
      " - 56s - loss: 0.3703 - acc: 0.8875 - val_loss: 0.4773 - val_acc: 0.8799         \n",
      "\n",
      "Epoch 20/30                                                                      \n",
      " - 56s - loss: 0.3632 - acc: 0.8876 - val_loss: 0.2716 - val_acc: 0.9141         \n",
      "\n",
      "Epoch 21/30                                                                      \n",
      " - 56s - loss: 0.3319 - acc: 0.8993 - val_loss: 0.5872 - val_acc: 0.8748         \n",
      "\n",
      "Epoch 22/30                                                                      \n",
      " - 56s - loss: 0.3055 - acc: 0.9076 - val_loss: 0.5115 - val_acc: 0.8928         \n",
      "\n",
      "Epoch 23/30                                                                      \n",
      " - 56s - loss: 0.3275 - acc: 0.9049 - val_loss: 0.3554 - val_acc: 0.8839         \n",
      "\n",
      "Epoch 24/30                                                                      \n",
      " - 56s - loss: 0.3300 - acc: 0.8999 - val_loss: 0.4766 - val_acc: 0.8863         \n",
      "\n",
      "Epoch 25/30                                                                      \n",
      " - 56s - loss: 0.2933 - acc: 0.9120 - val_loss: 0.4058 - val_acc: 0.9138         \n",
      "\n",
      "Epoch 26/30                                                                      \n",
      " - 56s - loss: 0.2925 - acc: 0.9124 - val_loss: 0.4290 - val_acc: 0.8968         \n",
      "\n",
      "Epoch 27/30                                                                      \n",
      " - 56s - loss: 0.3199 - acc: 0.9079 - val_loss: 0.4157 - val_acc: 0.9108         \n",
      "\n",
      "Epoch 28/30                                                                      \n",
      " - 56s - loss: nan - acc: 0.5215 - val_loss: nan - val_acc: 0.1683               \n",
      "\n",
      "Epoch 29/30                                                                      \n",
      " - 55s - loss: nan - acc: 0.1668 - val_loss: nan - val_acc: 0.1683               \n",
      "\n",
      "Epoch 30/30                                                                      \n",
      " - 56s - loss: nan - acc: 0.1668 - val_loss: nan - val_acc: 0.1683               \n",
      "\n",
      "_________________________________________________________________                \n",
      "Layer (type)                 Output Shape              Param #                   \n",
      "=================================================================                \n",
      "lstm_7 (LSTM)                (None, 128, 64)           18944                     \n",
      "_________________________________________________________________                \n",
      "dropout_7 (Dropout)          (None, 128, 64)           0                         \n",
      "_________________________________________________________________                \n",
      "lstm_8 (LSTM)                (None, 32)                12416                     \n",
      "_________________________________________________________________                \n",
      "dropout_8 (Dropout)          (None, 32)                0                         \n",
      "_________________________________________________________________                \n",
      "dense_4 (Dense)              (None, 6)                 198                       \n",
      "=================================================================                \n",
      "Total params: 31,558                                                             \n",
      "Trainable params: 31,558                                                         \n",
      "Non-trainable params: 0                                                          \n",
      "_________________________________________________________________                \n",
      "None                                                                             \n",
      "Train on 7352 samples, validate on 2947 samples                                  \n",
      "Epoch 1/30                                                                       \n",
      " - 58s - loss: 1.2752 - acc: 0.4599 - val_loss: 1.3730 - val_acc: 0.4170         \n",
      "\n",
      "Epoch 2/30                                                                       \n",
      " - 58s - loss: 1.0810 - acc: 0.5117 - val_loss: 1.0145 - val_acc: 0.5433         \n",
      "\n",
      "Epoch 3/30                                                                       \n",
      " - 56s - loss: 0.8354 - acc: 0.6215 - val_loss: 0.8804 - val_acc: 0.6037         \n",
      "\n",
      "Epoch 4/30                                                                       \n",
      " - 56s - loss: 0.7491 - acc: 0.6470 - val_loss: 0.8693 - val_acc: 0.5959         \n",
      "\n",
      "Epoch 5/30                                                                       \n",
      " - 69s - loss: 0.6308 - acc: 0.7397 - val_loss: 0.5886 - val_acc: 0.8147         \n",
      "\n",
      "Epoch 6/30                                                                       \n",
      " - 61s - loss: 0.4636 - acc: 0.8473 - val_loss: 0.4611 - val_acc: 0.8558         \n",
      "\n",
      "Epoch 7/30                                                                       \n",
      " - 57s - loss: 0.3468 - acc: 0.8998 - val_loss: 0.3941 - val_acc: 0.8734         \n",
      "\n",
      "Epoch 8/30                                                                       \n",
      " - 56s - loss: 0.2703 - acc: 0.9212 - val_loss: 0.3566 - val_acc: 0.8880         \n",
      "\n",
      "Epoch 9/30                                                                       \n",
      " - 56s - loss: 0.2458 - acc: 0.9226 - val_loss: 0.4413 - val_acc: 0.8914         \n",
      "\n",
      "Epoch 10/30                                                                      \n",
      " - 55s - loss: 0.2225 - acc: 0.9335 - val_loss: 0.6937 - val_acc: 0.8561         \n",
      "\n",
      "Epoch 11/30                                                                      \n",
      " - 56s - loss: 0.2051 - acc: 0.9335 - val_loss: 0.3882 - val_acc: 0.8968         \n",
      "\n",
      "Epoch 12/30                                                                      \n",
      " - 56s - loss: 0.1787 - acc: 0.9404 - val_loss: 0.4525 - val_acc: 0.9030         \n",
      "\n",
      "Epoch 13/30                                                                      \n",
      " - 56s - loss: 0.1790 - acc: 0.9433 - val_loss: 0.3438 - val_acc: 0.9013         \n",
      "\n",
      "Epoch 14/30                                                                      \n",
      " - 56s - loss: 0.1593 - acc: 0.9478 - val_loss: 0.3606 - val_acc: 0.9121         \n",
      "\n",
      "Epoch 15/30                                                                      \n",
      " - 62s - loss: 0.1641 - acc: 0.9465 - val_loss: 0.2942 - val_acc: 0.9165         \n",
      "\n",
      "Epoch 16/30                                                                      \n",
      " - 55s - loss: 0.1586 - acc: 0.9474 - val_loss: 0.3616 - val_acc: 0.9108         \n",
      "\n",
      "Epoch 17/30                                                                      \n",
      " - 53s - loss: 0.1548 - acc: 0.9468 - val_loss: 0.2793 - val_acc: 0.9057         \n",
      "\n",
      "Epoch 18/30                                                                      \n",
      " - 58s - loss: 0.1704 - acc: 0.9384 - val_loss: 0.4071 - val_acc: 0.9169         \n",
      "\n",
      "Epoch 19/30                                                                      \n",
      " - 54s - loss: 0.1673 - acc: 0.9416 - val_loss: 0.3712 - val_acc: 0.9006         \n",
      "\n",
      "Epoch 20/30                                                                      \n",
      " - 54s - loss: 0.1497 - acc: 0.9472 - val_loss: 0.3156 - val_acc: 0.9070         \n",
      "\n",
      "Epoch 21/30                                                                      \n",
      " - 54s - loss: 0.1663 - acc: 0.9425 - val_loss: 0.3463 - val_acc: 0.9101         \n",
      "\n",
      "Epoch 22/30                                                                      \n",
      " - 54s - loss: 0.1522 - acc: 0.9478 - val_loss: 0.3250 - val_acc: 0.9138         \n",
      "\n",
      "Epoch 23/30                                                                      \n",
      " - 54s - loss: 0.1453 - acc: 0.9504 - val_loss: 0.4112 - val_acc: 0.9148         \n",
      "\n",
      "Epoch 24/30                                                                      \n",
      " - 54s - loss: 0.1401 - acc: 0.9505 - val_loss: 0.3780 - val_acc: 0.9128         \n",
      "\n",
      "Epoch 25/30                                                                      \n",
      " - 54s - loss: 0.1399 - acc: 0.9504 - val_loss: 0.3477 - val_acc: 0.9077         \n",
      "\n",
      "Epoch 26/30                                                                      \n",
      " - 55s - loss: 0.1380 - acc: 0.9484 - val_loss: 0.4284 - val_acc: 0.9118         \n",
      "\n",
      "Epoch 27/30                                                                      \n",
      " - 55s - loss: 0.1452 - acc: 0.9516 - val_loss: 0.3416 - val_acc: 0.9097         \n",
      "\n",
      "Epoch 28/30                                                                      \n",
      " - 55s - loss: 0.1477 - acc: 0.9499 - val_loss: 0.4400 - val_acc: 0.9040         \n",
      "\n",
      "Epoch 29/30                                                                      \n",
      " - 56s - loss: 0.1476 - acc: 0.9494 - val_loss: 0.4360 - val_acc: 0.9138         \n",
      "\n",
      "Epoch 30/30                                                                      \n",
      " - 55s - loss: 0.1419 - acc: 0.9472 - val_loss: 0.3898 - val_acc: 0.9192         \n",
      "\n",
      "100%|██████████| 4/4 [1:55:21<00:00, 1706.09s/it, best loss: -0.9263657957244655]\n",
      "2947/2947 [==============================] - 3s 1ms/step\n"
     ]
    }
   ],
   "source": [
    "best_run, best_model = optim.minimize(model=create_model, data=data, algo=tpe.suggest, max_evals=4, trials=Trials(), notebook_name = \"HAR_LSTM\")\n",
    "score = best_model.evaluate(X_test, Y_test)"
   ]
  },
  {
   "cell_type": "code",
   "execution_count": 28,
   "metadata": {},
   "outputs": [
    {
     "name": "stdout",
     "output_type": "stream",
     "text": [
      "---------------------\n",
      "|      Accuracy      |\n",
      "---------------------\n",
      "89.79%\n",
      "\n",
      "----------------------------------\n",
      "|      Best Hyper-Parameters      |\n",
      "----------------------------------\n",
      "{'Dropout': 0.42522861686845626, 'Dropout_1': 0.23316134447477344, 'LSTM': 0}\n",
      "_________________________________________________________________\n",
      "Layer (type)                 Output Shape              Param #   \n",
      "=================================================================\n",
      "lstm_3 (LSTM)                (None, 128, 64)           18944     \n",
      "_________________________________________________________________\n",
      "dropout_3 (Dropout)          (None, 128, 64)           0         \n",
      "_________________________________________________________________\n",
      "lstm_4 (LSTM)                (None, 64)                33024     \n",
      "_________________________________________________________________\n",
      "dropout_4 (Dropout)          (None, 64)                0         \n",
      "_________________________________________________________________\n",
      "dense_2 (Dense)              (None, 6)                 390       \n",
      "=================================================================\n",
      "Total params: 52,358\n",
      "Trainable params: 52,358\n",
      "Non-trainable params: 0\n",
      "_________________________________________________________________\n",
      "None\n",
      "\n",
      "\n",
      "\n"
     ]
    }
   ],
   "source": [
    "print('---------------------')\n",
    "print('|      Accuracy      |')\n",
    "print('---------------------')\n",
    "acc = np.round((score[1]*100), 2)\n",
    "print(str(acc)+\"%\\n\")\n",
    "    \n",
    "print('----------------------------------')\n",
    "print('|      Best Hyper-Parameters      |')\n",
    "print('----------------------------------')\n",
    "print(best_run)\n",
    "print(best_model.summary())\n",
    "print(\"\\n\\n\")"
   ]
  },
  {
   "cell_type": "code",
   "execution_count": 29,
   "metadata": {},
   "outputs": [],
   "source": [
    "from sklearn.metrics import confusion_matrix\n",
    "\n",
    "true_values = [np.argmax(i)+1 for i in Y_test]\n",
    "predicted_prob = best_model.predict(X_test)\n",
    "predicted_values = [np.argmax(i)+1 for i in predicted_prob]\n",
    "\n",
    "\n",
    "label = [\"WALKING\", \"WALKING_UPSTAIRS\", \"WALKING_DOWNSTAIRS\", \"SITTING\", \"STANDING\", \"LYING\"]\n",
    "frame_confusion = pd.DataFrame(confusion_matrix(true_values, predicted_values), index = label, columns = label)"
   ]
  },
  {
   "cell_type": "code",
   "execution_count": 30,
   "metadata": {},
   "outputs": [
    {
     "data": {
      "image/png": "[encoded data removed]",
      "text/plain": [
       "<Figure size 432x288 with 2 Axes>"
      ]
     },
     "metadata": {
      "needs_background": "light"
     },
     "output_type": "display_data"
    }
   ],
   "source": [
    "sns.heatmap(frame_confusion, annot = True, fmt=\"d\", cmap=\"YlGnBu\", linewidths=.5)\n",
    "plt.title(\"Test confusion matrix\")\n",
    "plt.xlabel(\"Predicted Label\")\n",
    "plt.ylabel(\"True Label\")\n",
    "plt.show()"
   ]
  },
  {
   "cell_type": "markdown",
   "metadata": {},
   "source": [
    "## CNN"
   ]
  },
  {
   "cell_type": "code",
   "execution_count": 21,
   "metadata": {},
   "outputs": [
    {
     "name": "stdout",
     "output_type": "stream",
     "text": [
      "WARNING:tensorflow:From /usr/local/lib/python3.7/site-packages/keras/backend/tensorflow_backend.py:3445: calling dropout (from tensorflow.python.ops.nn_ops) with keep_prob is deprecated and will be removed in a future version.\n",
      "Instructions for updating:\n",
      "Please use `rate` instead of `keep_prob`. Rate should be set to `rate = 1 - keep_prob`.\n",
      "_________________________________________________________________\n",
      "Layer (type)                 Output Shape              Param #   \n",
      "=================================================================\n",
      "conv1d_4 (Conv1D)            (None, 126, 32)           896       \n",
      "_________________________________________________________________\n",
      "conv1d_5 (Conv1D)            (None, 124, 64)           6208      \n",
      "_________________________________________________________________\n",
      "max_pooling1d_1 (MaxPooling1 (None, 62, 64)            0         \n",
      "_________________________________________________________________\n",
      "dropout_1 (Dropout)          (None, 62, 64)            0         \n",
      "_________________________________________________________________\n",
      "flatten_1 (Flatten)          (None, 3968)              0         \n",
      "_________________________________________________________________\n",
      "dense_1 (Dense)              (None, 128)               508032    \n",
      "_________________________________________________________________\n",
      "dropout_2 (Dropout)          (None, 128)               0         \n",
      "_________________________________________________________________\n",
      "dense_2 (Dense)              (None, 6)                 774       \n",
      "=================================================================\n",
      "Total params: 515,910\n",
      "Trainable params: 515,910\n",
      "Non-trainable params: 0\n",
      "_________________________________________________________________\n"
     ]
    }
   ],
   "source": [
    "# Initiliazing the sequential model\n",
    "model = Sequential()\n",
    "# Configuring the parameters\n",
    "model.add(Conv1D(32, kernel_size=(3),\n",
    "                 activation='relu',\n",
    "                 input_shape=(timesteps, input_dim)))\n",
    "model.add(Conv1D(64, (3), activation='relu'))\n",
    "model.add(MaxPooling1D(pool_size=(2)))\n",
    "# Adding a dropout layer\n",
    "model.add(Dropout(0.25))\n",
    "model.add(Flatten())\n",
    "model.add(Dense(128, activation='relu'))\n",
    "model.add(Dropout(0.5))\n",
    "# Adding a dense output layer with sigmoid activation\n",
    "model.add(Dense(n_classes, activation='softmax'))\n",
    "model.summary()"
   ]
  },
  {
   "cell_type": "code",
   "execution_count": 22,
   "metadata": {},
   "outputs": [],
   "source": [
    "model.compile(loss='categorical_crossentropy',\n",
    "              optimizer='rmsprop',\n",
    "              metrics=['accuracy'])"
   ]
  },
  {
   "cell_type": "code",
   "execution_count": 23,
   "metadata": {},
   "outputs": [
    {
     "name": "stdout",
     "output_type": "stream",
     "text": [
      "WARNING:tensorflow:From /usr/local/lib/python3.7/site-packages/tensorflow/python/ops/math_ops.py:3066: to_int32 (from tensorflow.python.ops.math_ops) is deprecated and will be removed in a future version.\n",
      "Instructions for updating:\n",
      "Use tf.cast instead.\n",
      "Train on 7352 samples, validate on 2947 samples\n",
      "Epoch 1/30\n",
      "7352/7352 [==============================] - 5s 734us/step - loss: 0.4459 - acc: 0.8256 - val_loss: 0.6001 - val_acc: 0.8504\n",
      "Epoch 2/30\n",
      "7352/7352 [==============================] - 5s 697us/step - loss: 0.1729 - acc: 0.9335 - val_loss: 0.5595 - val_acc: 0.8809\n",
      "Epoch 3/30\n",
      "7352/7352 [==============================] - 7s 931us/step - loss: 0.1384 - acc: 0.9463 - val_loss: 0.5038 - val_acc: 0.8918\n",
      "Epoch 4/30\n",
      "7352/7352 [==============================] - 5s 744us/step - loss: 0.1313 - acc: 0.9479 - val_loss: 0.5545 - val_acc: 0.9043\n",
      "Epoch 5/30\n",
      "7352/7352 [==============================] - 9s 1ms/step - loss: 0.1300 - acc: 0.9487 - val_loss: 0.5064 - val_acc: 0.8945\n",
      "Epoch 6/30\n",
      "7352/7352 [==============================] - 6s 799us/step - loss: 0.1251 - acc: 0.9501 - val_loss: 0.5968 - val_acc: 0.9019\n",
      "Epoch 7/30\n",
      "7352/7352 [==============================] - 5s 669us/step - loss: 0.1130 - acc: 0.9548 - val_loss: 0.6791 - val_acc: 0.8904\n",
      "Epoch 8/30\n",
      "7352/7352 [==============================] - 6s 864us/step - loss: 0.1288 - acc: 0.9559 - val_loss: 0.5973 - val_acc: 0.9019\n",
      "Epoch 9/30\n",
      "7352/7352 [==============================] - 6s 791us/step - loss: 0.1064 - acc: 0.9557 - val_loss: 0.5702 - val_acc: 0.9138\n",
      "Epoch 10/30\n",
      "7352/7352 [==============================] - 6s 772us/step - loss: 0.1134 - acc: 0.9600 - val_loss: 0.7175 - val_acc: 0.8775\n",
      "Epoch 11/30\n",
      "7352/7352 [==============================] - 7s 889us/step - loss: 0.1101 - acc: 0.9593 - val_loss: 0.5762 - val_acc: 0.9111\n",
      "Epoch 12/30\n",
      "7352/7352 [==============================] - 6s 814us/step - loss: 0.1041 - acc: 0.9612 - val_loss: 0.6469 - val_acc: 0.8968\n",
      "Epoch 13/30\n",
      "7352/7352 [==============================] - 6s 811us/step - loss: 0.1049 - acc: 0.9614 - val_loss: 0.8040 - val_acc: 0.8656\n",
      "Epoch 14/30\n",
      "7352/7352 [==============================] - 6s 809us/step - loss: 0.1071 - acc: 0.9606 - val_loss: 0.7094 - val_acc: 0.8867\n",
      "Epoch 15/30\n",
      "7352/7352 [==============================] - 6s 812us/step - loss: 0.1341 - acc: 0.9580 - val_loss: 0.6005 - val_acc: 0.9077\n",
      "Epoch 16/30\n",
      "7352/7352 [==============================] - 6s 806us/step - loss: 0.1160 - acc: 0.9597 - val_loss: 0.7558 - val_acc: 0.8962\n",
      "Epoch 17/30\n",
      "7352/7352 [==============================] - 6s 810us/step - loss: 0.1091 - acc: 0.9600 - val_loss: 0.7779 - val_acc: 0.8962\n",
      "Epoch 18/30\n",
      "7352/7352 [==============================] - 6s 808us/step - loss: 0.1200 - acc: 0.9601 - val_loss: 0.7154 - val_acc: 0.8938\n",
      "Epoch 19/30\n",
      "7352/7352 [==============================] - 6s 810us/step - loss: 0.1220 - acc: 0.9597 - val_loss: 0.8599 - val_acc: 0.8795\n",
      "Epoch 20/30\n",
      "7352/7352 [==============================] - 6s 804us/step - loss: 0.1163 - acc: 0.9584 - val_loss: 1.0634 - val_acc: 0.8809\n",
      "Epoch 21/30\n",
      "7352/7352 [==============================] - 6s 808us/step - loss: 0.1389 - acc: 0.9578 - val_loss: 0.8886 - val_acc: 0.8989\n",
      "Epoch 22/30\n",
      "7352/7352 [==============================] - 6s 804us/step - loss: 0.1366 - acc: 0.9612 - val_loss: 0.8346 - val_acc: 0.9050\n",
      "Epoch 23/30\n",
      "7352/7352 [==============================] - 6s 803us/step - loss: 0.1625 - acc: 0.9596 - val_loss: 1.0125 - val_acc: 0.8887\n",
      "Epoch 24/30\n",
      "7352/7352 [==============================] - 6s 805us/step - loss: 0.1763 - acc: 0.9544 - val_loss: 1.1151 - val_acc: 0.8700\n",
      "Epoch 25/30\n",
      "7352/7352 [==============================] - 6s 806us/step - loss: 0.1820 - acc: 0.9542 - val_loss: 0.9204 - val_acc: 0.8924\n",
      "Epoch 26/30\n",
      "7352/7352 [==============================] - 6s 810us/step - loss: 0.2264 - acc: 0.9546 - val_loss: 1.1435 - val_acc: 0.8704\n",
      "Epoch 27/30\n",
      "7352/7352 [==============================] - 6s 804us/step - loss: 0.2382 - acc: 0.9548 - val_loss: 1.4356 - val_acc: 0.8663\n",
      "Epoch 28/30\n",
      "7352/7352 [==============================] - 6s 804us/step - loss: 0.2521 - acc: 0.9518 - val_loss: 1.0517 - val_acc: 0.8836\n",
      "Epoch 29/30\n",
      "7352/7352 [==============================] - 6s 804us/step - loss: 0.2617 - acc: 0.9520 - val_loss: 0.9957 - val_acc: 0.8846\n",
      "Epoch 30/30\n",
      "7352/7352 [==============================] - 6s 807us/step - loss: 0.4054 - acc: 0.9450 - val_loss: 1.7297 - val_acc: 0.8409\n"
     ]
    },
    {
     "data": {
      "text/plain": [
       "<keras.callbacks.History at 0x11e2ac5f8>"
      ]
     },
     "execution_count": 23,
     "metadata": {},
     "output_type": "execute_result"
    }
   ],
   "source": [
    "model.fit(X_train,\n",
    "          Y_train,\n",
    "          batch_size=batch_size,\n",
    "          validation_data=(X_test, Y_test),\n",
    "          epochs=epochs)"
   ]
  },
  {
   "cell_type": "code",
   "execution_count": 27,
   "metadata": {},
   "outputs": [
    {
     "name": "stdout",
     "output_type": "stream",
     "text": [
      "Pred                LAYING  SITTING  STANDING  WALKING  WALKING_DOWNSTAIRS  \\\n",
      "True                                                                         \n",
      "LAYING                 536        0         0        0                   0   \n",
      "SITTING                  0      383       105        0                   0   \n",
      "STANDING                 1       64       461        2                   0   \n",
      "WALKING                  0        0         0      490                   4   \n",
      "WALKING_DOWNSTAIRS       0        0         0       95                 295   \n",
      "WALKING_UPSTAIRS         0        0         0       37                  25   \n",
      "\n",
      "Pred                WALKING_UPSTAIRS  \n",
      "True                                  \n",
      "LAYING                             1  \n",
      "SITTING                            3  \n",
      "STANDING                           4  \n",
      "WALKING                            2  \n",
      "WALKING_DOWNSTAIRS                30  \n",
      "WALKING_UPSTAIRS                 409  \n"
     ]
    }
   ],
   "source": [
    "print(confusion_matrix(Y_test, model.predict(X_test)))"
   ]
  },
  {
   "cell_type": "code",
   "execution_count": 28,
   "metadata": {},
   "outputs": [
    {
     "name": "stdout",
     "output_type": "stream",
     "text": [
      "2947/2947 [==============================] - 2s 800us/step\n"
     ]
    }
   ],
   "source": [
    "score = model.evaluate(X_test, Y_test)"
   ]
  },
  {
   "cell_type": "code",
   "execution_count": 29,
   "metadata": {},
   "outputs": [
    {
     "data": {
      "text/plain": [
       "[1.9993040630948475, 0.8734306073973532]"
      ]
     },
     "execution_count": 29,
     "metadata": {},
     "output_type": "execute_result"
    }
   ],
   "source": [
    "score"
   ]
  },
  {
   "cell_type": "code",
   "execution_count": 24,
   "metadata": {},
   "outputs": [
    {
     "name": "stdout",
     "output_type": "stream",
     "text": [
      "_________________________________________________________________\n",
      "Layer (type)                 Output Shape              Param #   \n",
      "=================================================================\n",
      "conv1d_6 (Conv1D)            (None, 126, 64)           1792      \n",
      "_________________________________________________________________\n",
      "max_pooling1d_2 (MaxPooling1 (None, 63, 64)            0         \n",
      "_________________________________________________________________\n",
      "conv1d_7 (Conv1D)            (None, 61, 64)            12352     \n",
      "_________________________________________________________________\n",
      "dropout_3 (Dropout)          (None, 61, 64)            0         \n",
      "_________________________________________________________________\n",
      "flatten_2 (Flatten)          (None, 3904)              0         \n",
      "_________________________________________________________________\n",
      "dense_3 (Dense)              (None, 6)                 23430     \n",
      "=================================================================\n",
      "Total params: 37,574\n",
      "Trainable params: 37,574\n",
      "Non-trainable params: 0\n",
      "_________________________________________________________________\n"
     ]
    }
   ],
   "source": [
    "model = Sequential()\n",
    "# Configuring the parameters\n",
    "model.add(Conv1D(64, kernel_size=(3),\n",
    "                 activation='relu',\n",
    "                 input_shape=(timesteps, input_dim)))\n",
    "model.add(MaxPooling1D(pool_size=(2)))\n",
    "model.add(Conv1D(64, (3), activation='relu'))\n",
    "# Adding a dropout layer\n",
    "model.add(Dropout(0.25))\n",
    "model.add(Flatten())\n",
    "# Adding a dense output layer with sigmoid activation\n",
    "model.add(Dense(n_classes, activation='softmax'))\n",
    "model.summary()"
   ]
  },
  {
   "cell_type": "code",
   "execution_count": 25,
   "metadata": {},
   "outputs": [],
   "source": [
    "model.compile(loss='categorical_crossentropy',\n",
    "              optimizer='rmsprop',\n",
    "              metrics=['accuracy'])"
   ]
  },
  {
   "cell_type": "code",
   "execution_count": 26,
   "metadata": {},
   "outputs": [
    {
     "name": "stdout",
     "output_type": "stream",
     "text": [
      "Train on 7352 samples, validate on 2947 samples\n",
      "Epoch 1/30\n",
      "7352/7352 [==============================] - 4s 527us/step - loss: 0.3983 - acc: 0.8419 - val_loss: 0.5101 - val_acc: 0.8711\n",
      "Epoch 2/30\n",
      "7352/7352 [==============================] - 4s 488us/step - loss: 0.1480 - acc: 0.9419 - val_loss: 0.5742 - val_acc: 0.8911\n",
      "Epoch 3/30\n",
      "7352/7352 [==============================] - 4s 490us/step - loss: 0.1239 - acc: 0.9475 - val_loss: 0.4594 - val_acc: 0.8955\n",
      "Epoch 4/30\n",
      "7352/7352 [==============================] - 4s 490us/step - loss: 0.1093 - acc: 0.9554 - val_loss: 0.5108 - val_acc: 0.9111\n",
      "Epoch 5/30\n",
      "7352/7352 [==============================] - 4s 490us/step - loss: 0.0999 - acc: 0.9570 - val_loss: 0.5746 - val_acc: 0.8948\n",
      "Epoch 6/30\n",
      "7352/7352 [==============================] - 4s 491us/step - loss: 0.0921 - acc: 0.9588 - val_loss: 0.5230 - val_acc: 0.8996\n",
      "Epoch 7/30\n",
      "7352/7352 [==============================] - 4s 493us/step - loss: 0.0870 - acc: 0.9634 - val_loss: 0.4725 - val_acc: 0.9175\n",
      "Epoch 8/30\n",
      "7352/7352 [==============================] - 4s 494us/step - loss: 0.0836 - acc: 0.9630 - val_loss: 0.6286 - val_acc: 0.9145\n",
      "Epoch 9/30\n",
      "7352/7352 [==============================] - 4s 495us/step - loss: 0.0867 - acc: 0.9638 - val_loss: 0.5641 - val_acc: 0.9074\n",
      "Epoch 10/30\n",
      "7352/7352 [==============================] - 4s 497us/step - loss: 0.0788 - acc: 0.9687 - val_loss: 0.5927 - val_acc: 0.9053\n",
      "Epoch 11/30\n",
      "7352/7352 [==============================] - 4s 497us/step - loss: 0.0779 - acc: 0.9674 - val_loss: 0.6771 - val_acc: 0.8968\n",
      "Epoch 12/30\n",
      "7352/7352 [==============================] - 4s 498us/step - loss: 0.0856 - acc: 0.9687 - val_loss: 0.5735 - val_acc: 0.9206\n",
      "Epoch 13/30\n",
      "7352/7352 [==============================] - 4s 500us/step - loss: 0.0822 - acc: 0.9683 - val_loss: 0.5932 - val_acc: 0.9101\n",
      "Epoch 14/30\n",
      "7352/7352 [==============================] - 4s 500us/step - loss: 0.0732 - acc: 0.9733 - val_loss: 0.7964 - val_acc: 0.8806\n",
      "Epoch 15/30\n",
      "7352/7352 [==============================] - 4s 500us/step - loss: 0.0742 - acc: 0.9732 - val_loss: 0.6334 - val_acc: 0.9135\n",
      "Epoch 16/30\n",
      "7352/7352 [==============================] - 4s 501us/step - loss: 0.0721 - acc: 0.9744 - val_loss: 0.5987 - val_acc: 0.9074\n",
      "Epoch 17/30\n",
      "7352/7352 [==============================] - 4s 504us/step - loss: 0.0716 - acc: 0.9770 - val_loss: 0.5897 - val_acc: 0.9111\n",
      "Epoch 18/30\n",
      "7352/7352 [==============================] - 4s 504us/step - loss: 0.0702 - acc: 0.9757 - val_loss: 0.7060 - val_acc: 0.9033\n",
      "Epoch 19/30\n",
      "7352/7352 [==============================] - 4s 502us/step - loss: 0.0680 - acc: 0.9761 - val_loss: 0.6298 - val_acc: 0.8931\n",
      "Epoch 20/30\n",
      "7352/7352 [==============================] - 4s 506us/step - loss: 0.0675 - acc: 0.9762 - val_loss: 0.6838 - val_acc: 0.9087\n",
      "Epoch 21/30\n",
      "7352/7352 [==============================] - 4s 505us/step - loss: 0.0766 - acc: 0.9773 - val_loss: 0.6224 - val_acc: 0.9111\n",
      "Epoch 22/30\n",
      "7352/7352 [==============================] - 4s 502us/step - loss: 0.0682 - acc: 0.9784 - val_loss: 0.6149 - val_acc: 0.9050\n",
      "Epoch 23/30\n",
      "7352/7352 [==============================] - 4s 503us/step - loss: 0.0702 - acc: 0.9778 - val_loss: 0.5445 - val_acc: 0.9220\n",
      "Epoch 24/30\n",
      "7352/7352 [==============================] - 4s 503us/step - loss: 0.0630 - acc: 0.9801 - val_loss: 0.5698 - val_acc: 0.9287\n",
      "Epoch 25/30\n",
      "7352/7352 [==============================] - 4s 503us/step - loss: 0.0653 - acc: 0.9799 - val_loss: 0.6066 - val_acc: 0.9172\n",
      "Epoch 26/30\n",
      "7352/7352 [==============================] - 4s 505us/step - loss: 0.0545 - acc: 0.9814 - val_loss: 0.6469 - val_acc: 0.9243\n",
      "Epoch 27/30\n",
      "7352/7352 [==============================] - 4s 503us/step - loss: 0.0609 - acc: 0.9810 - val_loss: 0.7518 - val_acc: 0.9063\n",
      "Epoch 28/30\n",
      "7352/7352 [==============================] - 4s 504us/step - loss: 0.0559 - acc: 0.9818 - val_loss: 0.7213 - val_acc: 0.9118\n",
      "Epoch 29/30\n",
      "7352/7352 [==============================] - 4s 503us/step - loss: 0.0557 - acc: 0.9810 - val_loss: 0.6295 - val_acc: 0.9226\n",
      "Epoch 30/30\n",
      "7352/7352 [==============================] - 4s 504us/step - loss: 0.0585 - acc: 0.9812 - val_loss: 0.7338 - val_acc: 0.9057\n"
     ]
    },
    {
     "data": {
      "text/plain": [
       "<keras.callbacks.History at 0x12bbdd3c8>"
      ]
     },
     "execution_count": 26,
     "metadata": {},
     "output_type": "execute_result"
    }
   ],
   "source": [
    "model.fit(X_train,\n",
    "          Y_train,\n",
    "          batch_size=batch_size,\n",
    "          validation_data=(X_test, Y_test),\n",
    "          epochs=epochs)"
   ]
  },
  {
   "cell_type": "code",
   "execution_count": 27,
   "metadata": {},
   "outputs": [
    {
     "name": "stdout",
     "output_type": "stream",
     "text": [
      "Pred                LAYING  SITTING  STANDING  WALKING  WALKING_DOWNSTAIRS  \\\n",
      "True                                                                         \n",
      "LAYING                 536        0         0        0                   0   \n",
      "SITTING                  1      435        47        1                   0   \n",
      "STANDING                 0      107       417        3                   1   \n",
      "WALKING                  0        0         0      453                  42   \n",
      "WALKING_DOWNSTAIRS       0        0         0        0                 420   \n",
      "WALKING_UPSTAIRS         0        0         0       16                  47   \n",
      "\n",
      "Pred                WALKING_UPSTAIRS  \n",
      "True                                  \n",
      "LAYING                             1  \n",
      "SITTING                            7  \n",
      "STANDING                           4  \n",
      "WALKING                            1  \n",
      "WALKING_DOWNSTAIRS                 0  \n",
      "WALKING_UPSTAIRS                 408  \n"
     ]
    }
   ],
   "source": [
    "print(confusion_matrix(Y_test, model.predict(X_test)))"
   ]
  },
  {
   "cell_type": "code",
   "execution_count": 28,
   "metadata": {},
   "outputs": [
    {
     "name": "stdout",
     "output_type": "stream",
     "text": [
      "2947/2947 [==============================] - 0s 115us/step\n"
     ]
    }
   ],
   "source": [
    "score = model.evaluate(X_test, Y_test)"
   ]
  },
  {
   "cell_type": "code",
   "execution_count": 29,
   "metadata": {},
   "outputs": [
    {
     "data": {
      "text/plain": [
       "[0.7338126605104306, 0.9056667797760435]"
      ]
     },
     "execution_count": 29,
     "metadata": {},
     "output_type": "execute_result"
    }
   ],
   "source": [
    "score"
   ]
  },
  {
   "cell_type": "code",
   "execution_count": 62,
   "metadata": {},
   "outputs": [
    {
     "name": "stdout",
     "output_type": "stream",
     "text": [
      "_________________________________________________________________\n",
      "Layer (type)                 Output Shape              Param #   \n",
      "=================================================================\n",
      "time_distributed_61 (TimeDis (None, None, 30, 128)     3584      \n",
      "_________________________________________________________________\n",
      "time_distributed_62 (TimeDis (None, None, 15, 128)     0         \n",
      "_________________________________________________________________\n",
      "time_distributed_63 (TimeDis (None, None, 13, 64)      24640     \n",
      "_________________________________________________________________\n",
      "time_distributed_64 (TimeDis (None, None, 13, 64)      0         \n",
      "_________________________________________________________________\n",
      "time_distributed_65 (TimeDis (None, None, 6, 64)       0         \n",
      "_________________________________________________________________\n",
      "time_distributed_66 (TimeDis (None, None, 384)         0         \n",
      "_________________________________________________________________\n",
      "lstm_23 (LSTM)               (None, 128)               262656    \n",
      "_________________________________________________________________\n",
      "dropout_49 (Dropout)         (None, 128)               0         \n",
      "_________________________________________________________________\n",
      "dense_19 (Dense)             (None, 100)               12900     \n",
      "_________________________________________________________________\n",
      "dense_20 (Dense)             (None, 6)                 606       \n",
      "=================================================================\n",
      "Total params: 304,386\n",
      "Trainable params: 304,386\n",
      "Non-trainable params: 0\n",
      "_________________________________________________________________\n"
     ]
    }
   ],
   "source": [
    "model = Sequential()\n",
    "# Configuring the parameters\n",
    "model.add(TimeDistributed(Conv1D(filters=128, kernel_size=3, activation='relu'), input_shape=(None,32,input_dim)))\n",
    "model.add(TimeDistributed(MaxPooling1D(pool_size=2)))\n",
    "model.add(TimeDistributed(Conv1D(filters=64, kernel_size=3, activation='relu')))\n",
    "model.add(TimeDistributed(Dropout(0.8)))\n",
    "model.add(TimeDistributed(MaxPooling1D(pool_size=2)))\n",
    "model.add(TimeDistributed(Flatten()))\n",
    "model.add(LSTM(128))\n",
    "model.add(Dropout(0.8))\n",
    "model.add(Dense(100, activation='relu'))\n",
    "model.add(Dense(n_classes, activation='softmax'))\n",
    "model.compile(loss='categorical_crossentropy', optimizer='adam', metrics=['accuracy'])\n",
    "\n",
    "model.summary()"
   ]
  },
  {
   "cell_type": "code",
   "execution_count": 63,
   "metadata": {},
   "outputs": [
    {
     "name": "stdout",
     "output_type": "stream",
     "text": [
      "Train on 7352 samples, validate on 2947 samples\n",
      "Epoch 1/30\n",
      "7352/7352 [==============================] - 16s 2ms/step - loss: 0.6793 - acc: 0.7058 - val_loss: 0.5768 - val_acc: 0.7696\n",
      "Epoch 2/30\n",
      "7352/7352 [==============================] - 14s 2ms/step - loss: 0.2548 - acc: 0.9089 - val_loss: 0.3187 - val_acc: 0.8880\n",
      "Epoch 3/30\n",
      "7352/7352 [==============================] - 14s 2ms/step - loss: 0.1646 - acc: 0.9369 - val_loss: 0.3886 - val_acc: 0.8789\n",
      "Epoch 4/30\n",
      "7352/7352 [==============================] - 14s 2ms/step - loss: 0.1519 - acc: 0.9407 - val_loss: 0.3131 - val_acc: 0.8785\n",
      "Epoch 5/30\n",
      "7352/7352 [==============================] - 14s 2ms/step - loss: 0.1476 - acc: 0.9402 - val_loss: 0.3329 - val_acc: 0.9033\n",
      "Epoch 6/30\n",
      "7352/7352 [==============================] - 14s 2ms/step - loss: 0.1232 - acc: 0.9484 - val_loss: 0.2871 - val_acc: 0.9101\n",
      "Epoch 7/30\n",
      "7352/7352 [==============================] - 14s 2ms/step - loss: 0.1487 - acc: 0.9404 - val_loss: 0.3046 - val_acc: 0.9080\n",
      "Epoch 8/30\n",
      "7352/7352 [==============================] - 14s 2ms/step - loss: 0.1235 - acc: 0.9484 - val_loss: 0.4001 - val_acc: 0.8846\n",
      "Epoch 9/30\n",
      "7352/7352 [==============================] - 14s 2ms/step - loss: 0.1124 - acc: 0.9550 - val_loss: 0.2971 - val_acc: 0.8985\n",
      "Epoch 10/30\n",
      "7352/7352 [==============================] - 14s 2ms/step - loss: 0.1513 - acc: 0.9487 - val_loss: 0.2743 - val_acc: 0.9155\n",
      "Epoch 11/30\n",
      "7352/7352 [==============================] - 14s 2ms/step - loss: 0.1231 - acc: 0.9508 - val_loss: 0.3198 - val_acc: 0.9101\n",
      "Epoch 12/30\n",
      "7352/7352 [==============================] - 14s 2ms/step - loss: 0.1229 - acc: 0.9516 - val_loss: 0.2866 - val_acc: 0.9158\n",
      "Epoch 13/30\n",
      "7352/7352 [==============================] - 14s 2ms/step - loss: 0.1161 - acc: 0.9543 - val_loss: 0.2893 - val_acc: 0.9009\n",
      "Epoch 14/30\n",
      "7352/7352 [==============================] - 14s 2ms/step - loss: 0.1070 - acc: 0.9543 - val_loss: 0.4145 - val_acc: 0.9030\n",
      "Epoch 15/30\n",
      "7352/7352 [==============================] - 15s 2ms/step - loss: 0.1068 - acc: 0.9555 - val_loss: 0.4424 - val_acc: 0.9074\n",
      "Epoch 16/30\n",
      "7352/7352 [==============================] - 15s 2ms/step - loss: 0.1029 - acc: 0.9573 - val_loss: 0.5188 - val_acc: 0.8985\n",
      "Epoch 17/30\n",
      "7352/7352 [==============================] - 15s 2ms/step - loss: 0.0955 - acc: 0.9600 - val_loss: 0.3972 - val_acc: 0.9084\n",
      "Epoch 18/30\n",
      "7352/7352 [==============================] - 15s 2ms/step - loss: 0.1159 - acc: 0.9546 - val_loss: 0.2953 - val_acc: 0.9162\n",
      "Epoch 19/30\n",
      "7352/7352 [==============================] - 14s 2ms/step - loss: 0.1113 - acc: 0.9559 - val_loss: 0.4626 - val_acc: 0.9131\n",
      "Epoch 20/30\n",
      "7352/7352 [==============================] - 15s 2ms/step - loss: 0.0929 - acc: 0.9601 - val_loss: 0.5852 - val_acc: 0.9067\n",
      "Epoch 21/30\n",
      "7352/7352 [==============================] - 15s 2ms/step - loss: 0.0910 - acc: 0.9607 - val_loss: 0.5250 - val_acc: 0.9104\n",
      "Epoch 22/30\n",
      "7352/7352 [==============================] - 15s 2ms/step - loss: 0.0955 - acc: 0.9618 - val_loss: 0.5021 - val_acc: 0.9104\n",
      "Epoch 23/30\n",
      "7352/7352 [==============================] - 15s 2ms/step - loss: 0.1269 - acc: 0.9558 - val_loss: 0.3983 - val_acc: 0.9067\n",
      "Epoch 24/30\n",
      "7352/7352 [==============================] - 15s 2ms/step - loss: 0.0924 - acc: 0.9610 - val_loss: 0.5166 - val_acc: 0.9196\n",
      "Epoch 25/30\n",
      "7352/7352 [==============================] - 15s 2ms/step - loss: 0.0884 - acc: 0.9615 - val_loss: 0.5698 - val_acc: 0.9097\n",
      "Epoch 26/30\n",
      "7352/7352 [==============================] - 15s 2ms/step - loss: 0.0829 - acc: 0.9633 - val_loss: 0.6748 - val_acc: 0.9101\n",
      "Epoch 27/30\n",
      "7352/7352 [==============================] - 15s 2ms/step - loss: 0.0785 - acc: 0.9641 - val_loss: 0.6022 - val_acc: 0.9030\n",
      "Epoch 28/30\n",
      "7352/7352 [==============================] - 15s 2ms/step - loss: 0.0896 - acc: 0.9610 - val_loss: 0.7464 - val_acc: 0.9046\n",
      "Epoch 29/30\n",
      "7352/7352 [==============================] - 15s 2ms/step - loss: 0.0808 - acc: 0.9645 - val_loss: 0.5340 - val_acc: 0.9192\n",
      "Epoch 30/30\n",
      "7352/7352 [==============================] - 15s 2ms/step - loss: 0.0856 - acc: 0.9634 - val_loss: 0.5917 - val_acc: 0.8992\n"
     ]
    },
    {
     "data": {
      "text/plain": [
       "<keras.callbacks.History at 0x13f5280f0>"
      ]
     },
     "execution_count": 63,
     "metadata": {},
     "output_type": "execute_result"
    }
   ],
   "source": [
    "model.fit(trainX,\n",
    "          Y_train,\n",
    "          batch_size=batch_size,\n",
    "          validation_data=(testX, Y_test),\n",
    "          epochs=epochs)"
   ]
  },
  {
   "cell_type": "markdown",
   "metadata": {},
   "source": [
    "## CNN + Test Sharpening"
   ]
  },
  {
   "cell_type": "code",
   "execution_count": 1,
   "metadata": {},
   "outputs": [],
   "source": [
    "import numpy as np\n",
    "from scipy import ndimage\n",
    "dir_path = './UCI HAR Dataset/'"
   ]
  },
  {
   "cell_type": "code",
   "execution_count": 2,
   "metadata": {},
   "outputs": [],
   "source": [
    "def load_x(train_or_test):\n",
    "    global dir_path\n",
    "    if train_or_test is \"train\":\n",
    "        x_path = dir_path + 'train/X_train.txt'\n",
    "    elif train_or_test is \"test\":\n",
    "        x_path = dir_path + 'test/X_test.txt'\n",
    "\n",
    "    with open(x_path) as f:\n",
    "        container = f.readlines()\n",
    "\n",
    "    result = []\n",
    "    for line in container:\n",
    "        tmp1 = line.strip()\n",
    "        tmp2 = tmp1.replace('  ', ' ')     # removes inconsistent blank spaces\n",
    "        tmp_ary = list(map(float, tmp2.split(' ')))\n",
    "        result.append(tmp_ary)\n",
    "    return np.array(result)"
   ]
  },
  {
   "cell_type": "code",
   "execution_count": 3,
   "metadata": {},
   "outputs": [],
   "source": [
    "def load_y(train_or_test):\n",
    "    global dir_path\n",
    "    if train_or_test is \"train\":\n",
    "        y_path = dir_path + 'train/y_train.txt'\n",
    "    elif train_or_test is \"test\":\n",
    "        y_path = dir_path + 'test/y_test.txt'\n",
    "\n",
    "    with open(y_path) as f:\n",
    "        container = f.readlines()\n",
    "\n",
    "    result = []\n",
    "    for line in container:\n",
    "        num_str = line.strip()\n",
    "        result.append(int(num_str))\n",
    "    return np.array(result)"
   ]
  },
  {
   "cell_type": "code",
   "execution_count": 4,
   "metadata": {},
   "outputs": [],
   "source": [
    "def sharpen(x_test, sigma, alpha):\n",
    "    r = x_test.shape[0]\n",
    "    c = x_test.shape[1]\n",
    "    container = np.empty((r, c))\n",
    "    i = 0\n",
    "\n",
    "    for row in x_test:\n",
    "        test = np.array([row])\n",
    "        blurred = ndimage.gaussian_filter(test, sigma)\n",
    "        sharpened = test + alpha * (test - blurred)\n",
    "        container[i] = sharpened\n",
    "        i = i + 1\n",
    "    return container"
   ]
  },
  {
   "cell_type": "code",
   "execution_count": 5,
   "metadata": {},
   "outputs": [
    {
     "name": "stderr",
     "output_type": "stream",
     "text": [
      "Using TensorFlow backend.\n"
     ]
    }
   ],
   "source": [
    "import os\n",
    "import numpy as np\n",
    "import random\n",
    "from numpy.random import seed\n",
    "from keras.optimizers import Adam\n",
    "from keras.models import Sequential\n",
    "from keras.layers import Conv1D, Dense, Flatten, Dropout\n",
    "from keras.callbacks import ModelCheckpoint\n",
    "from keras.utils import plot_model\n",
    "import keras.backend as K"
   ]
  },
  {
   "cell_type": "markdown",
   "metadata": {},
   "source": [
    "### Static Features"
   ]
  },
  {
   "cell_type": "code",
   "execution_count": 187,
   "metadata": {},
   "outputs": [],
   "source": [
    "X_train_all = load_x(\"train\")   # at this stage, the data includes both dynamic and static HAR data\n",
    "y_train_all = load_y(\"train\")\n",
    "\n",
    "X_test_all = load_x(\"test\")\n",
    "y_test_all = load_y(\"test\")"
   ]
  },
  {
   "cell_type": "code",
   "execution_count": 188,
   "metadata": {},
   "outputs": [
    {
     "data": {
      "text/plain": [
       "(7352, 561)"
      ]
     },
     "execution_count": 188,
     "metadata": {},
     "output_type": "execute_result"
    }
   ],
   "source": [
    "X_train_all.shape"
   ]
  },
  {
   "cell_type": "code",
   "execution_count": 189,
   "metadata": {},
   "outputs": [],
   "source": [
    "static_1 = np.where(y_train_all == 4)[0]\n",
    "static_2 = np.where(y_train_all == 5)[0]\n",
    "static_3 = np.where(y_train_all == 6)[0]\n",
    "static = np.concatenate([static_1, static_2, static_3])\n",
    "static_list = static.tolist()"
   ]
  },
  {
   "cell_type": "code",
   "execution_count": 190,
   "metadata": {},
   "outputs": [],
   "source": [
    "r = random.random()\n",
    "random.shuffle(static_list, lambda: r)"
   ]
  },
  {
   "cell_type": "code",
   "execution_count": 191,
   "metadata": {},
   "outputs": [],
   "source": [
    "static = np.array(static_list)\n",
    "\n",
    "X_train = X_train_all[static]\n",
    "y_train = y_train_all[static]"
   ]
  },
  {
   "cell_type": "code",
   "execution_count": 192,
   "metadata": {},
   "outputs": [],
   "source": [
    "y_train  = y_train - 4"
   ]
  },
  {
   "cell_type": "code",
   "execution_count": 193,
   "metadata": {},
   "outputs": [
    {
     "name": "stdout",
     "output_type": "stream",
     "text": [
      "\n",
      "+++ DATA STATISTICS +++\n",
      "\n",
      "train_static shape:  (4067, 561)\n"
     ]
    }
   ],
   "source": [
    "print(\"\\n+++ DATA STATISTICS +++\\n\")\n",
    "print(\"train_static shape: \", X_train.shape)"
   ]
  },
  {
   "cell_type": "code",
   "execution_count": 194,
   "metadata": {},
   "outputs": [],
   "source": [
    "static_1 = np.where(y_test_all == 4)[0]\n",
    "static_2 = np.where(y_test_all == 5)[0]\n",
    "static_3 = np.where(y_test_all == 6)[0]\n",
    "static = np.concatenate([static_1, static_2, static_3])"
   ]
  },
  {
   "cell_type": "code",
   "execution_count": 195,
   "metadata": {},
   "outputs": [],
   "source": [
    "X_test = X_test_all[static]\n",
    "y_test = y_test_all[static]"
   ]
  },
  {
   "cell_type": "code",
   "execution_count": 196,
   "metadata": {},
   "outputs": [],
   "source": [
    "y_test  = y_test - 4"
   ]
  },
  {
   "cell_type": "code",
   "execution_count": 197,
   "metadata": {},
   "outputs": [
    {
     "name": "stdout",
     "output_type": "stream",
     "text": [
      "test_static shape:  (1560, 561)\n"
     ]
    }
   ],
   "source": [
    "print(\"test_static shape: \", X_test.shape)"
   ]
  },
  {
   "cell_type": "code",
   "execution_count": 198,
   "metadata": {},
   "outputs": [],
   "source": [
    "n_classes = 3"
   ]
  },
  {
   "cell_type": "code",
   "execution_count": 18,
   "metadata": {},
   "outputs": [],
   "source": [
    "# Convert to one hot encoding vector\n",
    "y_train_static_oh = np.eye(n_classes)[y_train]"
   ]
  },
  {
   "cell_type": "code",
   "execution_count": 19,
   "metadata": {},
   "outputs": [
    {
     "name": "stdout",
     "output_type": "stream",
     "text": [
      "WARNING:tensorflow:From /usr/local/lib/python3.7/site-packages/tensorflow/python/framework/op_def_library.py:263: colocate_with (from tensorflow.python.framework.ops) is deprecated and will be removed in a future version.\n",
      "Instructions for updating:\n",
      "Colocations handled automatically by placer.\n",
      "WARNING:tensorflow:From /usr/local/lib/python3.7/site-packages/keras/backend/tensorflow_backend.py:3445: calling dropout (from tensorflow.python.ops.nn_ops) with keep_prob is deprecated and will be removed in a future version.\n",
      "Instructions for updating:\n",
      "Please use `rate` instead of `keep_prob`. Rate should be set to `rate = 1 - keep_prob`.\n"
     ]
    }
   ],
   "source": [
    "seed(2017)\n",
    "model = Sequential()\n",
    "model.add(Conv1D(30, 3, input_shape=(561, 1), activation='relu'))\n",
    "model.add(Conv1D(50, 3, activation='relu'))\n",
    "model.add(Conv1D(100, 3, activation='relu'))\n",
    "model.add(Flatten())\n",
    "model.add(Dense(3, activation='softmax'))\n",
    "model.add(Dropout(0.50))\n",
    "\n",
    "adam = Adam(lr=0.0001, beta_1=0.9, beta_2=0.999, epsilon=1e-08, decay=0.0)\n",
    "model.compile(loss='mean_squared_error', optimizer=adam, metrics=['accuracy'])"
   ]
  },
  {
   "cell_type": "code",
   "execution_count": 20,
   "metadata": {},
   "outputs": [
    {
     "name": "stdout",
     "output_type": "stream",
     "text": [
      "_________________________________________________________________\n",
      "Layer (type)                 Output Shape              Param #   \n",
      "=================================================================\n",
      "conv1d_1 (Conv1D)            (None, 559, 30)           120       \n",
      "_________________________________________________________________\n",
      "conv1d_2 (Conv1D)            (None, 557, 50)           4550      \n",
      "_________________________________________________________________\n",
      "conv1d_3 (Conv1D)            (None, 555, 100)          15100     \n",
      "_________________________________________________________________\n",
      "flatten_1 (Flatten)          (None, 55500)             0         \n",
      "_________________________________________________________________\n",
      "dense_1 (Dense)              (None, 3)                 166503    \n",
      "_________________________________________________________________\n",
      "dropout_1 (Dropout)          (None, 3)                 0         \n",
      "=================================================================\n",
      "Total params: 186,273\n",
      "Trainable params: 186,273\n",
      "Non-trainable params: 0\n",
      "_________________________________________________________________\n",
      "None\n"
     ]
    }
   ],
   "source": [
    "print(model.summary())"
   ]
  },
  {
   "cell_type": "code",
   "execution_count": 21,
   "metadata": {},
   "outputs": [],
   "source": [
    "new_dir = 'model/'\n",
    "if not os.path.exists(new_dir):\n",
    "    os.makedirs(new_dir)\n",
    "fpath = new_dir + 'weights.{epoch:02d}-{val_acc:.2f}.hdf5'"
   ]
  },
  {
   "cell_type": "code",
   "execution_count": 22,
   "metadata": {},
   "outputs": [],
   "source": [
    "cp_cb = ModelCheckpoint(fpath, monitor='val_loss', verbose=1, save_best_only=True, mode='auto', period=1)"
   ]
  },
  {
   "cell_type": "code",
   "execution_count": 23,
   "metadata": {},
   "outputs": [
    {
     "name": "stdout",
     "output_type": "stream",
     "text": [
      "WARNING:tensorflow:From /usr/local/lib/python3.7/site-packages/tensorflow/python/ops/math_ops.py:3066: to_int32 (from tensorflow.python.ops.math_ops) is deprecated and will be removed in a future version.\n",
      "Instructions for updating:\n",
      "Use tf.cast instead.\n",
      "Train on 3253 samples, validate on 814 samples\n",
      "Epoch 1/100\n",
      " - 5s - loss: 0.3092 - acc: 0.4270 - val_loss: 0.1336 - val_acc: 0.9312\n",
      "\n",
      "Epoch 00001: val_loss improved from inf to 0.13363, saving model to model/weights.01-0.93.hdf5\n",
      "Epoch 2/100\n",
      " - 5s - loss: 0.2576 - acc: 0.5192 - val_loss: 0.0739 - val_acc: 0.9570\n",
      "\n",
      "Epoch 00002: val_loss improved from 0.13363 to 0.07388, saving model to model/weights.02-0.96.hdf5\n",
      "Epoch 3/100\n",
      " - 4s - loss: 0.2457 - acc: 0.5327 - val_loss: 0.0743 - val_acc: 0.9595\n",
      "\n",
      "Epoch 00003: val_loss did not improve from 0.07388\n",
      "Epoch 4/100\n",
      " - 5s - loss: 0.2502 - acc: 0.5143 - val_loss: 0.0770 - val_acc: 0.9582\n",
      "\n",
      "Epoch 00004: val_loss did not improve from 0.07388\n",
      "Epoch 5/100\n",
      " - 5s - loss: 0.2428 - acc: 0.5337 - val_loss: 0.0693 - val_acc: 0.9656\n",
      "\n",
      "Epoch 00005: val_loss improved from 0.07388 to 0.06925, saving model to model/weights.05-0.97.hdf5\n",
      "Epoch 6/100\n",
      " - 5s - loss: 0.2376 - acc: 0.5413 - val_loss: 0.0626 - val_acc: 0.9595\n",
      "\n",
      "Epoch 00006: val_loss improved from 0.06925 to 0.06256, saving model to model/weights.06-0.96.hdf5\n",
      "Epoch 7/100\n",
      " - 5s - loss: 0.2357 - acc: 0.5444 - val_loss: 0.0734 - val_acc: 0.9631\n",
      "\n",
      "Epoch 00007: val_loss did not improve from 0.06256\n",
      "Epoch 8/100\n",
      " - 5s - loss: 0.2317 - acc: 0.5503 - val_loss: 0.0701 - val_acc: 0.9656\n",
      "\n",
      "Epoch 00008: val_loss did not improve from 0.06256\n",
      "Epoch 9/100\n",
      " - 5s - loss: 0.2372 - acc: 0.5337 - val_loss: 0.0664 - val_acc: 0.9644\n",
      "\n",
      "Epoch 00009: val_loss did not improve from 0.06256\n",
      "Epoch 10/100\n",
      " - 4s - loss: 0.2354 - acc: 0.5420 - val_loss: 0.0748 - val_acc: 0.9644\n",
      "\n",
      "Epoch 00010: val_loss did not improve from 0.06256\n",
      "Epoch 11/100\n",
      " - 4s - loss: 0.2364 - acc: 0.5392 - val_loss: 0.0594 - val_acc: 0.9668\n",
      "\n",
      "Epoch 00011: val_loss improved from 0.06256 to 0.05940, saving model to model/weights.11-0.97.hdf5\n",
      "Epoch 12/100\n",
      " - 4s - loss: 0.2357 - acc: 0.5346 - val_loss: 0.0600 - val_acc: 0.9656\n",
      "\n",
      "Epoch 00012: val_loss did not improve from 0.05940\n",
      "Epoch 13/100\n",
      " - 5s - loss: 0.2392 - acc: 0.5263 - val_loss: 0.0662 - val_acc: 0.9705\n",
      "\n",
      "Epoch 00013: val_loss did not improve from 0.05940\n",
      "Epoch 14/100\n",
      " - 5s - loss: 0.2328 - acc: 0.5334 - val_loss: 0.0635 - val_acc: 0.9607\n",
      "\n",
      "Epoch 00014: val_loss did not improve from 0.05940\n",
      "Epoch 15/100\n",
      " - 5s - loss: 0.2338 - acc: 0.5395 - val_loss: 0.0668 - val_acc: 0.9693\n",
      "\n",
      "Epoch 00015: val_loss did not improve from 0.05940\n",
      "Epoch 16/100\n",
      " - 5s - loss: 0.2289 - acc: 0.5512 - val_loss: 0.0652 - val_acc: 0.9631\n",
      "\n",
      "Epoch 00016: val_loss did not improve from 0.05940\n",
      "Epoch 17/100\n",
      " - 4s - loss: 0.2278 - acc: 0.5629 - val_loss: 0.0767 - val_acc: 0.9668\n",
      "\n",
      "Epoch 00017: val_loss did not improve from 0.05940\n",
      "Epoch 18/100\n",
      " - 4s - loss: 0.2300 - acc: 0.5496 - val_loss: 0.0707 - val_acc: 0.9644\n",
      "\n",
      "Epoch 00018: val_loss did not improve from 0.05940\n",
      "Epoch 19/100\n",
      " - 5s - loss: 0.2347 - acc: 0.5361 - val_loss: 0.0657 - val_acc: 0.9705\n",
      "\n",
      "Epoch 00019: val_loss did not improve from 0.05940\n",
      "Epoch 20/100\n",
      " - 5s - loss: 0.2300 - acc: 0.5493 - val_loss: 0.0626 - val_acc: 0.9668\n",
      "\n",
      "Epoch 00020: val_loss did not improve from 0.05940\n",
      "Epoch 21/100\n",
      " - 5s - loss: 0.2302 - acc: 0.5457 - val_loss: 0.0690 - val_acc: 0.9644\n",
      "\n",
      "Epoch 00021: val_loss did not improve from 0.05940\n",
      "Epoch 22/100\n",
      " - 5s - loss: 0.2319 - acc: 0.5377 - val_loss: 0.0667 - val_acc: 0.9631\n",
      "\n",
      "Epoch 00022: val_loss did not improve from 0.05940\n",
      "Epoch 23/100\n",
      " - 5s - loss: 0.2292 - acc: 0.5447 - val_loss: 0.0656 - val_acc: 0.9607\n",
      "\n",
      "Epoch 00023: val_loss did not improve from 0.05940\n",
      "Epoch 24/100\n",
      " - 4s - loss: 0.2293 - acc: 0.5413 - val_loss: 0.0678 - val_acc: 0.9644\n",
      "\n",
      "Epoch 00024: val_loss did not improve from 0.05940\n",
      "Epoch 25/100\n",
      " - 5s - loss: 0.2337 - acc: 0.5383 - val_loss: 0.0677 - val_acc: 0.9656\n",
      "\n",
      "Epoch 00025: val_loss did not improve from 0.05940\n",
      "Epoch 26/100\n",
      " - 5s - loss: 0.2242 - acc: 0.5601 - val_loss: 0.0706 - val_acc: 0.9631\n",
      "\n",
      "Epoch 00026: val_loss did not improve from 0.05940\n",
      "Epoch 27/100\n",
      " - 5s - loss: 0.2297 - acc: 0.5478 - val_loss: 0.0732 - val_acc: 0.9693\n",
      "\n",
      "Epoch 00027: val_loss did not improve from 0.05940\n",
      "Epoch 28/100\n",
      " - 5s - loss: 0.2355 - acc: 0.5300 - val_loss: 0.0651 - val_acc: 0.9668\n",
      "\n",
      "Epoch 00028: val_loss did not improve from 0.05940\n",
      "Epoch 29/100\n",
      " - 5s - loss: 0.2331 - acc: 0.5367 - val_loss: 0.0659 - val_acc: 0.9681\n",
      "\n",
      "Epoch 00029: val_loss did not improve from 0.05940\n",
      "Epoch 30/100\n",
      " - 5s - loss: 0.2361 - acc: 0.5201 - val_loss: 0.0697 - val_acc: 0.9668\n",
      "\n",
      "Epoch 00030: val_loss did not improve from 0.05940\n",
      "Epoch 31/100\n",
      " - 5s - loss: 0.2354 - acc: 0.5306 - val_loss: 0.0646 - val_acc: 0.9619\n",
      "\n",
      "Epoch 00031: val_loss did not improve from 0.05940\n",
      "Epoch 32/100\n",
      " - 5s - loss: 0.2259 - acc: 0.5601 - val_loss: 0.0688 - val_acc: 0.9631\n",
      "\n",
      "Epoch 00032: val_loss did not improve from 0.05940\n",
      "Epoch 33/100\n",
      " - 4s - loss: 0.2286 - acc: 0.5444 - val_loss: 0.0729 - val_acc: 0.9656\n",
      "\n",
      "Epoch 00033: val_loss did not improve from 0.05940\n",
      "Epoch 34/100\n",
      " - 6s - loss: 0.2312 - acc: 0.5460 - val_loss: 0.0651 - val_acc: 0.9668\n",
      "\n",
      "Epoch 00034: val_loss did not improve from 0.05940\n",
      "Epoch 35/100\n",
      " - 5s - loss: 0.2299 - acc: 0.5450 - val_loss: 0.0728 - val_acc: 0.9668\n",
      "\n",
      "Epoch 00035: val_loss did not improve from 0.05940\n",
      "Epoch 36/100\n",
      " - 4s - loss: 0.2295 - acc: 0.5447 - val_loss: 0.0705 - val_acc: 0.9631\n",
      "\n",
      "Epoch 00036: val_loss did not improve from 0.05940\n",
      "Epoch 37/100\n",
      " - 6s - loss: 0.2281 - acc: 0.5549 - val_loss: 0.0623 - val_acc: 0.9705\n",
      "\n",
      "Epoch 00037: val_loss did not improve from 0.05940\n",
      "Epoch 38/100\n",
      " - 6s - loss: 0.2275 - acc: 0.5552 - val_loss: 0.0650 - val_acc: 0.9705\n",
      "\n",
      "Epoch 00038: val_loss did not improve from 0.05940\n",
      "Epoch 39/100\n",
      " - 5s - loss: 0.2316 - acc: 0.5386 - val_loss: 0.0659 - val_acc: 0.9693\n",
      "\n",
      "Epoch 00039: val_loss did not improve from 0.05940\n",
      "Epoch 40/100\n",
      " - 6s - loss: 0.2322 - acc: 0.5398 - val_loss: 0.0673 - val_acc: 0.9644\n",
      "\n",
      "Epoch 00040: val_loss did not improve from 0.05940\n",
      "Epoch 41/100\n",
      " - 5s - loss: 0.2307 - acc: 0.5432 - val_loss: 0.0650 - val_acc: 0.9681\n",
      "\n",
      "Epoch 00041: val_loss did not improve from 0.05940\n",
      "Epoch 42/100\n",
      " - 6s - loss: 0.2279 - acc: 0.5481 - val_loss: 0.0667 - val_acc: 0.9717\n",
      "\n",
      "Epoch 00042: val_loss did not improve from 0.05940\n",
      "Epoch 43/100\n",
      " - 5s - loss: 0.2302 - acc: 0.5361 - val_loss: 0.0696 - val_acc: 0.9681\n",
      "\n",
      "Epoch 00043: val_loss did not improve from 0.05940\n",
      "Epoch 44/100\n",
      " - 5s - loss: 0.2242 - acc: 0.5623 - val_loss: 0.0692 - val_acc: 0.9644\n",
      "\n",
      "Epoch 00044: val_loss did not improve from 0.05940\n",
      "Epoch 45/100\n",
      " - 5s - loss: 0.2300 - acc: 0.5435 - val_loss: 0.0646 - val_acc: 0.9631\n",
      "\n",
      "Epoch 00045: val_loss did not improve from 0.05940\n",
      "Epoch 46/100\n",
      " - 5s - loss: 0.2279 - acc: 0.5500 - val_loss: 0.0658 - val_acc: 0.9644\n",
      "\n",
      "Epoch 00046: val_loss did not improve from 0.05940\n",
      "Epoch 47/100\n",
      " - 5s - loss: 0.2287 - acc: 0.5500 - val_loss: 0.0689 - val_acc: 0.9644\n",
      "\n",
      "Epoch 00047: val_loss did not improve from 0.05940\n",
      "Epoch 48/100\n",
      " - 5s - loss: 0.2319 - acc: 0.5374 - val_loss: 0.0658 - val_acc: 0.9644\n",
      "\n",
      "Epoch 00048: val_loss did not improve from 0.05940\n",
      "Epoch 49/100\n",
      " - 5s - loss: 0.2270 - acc: 0.5595 - val_loss: 0.0626 - val_acc: 0.9705\n",
      "\n",
      "Epoch 00049: val_loss did not improve from 0.05940\n",
      "Epoch 50/100\n",
      " - 4s - loss: 0.2301 - acc: 0.5429 - val_loss: 0.0737 - val_acc: 0.9668\n",
      "\n",
      "Epoch 00050: val_loss did not improve from 0.05940\n",
      "Epoch 51/100\n",
      " - 5s - loss: 0.2308 - acc: 0.5435 - val_loss: 0.0715 - val_acc: 0.9717\n",
      "\n",
      "Epoch 00051: val_loss did not improve from 0.05940\n",
      "Epoch 52/100\n",
      " - 4s - loss: 0.2287 - acc: 0.5450 - val_loss: 0.0673 - val_acc: 0.9668\n",
      "\n",
      "Epoch 00052: val_loss did not improve from 0.05940\n",
      "Epoch 53/100\n",
      " - 5s - loss: 0.2200 - acc: 0.5749 - val_loss: 0.0759 - val_acc: 0.9693\n",
      "\n",
      "Epoch 00053: val_loss did not improve from 0.05940\n",
      "Epoch 54/100\n",
      " - 5s - loss: 0.2324 - acc: 0.5377 - val_loss: 0.0670 - val_acc: 0.9656\n",
      "\n",
      "Epoch 00054: val_loss did not improve from 0.05940\n",
      "Epoch 55/100\n",
      " - 4s - loss: 0.2306 - acc: 0.5432 - val_loss: 0.0709 - val_acc: 0.9644\n",
      "\n",
      "Epoch 00055: val_loss did not improve from 0.05940\n",
      "Epoch 56/100\n",
      " - 4s - loss: 0.2311 - acc: 0.5429 - val_loss: 0.0676 - val_acc: 0.9742\n",
      "\n",
      "Epoch 00056: val_loss did not improve from 0.05940\n",
      "Epoch 57/100\n"
     ]
    },
    {
     "name": "stdout",
     "output_type": "stream",
     "text": [
      " - 5s - loss: 0.2369 - acc: 0.5217 - val_loss: 0.0624 - val_acc: 0.9742\n",
      "\n",
      "Epoch 00057: val_loss did not improve from 0.05940\n",
      "Epoch 58/100\n",
      " - 5s - loss: 0.2299 - acc: 0.5460 - val_loss: 0.0664 - val_acc: 0.9693\n",
      "\n",
      "Epoch 00058: val_loss did not improve from 0.05940\n",
      "Epoch 59/100\n",
      " - 4s - loss: 0.2320 - acc: 0.5358 - val_loss: 0.0640 - val_acc: 0.9705\n",
      "\n",
      "Epoch 00059: val_loss did not improve from 0.05940\n",
      "Epoch 60/100\n",
      " - 5s - loss: 0.2270 - acc: 0.5475 - val_loss: 0.0627 - val_acc: 0.9681\n",
      "\n",
      "Epoch 00060: val_loss did not improve from 0.05940\n",
      "Epoch 61/100\n",
      " - 7s - loss: 0.2278 - acc: 0.5420 - val_loss: 0.0645 - val_acc: 0.9631\n",
      "\n",
      "Epoch 00061: val_loss did not improve from 0.05940\n",
      "Epoch 62/100\n",
      " - 5s - loss: 0.2275 - acc: 0.5453 - val_loss: 0.0764 - val_acc: 0.9644\n",
      "\n",
      "Epoch 00062: val_loss did not improve from 0.05940\n",
      "Epoch 63/100\n",
      " - 4s - loss: 0.2270 - acc: 0.5533 - val_loss: 0.0660 - val_acc: 0.9668\n",
      "\n",
      "Epoch 00063: val_loss did not improve from 0.05940\n",
      "Epoch 64/100\n",
      " - 4s - loss: 0.2320 - acc: 0.5340 - val_loss: 0.0708 - val_acc: 0.9668\n",
      "\n",
      "Epoch 00064: val_loss did not improve from 0.05940\n",
      "Epoch 65/100\n",
      " - 5s - loss: 0.2288 - acc: 0.5453 - val_loss: 0.0780 - val_acc: 0.9631\n",
      "\n",
      "Epoch 00065: val_loss did not improve from 0.05940\n",
      "Epoch 66/100\n",
      " - 5s - loss: 0.2275 - acc: 0.5484 - val_loss: 0.0682 - val_acc: 0.9656\n",
      "\n",
      "Epoch 00066: val_loss did not improve from 0.05940\n",
      "Epoch 67/100\n",
      " - 4s - loss: 0.2319 - acc: 0.5370 - val_loss: 0.0725 - val_acc: 0.9668\n",
      "\n",
      "Epoch 00067: val_loss did not improve from 0.05940\n",
      "Epoch 68/100\n",
      " - 4s - loss: 0.2274 - acc: 0.5466 - val_loss: 0.0631 - val_acc: 0.9644\n",
      "\n",
      "Epoch 00068: val_loss did not improve from 0.05940\n",
      "Epoch 69/100\n",
      " - 4s - loss: 0.2295 - acc: 0.5380 - val_loss: 0.0630 - val_acc: 0.9717\n",
      "\n",
      "Epoch 00069: val_loss did not improve from 0.05940\n",
      "Epoch 70/100\n",
      " - 5s - loss: 0.2293 - acc: 0.5438 - val_loss: 0.0630 - val_acc: 0.9705\n",
      "\n",
      "Epoch 00070: val_loss did not improve from 0.05940\n",
      "Epoch 71/100\n",
      " - 5s - loss: 0.2251 - acc: 0.5533 - val_loss: 0.0638 - val_acc: 0.9681\n",
      "\n",
      "Epoch 00071: val_loss did not improve from 0.05940\n",
      "Epoch 72/100\n",
      " - 5s - loss: 0.2307 - acc: 0.5374 - val_loss: 0.0746 - val_acc: 0.9730\n",
      "\n",
      "Epoch 00072: val_loss did not improve from 0.05940\n",
      "Epoch 73/100\n",
      " - 5s - loss: 0.2299 - acc: 0.5463 - val_loss: 0.0654 - val_acc: 0.9717\n",
      "\n",
      "Epoch 00073: val_loss did not improve from 0.05940\n",
      "Epoch 74/100\n",
      " - 4s - loss: 0.2317 - acc: 0.5358 - val_loss: 0.0677 - val_acc: 0.9656\n",
      "\n",
      "Epoch 00074: val_loss did not improve from 0.05940\n",
      "Epoch 75/100\n",
      " - 5s - loss: 0.2236 - acc: 0.5586 - val_loss: 0.0690 - val_acc: 0.9693\n",
      "\n",
      "Epoch 00075: val_loss did not improve from 0.05940\n",
      "Epoch 76/100\n",
      " - 4s - loss: 0.2295 - acc: 0.5450 - val_loss: 0.0679 - val_acc: 0.9619\n",
      "\n",
      "Epoch 00076: val_loss did not improve from 0.05940\n",
      "Epoch 77/100\n",
      " - 4s - loss: 0.2280 - acc: 0.5472 - val_loss: 0.0633 - val_acc: 0.9705\n",
      "\n",
      "Epoch 00077: val_loss did not improve from 0.05940\n",
      "Epoch 78/100\n",
      " - 4s - loss: 0.2261 - acc: 0.5530 - val_loss: 0.0713 - val_acc: 0.9668\n",
      "\n",
      "Epoch 00078: val_loss did not improve from 0.05940\n",
      "Epoch 79/100\n",
      " - 4s - loss: 0.2284 - acc: 0.5404 - val_loss: 0.0665 - val_acc: 0.9656\n",
      "\n",
      "Epoch 00079: val_loss did not improve from 0.05940\n",
      "Epoch 80/100\n",
      " - 4s - loss: 0.2301 - acc: 0.5361 - val_loss: 0.0698 - val_acc: 0.9705\n",
      "\n",
      "Epoch 00080: val_loss did not improve from 0.05940\n",
      "Epoch 81/100\n",
      " - 5s - loss: 0.2237 - acc: 0.5533 - val_loss: 0.0650 - val_acc: 0.9717\n",
      "\n",
      "Epoch 00081: val_loss did not improve from 0.05940\n",
      "Epoch 82/100\n",
      " - 4s - loss: 0.2268 - acc: 0.5512 - val_loss: 0.0703 - val_acc: 0.9693\n",
      "\n",
      "Epoch 00082: val_loss did not improve from 0.05940\n",
      "Epoch 83/100\n",
      " - 5s - loss: 0.2260 - acc: 0.5463 - val_loss: 0.0664 - val_acc: 0.9668\n",
      "\n",
      "Epoch 00083: val_loss did not improve from 0.05940\n",
      "Epoch 84/100\n",
      " - 5s - loss: 0.2308 - acc: 0.5377 - val_loss: 0.0680 - val_acc: 0.9693\n",
      "\n",
      "Epoch 00084: val_loss did not improve from 0.05940\n",
      "Epoch 85/100\n",
      " - 5s - loss: 0.2338 - acc: 0.5266 - val_loss: 0.0619 - val_acc: 0.9656\n",
      "\n",
      "Epoch 00085: val_loss did not improve from 0.05940\n",
      "Epoch 86/100\n",
      " - 5s - loss: 0.2298 - acc: 0.5441 - val_loss: 0.0671 - val_acc: 0.9631\n",
      "\n",
      "Epoch 00086: val_loss did not improve from 0.05940\n",
      "Epoch 87/100\n",
      " - 5s - loss: 0.2277 - acc: 0.5463 - val_loss: 0.0687 - val_acc: 0.9644\n",
      "\n",
      "Epoch 00087: val_loss did not improve from 0.05940\n",
      "Epoch 88/100\n",
      " - 5s - loss: 0.2324 - acc: 0.5327 - val_loss: 0.0622 - val_acc: 0.9656\n",
      "\n",
      "Epoch 00088: val_loss did not improve from 0.05940\n",
      "Epoch 89/100\n",
      " - 4s - loss: 0.2231 - acc: 0.5613 - val_loss: 0.0700 - val_acc: 0.9656\n",
      "\n",
      "Epoch 00089: val_loss did not improve from 0.05940\n",
      "Epoch 90/100\n",
      " - 4s - loss: 0.2311 - acc: 0.5272 - val_loss: 0.0674 - val_acc: 0.9668\n",
      "\n",
      "Epoch 00090: val_loss did not improve from 0.05940\n",
      "Epoch 91/100\n",
      " - 4s - loss: 0.2299 - acc: 0.5423 - val_loss: 0.0700 - val_acc: 0.9668\n",
      "\n",
      "Epoch 00091: val_loss did not improve from 0.05940\n",
      "Epoch 92/100\n",
      " - 5s - loss: 0.2247 - acc: 0.5589 - val_loss: 0.0670 - val_acc: 0.9730\n",
      "\n",
      "Epoch 00092: val_loss did not improve from 0.05940\n",
      "Epoch 93/100\n",
      " - 4s - loss: 0.2262 - acc: 0.5410 - val_loss: 0.0655 - val_acc: 0.9681\n",
      "\n",
      "Epoch 00093: val_loss did not improve from 0.05940\n",
      "Epoch 94/100\n",
      " - 5s - loss: 0.2287 - acc: 0.5432 - val_loss: 0.0574 - val_acc: 0.9693\n",
      "\n",
      "Epoch 00094: val_loss improved from 0.05940 to 0.05745, saving model to model/weights.94-0.97.hdf5\n",
      "Epoch 95/100\n",
      " - 5s - loss: 0.2282 - acc: 0.5417 - val_loss: 0.0636 - val_acc: 0.9730\n",
      "\n",
      "Epoch 00095: val_loss did not improve from 0.05745\n",
      "Epoch 96/100\n",
      " - 5s - loss: 0.2279 - acc: 0.5450 - val_loss: 0.0615 - val_acc: 0.9730\n",
      "\n",
      "Epoch 00096: val_loss did not improve from 0.05745\n",
      "Epoch 97/100\n",
      " - 4s - loss: 0.2275 - acc: 0.5447 - val_loss: 0.0692 - val_acc: 0.9631\n",
      "\n",
      "Epoch 00097: val_loss did not improve from 0.05745\n",
      "Epoch 98/100\n",
      " - 5s - loss: 0.2263 - acc: 0.5450 - val_loss: 0.0640 - val_acc: 0.9631\n",
      "\n",
      "Epoch 00098: val_loss did not improve from 0.05745\n",
      "Epoch 99/100\n",
      " - 5s - loss: 0.2313 - acc: 0.5349 - val_loss: 0.0681 - val_acc: 0.9705\n",
      "\n",
      "Epoch 00099: val_loss did not improve from 0.05745\n",
      "Epoch 100/100\n",
      " - 5s - loss: 0.2316 - acc: 0.5284 - val_loss: 0.0695 - val_acc: 0.9681\n",
      "\n",
      "Epoch 00100: val_loss did not improve from 0.05745\n"
     ]
    },
    {
     "data": {
      "text/plain": [
       "<keras.callbacks.History at 0x12f38f860>"
      ]
     },
     "execution_count": 23,
     "metadata": {},
     "output_type": "execute_result"
    }
   ],
   "source": [
    "model.fit(np.expand_dims(X_train, axis=2), y_train_static_oh,\n",
    "          batch_size=32, epochs=100, verbose=2, validation_split=0.2, callbacks=[cp_cb])"
   ]
  },
  {
   "cell_type": "code",
   "execution_count": 24,
   "metadata": {},
   "outputs": [],
   "source": [
    "del model\n",
    "K.clear_session()"
   ]
  },
  {
   "cell_type": "markdown",
   "metadata": {},
   "source": [
    "#### Rename highest epoch weight file to static.hdf5"
   ]
  },
  {
   "cell_type": "code",
   "execution_count": 33,
   "metadata": {},
   "outputs": [],
   "source": [
    "from keras.models import load_model\n",
    "from sklearn.metrics import accuracy_score\n",
    "from sklearn.metrics import confusion_matrix"
   ]
  },
  {
   "cell_type": "code",
   "execution_count": 34,
   "metadata": {},
   "outputs": [],
   "source": [
    "model_path = \"model/static.hdf5\"\n",
    "model = load_model(model_path)"
   ]
  },
  {
   "cell_type": "code",
   "execution_count": 35,
   "metadata": {},
   "outputs": [
    {
     "name": "stdout",
     "output_type": "stream",
     "text": [
      "------ TRAIN ACCURACY ------\n",
      "0.9916400295057782\n",
      "[[1275   11    0]\n",
      " [  23 1351    0]\n",
      " [   0    0 1407]]\n"
     ]
    }
   ],
   "source": [
    "pred_train = model.predict(np.expand_dims(X_train, axis=2), batch_size=32)\n",
    "print(\"------ TRAIN ACCURACY ------\")\n",
    "print(accuracy_score(y_train, np.argmax(pred_train, axis=1)))\n",
    "print(confusion_matrix(y_train, np.argmax(pred_train, axis=1)))"
   ]
  },
  {
   "cell_type": "code",
   "execution_count": 36,
   "metadata": {},
   "outputs": [
    {
     "name": "stdout",
     "output_type": "stream",
     "text": [
      "------ TEST ACCURACY ------\n",
      "0.9628205128205128\n",
      "[[447  44   0]\n",
      " [ 14 518   0]\n",
      " [  0   0 537]]\n"
     ]
    }
   ],
   "source": [
    "pred_test = model.predict(np.expand_dims(X_test, axis=2), batch_size=32)\n",
    "print(\"------ TEST ACCURACY ------\")\n",
    "print(accuracy_score(y_test, np.argmax(pred_test, axis=1)))\n",
    "print(confusion_matrix(y_test, np.argmax(pred_test, axis=1)))"
   ]
  },
  {
   "cell_type": "markdown",
   "metadata": {},
   "source": [
    "### Dynamic Features"
   ]
  },
  {
   "cell_type": "code",
   "execution_count": 165,
   "metadata": {},
   "outputs": [],
   "source": [
    "import os\n",
    "import numpy as np\n",
    "import random\n",
    "from numpy.random import seed\n",
    "from keras.optimizers import Adam\n",
    "from keras.models import Sequential\n",
    "from keras.layers import Conv1D, MaxPooling1D, Dense, Flatten, Dropout\n",
    "from keras.callbacks import ModelCheckpoint\n",
    "from keras.utils import plot_model\n",
    "import keras.backend as K"
   ]
  },
  {
   "cell_type": "code",
   "execution_count": 166,
   "metadata": {},
   "outputs": [],
   "source": [
    "X_train_all = load_x(\"train\")   # at this stage, the data includes both dynamic and static HAR data\n",
    "y_train_all = load_y(\"train\")"
   ]
  },
  {
   "cell_type": "code",
   "execution_count": 167,
   "metadata": {},
   "outputs": [],
   "source": [
    "X_test_all = load_x(\"test\")\n",
    "y_test_all = load_y(\"test\")"
   ]
  },
  {
   "cell_type": "code",
   "execution_count": 168,
   "metadata": {},
   "outputs": [],
   "source": [
    "dynamic_1 = np.where(y_train_all == 1)[0]\n",
    "dynamic_2 = np.where(y_train_all == 2)[0]\n",
    "dynamic_3 = np.where(y_train_all == 3)[0]\n",
    "dynamic = np.concatenate([dynamic_1, dynamic_2, dynamic_3])\n",
    "dynamic_list = dynamic.tolist()"
   ]
  },
  {
   "cell_type": "code",
   "execution_count": 169,
   "metadata": {},
   "outputs": [],
   "source": [
    "r = random.random()\n",
    "random.shuffle(dynamic_list, lambda: r)"
   ]
  },
  {
   "cell_type": "code",
   "execution_count": 170,
   "metadata": {},
   "outputs": [],
   "source": [
    "dynamic = np.array(dynamic_list)\n",
    "\n",
    "X_train = X_train_all[dynamic]\n",
    "y_train = y_train_all[dynamic]"
   ]
  },
  {
   "cell_type": "code",
   "execution_count": 171,
   "metadata": {},
   "outputs": [],
   "source": [
    "y_train  = y_train - 1"
   ]
  },
  {
   "cell_type": "code",
   "execution_count": 172,
   "metadata": {},
   "outputs": [],
   "source": [
    "dynamic_1 = np.where(y_test_all == 1)[0]\n",
    "dynamic_2 = np.where(y_test_all == 2)[0]\n",
    "dynamic_3 = np.where(y_test_all == 3)[0]\n",
    "dynamic = np.concatenate([dynamic_1, dynamic_2, dynamic_3])"
   ]
  },
  {
   "cell_type": "code",
   "execution_count": 173,
   "metadata": {},
   "outputs": [],
   "source": [
    "X_test = X_test_all[dynamic]\n",
    "y_test = y_test_all[dynamic]"
   ]
  },
  {
   "cell_type": "code",
   "execution_count": 174,
   "metadata": {},
   "outputs": [],
   "source": [
    "y_test  = y_test - 1"
   ]
  },
  {
   "cell_type": "code",
   "execution_count": 175,
   "metadata": {},
   "outputs": [
    {
     "name": "stdout",
     "output_type": "stream",
     "text": [
      "test_dynamic shape:  (1387, 561)\n"
     ]
    }
   ],
   "source": [
    "print(\"test_dynamic shape: \", X_test.shape)"
   ]
  },
  {
   "cell_type": "code",
   "execution_count": 48,
   "metadata": {},
   "outputs": [],
   "source": [
    "n_classes = 3"
   ]
  },
  {
   "cell_type": "code",
   "execution_count": 49,
   "metadata": {},
   "outputs": [],
   "source": [
    "y_train_dynamic_oh = np.eye(n_classes)[y_train]"
   ]
  },
  {
   "cell_type": "code",
   "execution_count": 50,
   "metadata": {},
   "outputs": [],
   "source": [
    "seed(2017)\n",
    "model = Sequential()\n",
    "model.add(Conv1D(100, 3, input_shape=(561, 1), activation='relu'))\n",
    "model.add(MaxPooling1D(3))\n",
    "model.add(Flatten())\n",
    "model.add(Dense(3, activation='softmax'))\n",
    "model.add(Dropout(0.5))"
   ]
  },
  {
   "cell_type": "code",
   "execution_count": 51,
   "metadata": {},
   "outputs": [],
   "source": [
    "adam = Adam(lr=0.0004, beta_1=0.9, beta_2=0.999, epsilon=1e-08, decay=0.0)\n",
    "model.compile(loss='mean_squared_error', optimizer=adam, metrics=['accuracy'])"
   ]
  },
  {
   "cell_type": "code",
   "execution_count": 52,
   "metadata": {},
   "outputs": [
    {
     "name": "stdout",
     "output_type": "stream",
     "text": [
      "_________________________________________________________________\n",
      "Layer (type)                 Output Shape              Param #   \n",
      "=================================================================\n",
      "conv1d_1 (Conv1D)            (None, 559, 100)          400       \n",
      "_________________________________________________________________\n",
      "max_pooling1d_1 (MaxPooling1 (None, 186, 100)          0         \n",
      "_________________________________________________________________\n",
      "flatten_1 (Flatten)          (None, 18600)             0         \n",
      "_________________________________________________________________\n",
      "dense_1 (Dense)              (None, 3)                 55803     \n",
      "_________________________________________________________________\n",
      "dropout_1 (Dropout)          (None, 3)                 0         \n",
      "=================================================================\n",
      "Total params: 56,203\n",
      "Trainable params: 56,203\n",
      "Non-trainable params: 0\n",
      "_________________________________________________________________\n",
      "None\n"
     ]
    }
   ],
   "source": [
    "print(model.summary())"
   ]
  },
  {
   "cell_type": "code",
   "execution_count": 53,
   "metadata": {},
   "outputs": [],
   "source": [
    "new_dir = 'model/'\n",
    "if not os.path.exists(new_dir):\n",
    "    os.makedirs(new_dir)\n",
    "fpath = new_dir + 'weights.{epoch:02d}-{val_acc:.2f}.hdf5'"
   ]
  },
  {
   "cell_type": "code",
   "execution_count": 54,
   "metadata": {},
   "outputs": [],
   "source": [
    "cp_cb = ModelCheckpoint(fpath, monitor='val_loss', verbose=1, save_best_only=True, mode='auto', period=1)"
   ]
  },
  {
   "cell_type": "code",
   "execution_count": 55,
   "metadata": {},
   "outputs": [
    {
     "name": "stdout",
     "output_type": "stream",
     "text": [
      "Train on 2628 samples, validate on 657 samples\n",
      "Epoch 1/50\n",
      " - 1s - loss: 0.2815 - acc: 0.4939 - val_loss: 0.1275 - val_acc: 0.8219\n",
      "\n",
      "Epoch 00001: val_loss improved from inf to 0.12753, saving model to model/weights.01-0.82.hdf5\n",
      "Epoch 2/50\n",
      " - 1s - loss: 0.2479 - acc: 0.5396 - val_loss: 0.1106 - val_acc: 0.9072\n",
      "\n",
      "Epoch 00002: val_loss improved from 0.12753 to 0.11060, saving model to model/weights.02-0.91.hdf5\n",
      "Epoch 3/50\n",
      " - 1s - loss: 0.2416 - acc: 0.5464 - val_loss: 0.0855 - val_acc: 0.9833\n",
      "\n",
      "Epoch 00003: val_loss improved from 0.11060 to 0.08546, saving model to model/weights.03-0.98.hdf5\n",
      "Epoch 4/50\n",
      " - 1s - loss: 0.2394 - acc: 0.5483 - val_loss: 0.0953 - val_acc: 0.9787\n",
      "\n",
      "Epoch 00004: val_loss did not improve from 0.08546\n",
      "Epoch 5/50\n",
      " - 1s - loss: 0.2355 - acc: 0.5506 - val_loss: 0.0924 - val_acc: 0.9680\n",
      "\n",
      "Epoch 00005: val_loss did not improve from 0.08546\n",
      "Epoch 6/50\n",
      " - 1s - loss: 0.2367 - acc: 0.5548 - val_loss: 0.0864 - val_acc: 0.9802\n",
      "\n",
      "Epoch 00006: val_loss did not improve from 0.08546\n",
      "Epoch 7/50\n",
      " - 1s - loss: 0.2318 - acc: 0.5620 - val_loss: 0.0845 - val_acc: 0.9833\n",
      "\n",
      "Epoch 00007: val_loss improved from 0.08546 to 0.08450, saving model to model/weights.07-0.98.hdf5\n",
      "Epoch 8/50\n",
      " - 1s - loss: 0.2305 - acc: 0.5643 - val_loss: 0.1066 - val_acc: 0.9482\n",
      "\n",
      "Epoch 00008: val_loss did not improve from 0.08450\n",
      "Epoch 9/50\n",
      " - 1s - loss: 0.2347 - acc: 0.5540 - val_loss: 0.1007 - val_acc: 0.9680\n",
      "\n",
      "Epoch 00009: val_loss did not improve from 0.08450\n",
      "Epoch 10/50\n",
      " - 1s - loss: 0.2252 - acc: 0.5753 - val_loss: 0.0800 - val_acc: 0.9680\n",
      "\n",
      "Epoch 00010: val_loss improved from 0.08450 to 0.07997, saving model to model/weights.10-0.97.hdf5\n",
      "Epoch 11/50\n",
      " - 1s - loss: 0.2313 - acc: 0.5525 - val_loss: 0.0731 - val_acc: 0.9772\n",
      "\n",
      "Epoch 00011: val_loss improved from 0.07997 to 0.07314, saving model to model/weights.11-0.98.hdf5\n",
      "Epoch 12/50\n",
      " - 1s - loss: 0.2313 - acc: 0.5533 - val_loss: 0.0753 - val_acc: 0.9817\n",
      "\n",
      "Epoch 00012: val_loss did not improve from 0.07314\n",
      "Epoch 13/50\n",
      " - 1s - loss: 0.2328 - acc: 0.5548 - val_loss: 0.0822 - val_acc: 0.9787\n",
      "\n",
      "Epoch 00013: val_loss did not improve from 0.07314\n",
      "Epoch 14/50\n",
      " - 1s - loss: 0.2308 - acc: 0.5518 - val_loss: 0.0801 - val_acc: 0.9711\n",
      "\n",
      "Epoch 00014: val_loss did not improve from 0.07314\n",
      "Epoch 15/50\n",
      " - 1s - loss: 0.2271 - acc: 0.5628 - val_loss: 0.0974 - val_acc: 0.9574\n",
      "\n",
      "Epoch 00015: val_loss did not improve from 0.07314\n",
      "Epoch 16/50\n",
      " - 1s - loss: 0.2326 - acc: 0.5506 - val_loss: 0.0803 - val_acc: 0.9848\n",
      "\n",
      "Epoch 00016: val_loss did not improve from 0.07314\n",
      "Epoch 17/50\n",
      " - 1s - loss: 0.2266 - acc: 0.5712 - val_loss: 0.0861 - val_acc: 0.9711\n",
      "\n",
      "Epoch 00017: val_loss did not improve from 0.07314\n",
      "Epoch 18/50\n",
      " - 1s - loss: 0.2284 - acc: 0.5639 - val_loss: 0.0776 - val_acc: 0.9787\n",
      "\n",
      "Epoch 00018: val_loss did not improve from 0.07314\n",
      "Epoch 19/50\n",
      " - 1s - loss: 0.2268 - acc: 0.5696 - val_loss: 0.0899 - val_acc: 0.9619\n",
      "\n",
      "Epoch 00019: val_loss did not improve from 0.07314\n",
      "Epoch 20/50\n",
      " - 1s - loss: 0.2314 - acc: 0.5540 - val_loss: 0.1012 - val_acc: 0.9543\n",
      "\n",
      "Epoch 00020: val_loss did not improve from 0.07314\n",
      "Epoch 21/50\n",
      " - 1s - loss: 0.2310 - acc: 0.5441 - val_loss: 0.0834 - val_acc: 0.9741\n",
      "\n",
      "Epoch 00021: val_loss did not improve from 0.07314\n",
      "Epoch 22/50\n",
      " - 1s - loss: 0.2282 - acc: 0.5609 - val_loss: 0.0871 - val_acc: 0.9696\n",
      "\n",
      "Epoch 00022: val_loss did not improve from 0.07314\n",
      "Epoch 23/50\n",
      " - 1s - loss: 0.2307 - acc: 0.5544 - val_loss: 0.0834 - val_acc: 0.9772\n",
      "\n",
      "Epoch 00023: val_loss did not improve from 0.07314\n",
      "Epoch 24/50\n",
      " - 1s - loss: 0.2301 - acc: 0.5544 - val_loss: 0.0923 - val_acc: 0.9696\n",
      "\n",
      "Epoch 00024: val_loss did not improve from 0.07314\n",
      "Epoch 25/50\n",
      " - 1s - loss: 0.2256 - acc: 0.5666 - val_loss: 0.0829 - val_acc: 0.9817\n",
      "\n",
      "Epoch 00025: val_loss did not improve from 0.07314\n",
      "Epoch 26/50\n",
      " - 1s - loss: 0.2238 - acc: 0.5818 - val_loss: 0.0919 - val_acc: 0.9680\n",
      "\n",
      "Epoch 00026: val_loss did not improve from 0.07314\n",
      "Epoch 27/50\n",
      " - 1s - loss: 0.2300 - acc: 0.5563 - val_loss: 0.0759 - val_acc: 0.9726\n",
      "\n",
      "Epoch 00027: val_loss did not improve from 0.07314\n",
      "Epoch 28/50\n",
      " - 1s - loss: 0.2275 - acc: 0.5529 - val_loss: 0.0824 - val_acc: 0.9756\n",
      "\n",
      "Epoch 00028: val_loss did not improve from 0.07314\n",
      "Epoch 29/50\n",
      " - 1s - loss: 0.2313 - acc: 0.5510 - val_loss: 0.0968 - val_acc: 0.9559\n",
      "\n",
      "Epoch 00029: val_loss did not improve from 0.07314\n",
      "Epoch 30/50\n",
      " - 1s - loss: 0.2283 - acc: 0.5521 - val_loss: 0.0789 - val_acc: 0.9619\n",
      "\n",
      "Epoch 00030: val_loss did not improve from 0.07314\n",
      "Epoch 31/50\n",
      " - 1s - loss: 0.2316 - acc: 0.5464 - val_loss: 0.0893 - val_acc: 0.9650\n",
      "\n",
      "Epoch 00031: val_loss did not improve from 0.07314\n",
      "Epoch 32/50\n",
      " - 1s - loss: 0.2275 - acc: 0.5662 - val_loss: 0.1045 - val_acc: 0.9589\n",
      "\n",
      "Epoch 00032: val_loss did not improve from 0.07314\n",
      "Epoch 33/50\n",
      " - 1s - loss: 0.2299 - acc: 0.5491 - val_loss: 0.0813 - val_acc: 0.9802\n",
      "\n",
      "Epoch 00033: val_loss did not improve from 0.07314\n",
      "Epoch 34/50\n",
      " - 1s - loss: 0.2335 - acc: 0.5430 - val_loss: 0.0829 - val_acc: 0.9817\n",
      "\n",
      "Epoch 00034: val_loss did not improve from 0.07314\n",
      "Epoch 35/50\n",
      " - 1s - loss: 0.2219 - acc: 0.5742 - val_loss: 0.1031 - val_acc: 0.9543\n",
      "\n",
      "Epoch 00035: val_loss did not improve from 0.07314\n",
      "Epoch 36/50\n",
      " - 1s - loss: 0.2325 - acc: 0.5495 - val_loss: 0.0732 - val_acc: 0.9619\n",
      "\n",
      "Epoch 00036: val_loss did not improve from 0.07314\n",
      "Epoch 37/50\n",
      " - 1s - loss: 0.2287 - acc: 0.5605 - val_loss: 0.0822 - val_acc: 0.9848\n",
      "\n",
      "Epoch 00037: val_loss did not improve from 0.07314\n",
      "Epoch 38/50\n",
      " - 1s - loss: 0.2296 - acc: 0.5548 - val_loss: 0.0895 - val_acc: 0.9711\n",
      "\n",
      "Epoch 00038: val_loss did not improve from 0.07314\n",
      "Epoch 39/50\n",
      " - 1s - loss: 0.2287 - acc: 0.5571 - val_loss: 0.0848 - val_acc: 0.9711\n",
      "\n",
      "Epoch 00039: val_loss did not improve from 0.07314\n",
      "Epoch 40/50\n",
      " - 1s - loss: 0.2321 - acc: 0.5445 - val_loss: 0.0751 - val_acc: 0.9817\n",
      "\n",
      "Epoch 00040: val_loss did not improve from 0.07314\n",
      "Epoch 41/50\n",
      " - 1s - loss: 0.2290 - acc: 0.5533 - val_loss: 0.0827 - val_acc: 0.9863\n",
      "\n",
      "Epoch 00041: val_loss did not improve from 0.07314\n",
      "Epoch 42/50\n",
      " - 1s - loss: 0.2288 - acc: 0.5586 - val_loss: 0.0743 - val_acc: 0.9878\n",
      "\n",
      "Epoch 00042: val_loss did not improve from 0.07314\n",
      "Epoch 43/50\n",
      " - 1s - loss: 0.2273 - acc: 0.5540 - val_loss: 0.0761 - val_acc: 0.9863\n",
      "\n",
      "Epoch 00043: val_loss did not improve from 0.07314\n",
      "Epoch 44/50\n",
      " - 1s - loss: 0.2219 - acc: 0.5750 - val_loss: 0.0844 - val_acc: 0.9833\n",
      "\n",
      "Epoch 00044: val_loss did not improve from 0.07314\n",
      "Epoch 45/50\n",
      " - 1s - loss: 0.2261 - acc: 0.5662 - val_loss: 0.0885 - val_acc: 0.9802\n",
      "\n",
      "Epoch 00045: val_loss did not improve from 0.07314\n",
      "Epoch 46/50\n",
      " - 1s - loss: 0.2236 - acc: 0.5723 - val_loss: 0.0801 - val_acc: 0.9772\n",
      "\n",
      "Epoch 00046: val_loss did not improve from 0.07314\n",
      "Epoch 47/50\n",
      " - 1s - loss: 0.2287 - acc: 0.5495 - val_loss: 0.0847 - val_acc: 0.9680\n",
      "\n",
      "Epoch 00047: val_loss did not improve from 0.07314\n",
      "Epoch 48/50\n",
      " - 1s - loss: 0.2244 - acc: 0.5662 - val_loss: 0.0891 - val_acc: 0.9604\n",
      "\n",
      "Epoch 00048: val_loss did not improve from 0.07314\n",
      "Epoch 49/50\n",
      " - 1s - loss: 0.2210 - acc: 0.5750 - val_loss: 0.0797 - val_acc: 0.9893\n",
      "\n",
      "Epoch 00049: val_loss did not improve from 0.07314\n",
      "Epoch 50/50\n",
      " - 1s - loss: 0.2278 - acc: 0.5537 - val_loss: 0.0770 - val_acc: 0.9802\n",
      "\n",
      "Epoch 00050: val_loss did not improve from 0.07314\n"
     ]
    },
    {
     "data": {
      "text/plain": [
       "<keras.callbacks.History at 0x103b301d0>"
      ]
     },
     "execution_count": 55,
     "metadata": {},
     "output_type": "execute_result"
    }
   ],
   "source": [
    "model.fit(np.expand_dims(X_train, axis=2), y_train_dynamic_oh,\n",
    "          batch_size=32, epochs=50, verbose=2, validation_split=0.2,\n",
    "          callbacks=[cp_cb])"
   ]
  },
  {
   "cell_type": "code",
   "execution_count": 56,
   "metadata": {},
   "outputs": [],
   "source": [
    "del model\n",
    "K.clear_session()"
   ]
  },
  {
   "cell_type": "markdown",
   "metadata": {},
   "source": [
    "#### Rename highest epoch weight file to dynamic.hdf5"
   ]
  },
  {
   "cell_type": "code",
   "execution_count": 57,
   "metadata": {},
   "outputs": [],
   "source": [
    "model_path = \"model/dynamic.hdf5\"\n",
    "model = load_model(model_path)"
   ]
  },
  {
   "cell_type": "code",
   "execution_count": 58,
   "metadata": {},
   "outputs": [
    {
     "name": "stdout",
     "output_type": "stream",
     "text": [
      "------ TRAIN ACCURACY ------\n",
      "0.9933028919330289\n",
      "[[1219    6    1]\n",
      " [   0 1071    2]\n",
      " [   0   13  973]]\n"
     ]
    }
   ],
   "source": [
    "pred_train = model.predict(np.expand_dims(X_train, axis=2), batch_size=32)\n",
    "print(\"------ TRAIN ACCURACY ------\")\n",
    "print(accuracy_score(y_train, np.argmax(pred_train, axis=1)))\n",
    "print(confusion_matrix(y_train, np.argmax(pred_train, axis=1)))"
   ]
  },
  {
   "cell_type": "code",
   "execution_count": 59,
   "metadata": {},
   "outputs": [
    {
     "name": "stdout",
     "output_type": "stream",
     "text": [
      "------ TEST ACCURACY ------\n",
      "0.9776496034607065\n",
      "[[493   1   2]\n",
      " [ 12 459   0]\n",
      " [  3  13 404]]\n"
     ]
    }
   ],
   "source": [
    "pred_test = model.predict(np.expand_dims(X_test, axis=2), batch_size=32)\n",
    "print(\"------ TEST ACCURACY ------\")\n",
    "print(accuracy_score(y_test, np.argmax(pred_test, axis=1)))\n",
    "print(confusion_matrix(y_test, np.argmax(pred_test, axis=1)))"
   ]
  },
  {
   "cell_type": "markdown",
   "metadata": {},
   "source": [
    "### Static Sharpening"
   ]
  },
  {
   "cell_type": "code",
   "execution_count": 60,
   "metadata": {},
   "outputs": [],
   "source": [
    "import numpy as np\n",
    "from sklearn.metrics import accuracy_score\n",
    "from sklearn.metrics import confusion_matrix\n",
    "from keras.models import load_model\n",
    "import random\n",
    "import warnings\n",
    "warnings.simplefilter(action='ignore', category=UserWarning)"
   ]
  },
  {
   "cell_type": "code",
   "execution_count": 138,
   "metadata": {},
   "outputs": [],
   "source": [
    "accuracy_list = []\n",
    "alpha = np.arange(0.01, 0.31, 0.01)\n",
    "sigma = np.arange(5, 10, 1)\n",
    "def display_output_x(title_str, X, y):\n",
    "\n",
    "    # Load static HAR model\n",
    "    model_path = \"model/static.hdf5\"\n",
    "    model = load_model(model_path)\n",
    "\n",
    "    print(\"\\n=== COMPARE ACCURACY: NO SHARPEN vs. SHARPENED  ===\")\n",
    "    print(\"===         Test Data: {} Half         ===\\n\".format(title_str))\n",
    "\n",
    "    pred_dyna_raw = model.predict(np.expand_dims(X, axis=2), batch_size=32)\n",
    "    print(\"---------------------------------\")\n",
    "    print(\"       NO SHARPEN ACCURACY       \")\n",
    "    print(\"---------------------------------\")\n",
    "    print(accuracy_score(y, np.argmax(pred_dyna_raw, axis=1)))\n",
    "    print(confusion_matrix(y, np.argmax(pred_dyna_raw, axis=1)))\n",
    "\n",
    "    alpha = np.arange(0.01, 0.31, 0.01)\n",
    "    sigma = np.arange(5, 10, 1)\n",
    "    \n",
    "    for s in sigma:\n",
    "        new_list = []\n",
    "        for a in alpha:\n",
    "            # Sharpen test data with various sigma (for Gaussian filter) and alpha value combinations\n",
    "            X_test_sharpen = sharpen(X, s, a)\n",
    "            pred_dyna_sharpen = model.predict(np.expand_dims(X_test_sharpen, axis=2), batch_size=32)\n",
    "            new_list.append(accuracy_score(y, np.argmax(pred_dyna_sharpen, axis=1)))\n",
    "        list_new = np.array(new_list)    \n",
    "        accuracy_list.append(alpha[np.argmax(new_list)])\n",
    "    \n",
    "    print(\"\\n---------------------------------\")\n",
    "    print(\"       SHARPENED  ACCURACY       \")\n",
    "    print(\"---------------------------------\")\n",
    "    s = 5\n",
    "    for a in accuracy_list:\n",
    "        X_test_sharpen = sharpen(X, s, a)\n",
    "        pred_dyna_sharpen = model.predict(np.expand_dims(X_test_sharpen, axis=2), batch_size=32)\n",
    "        print(\">>> sigma={}, alpha={:.2f}\".format(s, a))\n",
    "        print(accuracy_score(y, np.argmax(pred_dyna_sharpen, axis=1)))\n",
    "        print(confusion_matrix(y, np.argmax(pred_dyna_sharpen, axis=1)))\n",
    "        s = s + 1"
   ]
  },
  {
   "cell_type": "code",
   "execution_count": 127,
   "metadata": {},
   "outputs": [],
   "source": [
    "X_test = load_x(\"test\")\n",
    "y_test = load_y(\"test\")"
   ]
  },
  {
   "cell_type": "code",
   "execution_count": 128,
   "metadata": {},
   "outputs": [],
   "source": [
    "seed = 818"
   ]
  },
  {
   "cell_type": "code",
   "execution_count": 129,
   "metadata": {},
   "outputs": [],
   "source": [
    "random.seed(seed)\n",
    "stat_1 = list(np.where(y_test == 4)[0])\n",
    "temp = int(len(stat_1) * 0.5)\n",
    "stat_1_first = random.sample(stat_1, temp)\n",
    "stat_1_second = list(set(stat_1) - set(stat_1_first))"
   ]
  },
  {
   "cell_type": "code",
   "execution_count": 130,
   "metadata": {},
   "outputs": [],
   "source": [
    "random.seed(seed)\n",
    "stat_2 = list(np.where(y_test == 5)[0])\n",
    "stat_2_first = random.sample(stat_2, int(len(stat_2) * 0.5))\n",
    "stat_2_second = list(set(stat_2) - set(stat_2_first))"
   ]
  },
  {
   "cell_type": "code",
   "execution_count": 131,
   "metadata": {},
   "outputs": [],
   "source": [
    "random.seed(seed)\n",
    "stat_3 = list(np.where(y_test == 6)[0])\n",
    "stat_3_first = random.sample(stat_3, int(len(stat_3) * 0.5))\n",
    "stat_3_second = list(set(stat_3) - set(stat_3_first))"
   ]
  },
  {
   "cell_type": "code",
   "execution_count": 132,
   "metadata": {},
   "outputs": [],
   "source": [
    "static_first = np.concatenate([stat_1_first, stat_2_first, stat_3_first])\n",
    "static_second = np.concatenate([stat_1_second, stat_2_second, stat_3_second])"
   ]
  },
  {
   "cell_type": "code",
   "execution_count": 133,
   "metadata": {},
   "outputs": [
    {
     "name": "stdout",
     "output_type": "stream",
     "text": [
      "test_static_first shape:  (779, 561)\n"
     ]
    }
   ],
   "source": [
    "X_test_first = X_test[static_first]\n",
    "y_test_first = y_test[static_first] - 4   # Convert (4, 5, 6) labels to (0, 1, 2)\n",
    "print(\"test_static_first shape: \", X_test_first.shape)"
   ]
  },
  {
   "cell_type": "code",
   "execution_count": 134,
   "metadata": {},
   "outputs": [
    {
     "name": "stdout",
     "output_type": "stream",
     "text": [
      "test_static_second shape:  (781, 561)\n"
     ]
    }
   ],
   "source": [
    "X_test_second = X_test[static_second]\n",
    "y_test_second = y_test[static_second] - 4   # Convert (4, 5, 6) labels to (0, 1, 2)\n",
    "print(\"test_static_second shape: \", X_test_second.shape)"
   ]
  },
  {
   "cell_type": "code",
   "execution_count": 135,
   "metadata": {},
   "outputs": [
    {
     "name": "stdout",
     "output_type": "stream",
     "text": [
      "\n",
      "=== COMPARE ACCURACY: NO SHARPEN vs. SHARPENED  ===\n",
      "===         Test Data: First Half         ===\n",
      "\n",
      "---------------------------------\n",
      "       NO SHARPEN ACCURACY       \n",
      "---------------------------------\n",
      "0.9576379974326059\n",
      "[[219  26   0]\n",
      " [  7 259   0]\n",
      " [  0   0 268]]\n",
      "\n",
      "---------------------------------\n",
      "       SHARPENED  ACCURACY       \n",
      "---------------------------------\n",
      ">>> sigma=5, alpha=0.18\n",
      "0.9640564826700898\n",
      "[[228  17   0]\n",
      " [ 11 255   0]\n",
      " [  0   0 268]]\n",
      ">>> sigma=6, alpha=0.15\n",
      "0.9640564826700898\n",
      "[[228  17   0]\n",
      " [ 11 255   0]\n",
      " [  0   0 268]]\n",
      ">>> sigma=7, alpha=0.14\n",
      "0.9640564826700898\n",
      "[[228  17   0]\n",
      " [ 11 255   0]\n",
      " [  0   0 268]]\n",
      ">>> sigma=8, alpha=0.14\n",
      "0.9640564826700898\n",
      "[[228  17   0]\n",
      " [ 11 255   0]\n",
      " [  0   0 268]]\n",
      ">>> sigma=9, alpha=0.14\n",
      "0.9640564826700898\n",
      "[[228  17   0]\n",
      " [ 11 255   0]\n",
      " [  0   0 268]]\n"
     ]
    }
   ],
   "source": [
    "display_output_x(\"First\", X_test_first, y_test_first)"
   ]
  },
  {
   "cell_type": "code",
   "execution_count": 139,
   "metadata": {},
   "outputs": [
    {
     "name": "stdout",
     "output_type": "stream",
     "text": [
      "\n",
      "=== COMPARE ACCURACY: NO SHARPEN vs. SHARPENED  ===\n",
      "===         Test Data: Second Half         ===\n",
      "\n",
      "---------------------------------\n",
      "       NO SHARPEN ACCURACY       \n",
      "---------------------------------\n",
      "0.967989756722151\n",
      "[[228  18   0]\n",
      " [  7 259   0]\n",
      " [  0   0 269]]\n",
      "\n",
      "---------------------------------\n",
      "       SHARPENED  ACCURACY       \n",
      "---------------------------------\n",
      ">>> sigma=5, alpha=0.01\n",
      "0.9641485275288092\n",
      "[[228  18   0]\n",
      " [ 10 256   0]\n",
      " [  0   0 269]]\n",
      ">>> sigma=6, alpha=0.01\n",
      "0.9641485275288092\n",
      "[[228  18   0]\n",
      " [ 10 256   0]\n",
      " [  0   0 269]]\n",
      ">>> sigma=7, alpha=0.15\n",
      "0.9654289372599232\n",
      "[[232  14   0]\n",
      " [ 13 253   0]\n",
      " [  0   0 269]]\n",
      ">>> sigma=8, alpha=0.14\n",
      "0.9654289372599232\n",
      "[[232  14   0]\n",
      " [ 13 253   0]\n",
      " [  0   0 269]]\n",
      ">>> sigma=9, alpha=0.01\n",
      "0.9641485275288092\n",
      "[[228  18   0]\n",
      " [ 10 256   0]\n",
      " [  0   0 269]]\n"
     ]
    }
   ],
   "source": [
    "display_output_x(\"Second\", X_test_second, y_test_second)"
   ]
  },
  {
   "cell_type": "markdown",
   "metadata": {},
   "source": [
    "#### By cross checking both the sets we can conclude that s = 8 and alpha = 0.14"
   ]
  },
  {
   "cell_type": "markdown",
   "metadata": {},
   "source": [
    "### Dynamic Sharpening"
   ]
  },
  {
   "cell_type": "code",
   "execution_count": 136,
   "metadata": {},
   "outputs": [],
   "source": [
    "import numpy as np\n",
    "from sklearn.metrics import accuracy_score\n",
    "from sklearn.metrics import confusion_matrix\n",
    "from keras.models import load_model\n",
    "import random\n",
    "\n",
    "import warnings\n",
    "warnings.simplefilter(action='ignore', category=UserWarning)"
   ]
  },
  {
   "cell_type": "code",
   "execution_count": 141,
   "metadata": {},
   "outputs": [],
   "source": [
    "def display_output_x(title_str, X, y):\n",
    "\n",
    "    # Load static HAR model\n",
    "    model_path = \"model/dynamic.hdf5\"\n",
    "    model = load_model(model_path)\n",
    "\n",
    "    print(\"\\n=== COMPARE ACCURACY: NO SHARPEN vs. SHARPENED  ===\")\n",
    "    print(\"===         Test Data: {} Half         ===\\n\".format(title_str))\n",
    "\n",
    "    pred_dyna_raw = model.predict(np.expand_dims(X, axis=2), batch_size=32)\n",
    "    print(\"---------------------------------\")\n",
    "    print(\"       NO SHARPEN ACCURACY       \")\n",
    "    print(\"---------------------------------\")\n",
    "    print(accuracy_score(y, np.argmax(pred_dyna_raw, axis=1)))\n",
    "    print(confusion_matrix(y, np.argmax(pred_dyna_raw, axis=1)))\n",
    "\n",
    "    alpha = np.arange(0.05, 2.55, 0.05)\n",
    "    sigma = np.arange(5, 10, 1)\n",
    "    accuracy_list = []\n",
    "    for s in sigma:\n",
    "        new_list = []\n",
    "        for a in alpha:\n",
    "            # Sharpen test data with various sigma (for Gaussian filter) and alpha value combinations\n",
    "            X_test_sharpen = sharpen(X, s, a)\n",
    "            pred_dyna_sharpen = model.predict(np.expand_dims(X_test_sharpen, axis=2), batch_size=32)\n",
    "            new_list.append(accuracy_score(y, np.argmax(pred_dyna_sharpen, axis=1)))\n",
    "        list_new = np.array(new_list)    \n",
    "        accuracy_list.append(alpha[np.argmax(new_list)])\n",
    "    \n",
    "    print(\"\\n---------------------------------\")\n",
    "    print(\"       SHARPENED  ACCURACY       \")\n",
    "    print(\"---------------------------------\")\n",
    "    s = 5\n",
    "    for a in accuracy_list:\n",
    "        X_test_sharpen = sharpen(X, s, a)\n",
    "        pred_dyna_sharpen = model.predict(np.expand_dims(X_test_sharpen, axis=2), batch_size=32)\n",
    "        print(\">>> sigma={}, alpha={:.2f}\".format(s, a))\n",
    "        print(accuracy_score(y, np.argmax(pred_dyna_sharpen, axis=1)))\n",
    "        print(confusion_matrix(y, np.argmax(pred_dyna_sharpen, axis=1)))\n",
    "        s = s + 1"
   ]
  },
  {
   "cell_type": "code",
   "execution_count": 142,
   "metadata": {},
   "outputs": [],
   "source": [
    "X_test = load_x(\"test\")\n",
    "y_test = load_y(\"test\")"
   ]
  },
  {
   "cell_type": "code",
   "execution_count": 143,
   "metadata": {},
   "outputs": [],
   "source": [
    "seed = 2017"
   ]
  },
  {
   "cell_type": "code",
   "execution_count": 144,
   "metadata": {},
   "outputs": [],
   "source": [
    "random.seed(seed)\n",
    "dyna_1 = list(np.where(y_test == 1)[0])\n",
    "dyna_1_first = random.sample(dyna_1, int(len(dyna_1) * 0.5))\n",
    "dyna_1_second = list(set(dyna_1) - set(dyna_1_first))"
   ]
  },
  {
   "cell_type": "code",
   "execution_count": 145,
   "metadata": {},
   "outputs": [],
   "source": [
    "random.seed(seed)\n",
    "dyna_2 = list(np.where(y_test == 2)[0])\n",
    "dyna_2_first = random.sample(dyna_2, int(len(dyna_2) * 0.5))\n",
    "dyna_2_second = list(set(dyna_2) - set(dyna_2_first))"
   ]
  },
  {
   "cell_type": "code",
   "execution_count": 146,
   "metadata": {},
   "outputs": [],
   "source": [
    "random.seed(seed)\n",
    "dyna_3 = list(np.where(y_test == 3)[0])\n",
    "dyna_3_first = random.sample(dyna_3, int(len(dyna_3) * 0.5))\n",
    "dyna_3_second = list(set(dyna_3) - set(dyna_3_first))"
   ]
  },
  {
   "cell_type": "code",
   "execution_count": 147,
   "metadata": {},
   "outputs": [],
   "source": [
    "dynamic_first = np.concatenate([dyna_1_first, dyna_2_first, dyna_3_first])\n",
    "dynamic_second = np.concatenate([dyna_1_second, dyna_2_second, dyna_3_second])"
   ]
  },
  {
   "cell_type": "code",
   "execution_count": 149,
   "metadata": {},
   "outputs": [
    {
     "name": "stdout",
     "output_type": "stream",
     "text": [
      "test_dynamic_first shape:  (693, 561)\n"
     ]
    }
   ],
   "source": [
    "X_test_first = X_test[dynamic_first]\n",
    "y_test_first = y_test[dynamic_first] - 1   # Convert (1, 2, 3) labels to (0, 1, 2)\n",
    "print(\"test_dynamic_first shape: \", X_test_first.shape)"
   ]
  },
  {
   "cell_type": "code",
   "execution_count": 150,
   "metadata": {},
   "outputs": [
    {
     "name": "stdout",
     "output_type": "stream",
     "text": [
      "test_dynamic_second shape:  (694, 561)\n"
     ]
    }
   ],
   "source": [
    "X_test_second = X_test[dynamic_second]\n",
    "y_test_second = y_test[dynamic_second] - 1  \n",
    "# Convert (1, 2, 3) labels to (0, 1, 2)\n",
    "print(\"test_dynamic_second shape: \", X_test_second.shape)"
   ]
  },
  {
   "cell_type": "code",
   "execution_count": 151,
   "metadata": {},
   "outputs": [
    {
     "name": "stdout",
     "output_type": "stream",
     "text": [
      "\n",
      "=== COMPARE ACCURACY: NO SHARPEN vs. SHARPENED  ===\n",
      "===         Test Data: First Half         ===\n",
      "\n",
      "---------------------------------\n",
      "       NO SHARPEN ACCURACY       \n",
      "---------------------------------\n",
      "0.9841269841269841\n",
      "[[247   1   0]\n",
      " [  5 230   0]\n",
      " [  0   5 205]]\n",
      "\n",
      "---------------------------------\n",
      "       SHARPENED  ACCURACY       \n",
      "---------------------------------\n",
      ">>> sigma=5, alpha=0.05\n",
      "0.9855699855699855\n",
      "[[247   1   0]\n",
      " [  5 230   0]\n",
      " [  0   4 206]]\n",
      ">>> sigma=6, alpha=0.05\n",
      "0.9841269841269841\n",
      "[[247   1   0]\n",
      " [  6 229   0]\n",
      " [  0   4 206]]\n",
      ">>> sigma=7, alpha=0.05\n",
      "0.9841269841269841\n",
      "[[247   1   0]\n",
      " [  6 229   0]\n",
      " [  0   4 206]]\n",
      ">>> sigma=8, alpha=0.05\n",
      "0.9841269841269841\n",
      "[[247   1   0]\n",
      " [  6 229   0]\n",
      " [  0   4 206]]\n",
      ">>> sigma=9, alpha=0.05\n",
      "0.9841269841269841\n",
      "[[247   1   0]\n",
      " [  6 229   0]\n",
      " [  0   4 206]]\n"
     ]
    }
   ],
   "source": [
    "display_output_x(\"First\", X_test_first, y_test_first)"
   ]
  },
  {
   "cell_type": "code",
   "execution_count": 152,
   "metadata": {},
   "outputs": [
    {
     "name": "stdout",
     "output_type": "stream",
     "text": [
      "\n",
      "=== COMPARE ACCURACY: NO SHARPEN vs. SHARPENED  ===\n",
      "===         Test Data: Second Half         ===\n",
      "\n",
      "---------------------------------\n",
      "       NO SHARPEN ACCURACY       \n",
      "---------------------------------\n",
      "0.9711815561959655\n",
      "[[246   0   2]\n",
      " [  7 229   0]\n",
      " [  3   8 199]]\n",
      "\n",
      "---------------------------------\n",
      "       SHARPENED  ACCURACY       \n",
      "---------------------------------\n",
      ">>> sigma=5, alpha=0.10\n",
      "0.9697406340057637\n",
      "[[244   1   3]\n",
      " [  7 229   0]\n",
      " [  2   8 200]]\n",
      ">>> sigma=6, alpha=0.10\n",
      "0.9697406340057637\n",
      "[[244   1   3]\n",
      " [  7 229   0]\n",
      " [  2   8 200]]\n",
      ">>> sigma=7, alpha=0.05\n",
      "0.9697406340057637\n",
      "[[245   0   3]\n",
      " [  7 229   0]\n",
      " [  3   8 199]]\n",
      ">>> sigma=8, alpha=0.05\n",
      "0.9697406340057637\n",
      "[[245   0   3]\n",
      " [  7 229   0]\n",
      " [  3   8 199]]\n",
      ">>> sigma=9, alpha=0.05\n",
      "0.9697406340057637\n",
      "[[245   0   3]\n",
      " [  7 229   0]\n",
      " [  3   8 199]]\n"
     ]
    }
   ],
   "source": [
    "display_output_x(\"Second\", X_test_second, y_test_second)"
   ]
  },
  {
   "cell_type": "markdown",
   "metadata": {},
   "source": [
    "#### By cross checking both the sets we can conclude that s = 8 and alpha = 0.04"
   ]
  },
  {
   "cell_type": "code",
   "execution_count": 183,
   "metadata": {},
   "outputs": [],
   "source": [
    "import pandas as pd\n",
    "import matplotlib.pyplot as plt\n",
    "import seaborn as sns"
   ]
  },
  {
   "cell_type": "code",
   "execution_count": 185,
   "metadata": {},
   "outputs": [],
   "source": [
    "def display_output_dyna(X, y,s,a):\n",
    "\n",
    "    # Load static HAR model\n",
    "    model_path = \"model/dynamic.hdf5\"\n",
    "    model = load_model(model_path)\n",
    "            # Sharpen test data with various sigma (for Gaussian filter) and alpha value combinations\n",
    "    X_test_sharpen = sharpen(X, s, a)\n",
    "    pred_dyna_sharpen = model.predict(np.expand_dims(X_test_sharpen, axis=2), batch_size=32)\n",
    "    print('------------')\n",
    "    print('Dynamic')\n",
    "    print('------------')\n",
    "    print(\"Accuracy : \",accuracy_score(y, np.argmax(pred_dyna_sharpen, axis=1)))\n",
    "    label = [\"WALKING\", \"WALKING_UPSTAIRS\", \"WALKING_DOWNSTAIRS\"]\n",
    "    frame_confusion = pd.DataFrame(confusion_matrix(y, np.argmax(pred_dyna_sharpen, axis=1)), \n",
    "                                   index = label, columns = label)\n",
    "\n",
    "    sns.heatmap(frame_confusion, annot = True, fmt=\"d\", cmap=\"YlGnBu\", linewidths=.5)\n",
    "    plt.title(\"Test confusion matrix\")\n",
    "    plt.xlabel(\"Predicted Label\")\n",
    "    plt.ylabel(\"True Label\")\n",
    "    plt.show()"
   ]
  },
  {
   "cell_type": "code",
   "execution_count": 186,
   "metadata": {},
   "outputs": [
    {
     "name": "stdout",
     "output_type": "stream",
     "text": [
      "------------\n",
      "Dynamic\n",
      "------------\n",
      "Accuracy :  0.976928622927181\n"
     ]
    },
    {
     "data": {
      "image/png": "[encoded data removed]",
      "text/plain": [
       "<Figure size 432x288 with 2 Axes>"
      ]
     },
     "metadata": {
      "needs_background": "light"
     },
     "output_type": "display_data"
    }
   ],
   "source": [
    "display_output_dyna( X_test, y_test,8,0.04 )"
   ]
  },
  {
   "cell_type": "code",
   "execution_count": 203,
   "metadata": {},
   "outputs": [],
   "source": [
    "def display_output_stat(X, y,s,a):\n",
    "\n",
    "    # Load static HAR model\n",
    "    model_path = \"model/static.hdf5\"\n",
    "    model = load_model(model_path)\n",
    "            # Sharpen test data with various sigma (for Gaussian filter) and alpha value combinations\n",
    "    X_test_sharpen = sharpen(X, s, a)\n",
    "    pred_dyna_sharpen = model.predict(np.expand_dims(X_test_sharpen, axis=2), batch_size=32)\n",
    "    print('------------')\n",
    "    print('Static')\n",
    "    print('------------')\n",
    "    print(\"Accuracy : \",accuracy_score(y, np.argmax(pred_dyna_sharpen, axis=1)))\n",
    "    label = [\"SITTING\", \"STANDING\", \"LYING\"]\n",
    "    frame_confusion = pd.DataFrame(confusion_matrix(y, np.argmax(pred_dyna_sharpen, axis=1)), \n",
    "                                   index = label, columns = label)\n",
    "\n",
    "    sns.heatmap(frame_confusion, annot = True, fmt=\"d\", cmap=\"YlGnBu\", linewidths=.5)\n",
    "    plt.title(\"Test confusion matrix\")\n",
    "    plt.xlabel(\"Predicted Label\")\n",
    "    plt.ylabel(\"True Label\")\n",
    "    plt.show()"
   ]
  },
  {
   "cell_type": "code",
   "execution_count": 204,
   "metadata": {},
   "outputs": [
    {
     "name": "stdout",
     "output_type": "stream",
     "text": [
      "------------\n",
      "Static\n",
      "------------\n",
      "Accuracy :  0.9647435897435898\n"
     ]
    },
    {
     "data": {
      "image/png": "[encoded data removed]",
      "text/plain": [
       "<Figure size 432x288 with 2 Axes>"
      ]
     },
     "metadata": {
      "needs_background": "light"
     },
     "output_type": "display_data"
    }
   ],
   "source": [
    "display_output_stat( X_test, y_test,8,0.14 )"
   ]
  },
  {
   "cell_type": "code",
   "execution_count": 31,
   "metadata": {},
   "outputs": [
    {
     "name": "stdout",
     "output_type": "stream",
     "text": [
      "+---------------+--------------------------+------------------------------+----------+\n",
      "|     Model     | Hyper-parameters (units) | Hyper-parameters (Drop-outs) | Accuracy |\n",
      "+---------------+--------------------------+------------------------------+----------+\n",
      "|      LSTM     |            64            |          D1 - 0.233          |  0.9199  |\n",
      "| LSTM 2-layers |            64            |    D1 - 0.425, D2 - 0.233    |  0.8979  |\n",
      "+---------------+--------------------------+------------------------------+----------+\n"
     ]
    }
   ],
   "source": [
    "from prettytable import PrettyTable\n",
    "x = PrettyTable()\n",
    "x.field_names = [\"Model\",\"Hyper-parameters (units)\",\"Hyper-parameters (Drop-outs)\" ,\"Accuracy\"]\n",
    "x.add_row([\"LSTM\", 64, \"D1 - 0.233\", 0.9199])\n",
    "x.add_row([\"LSTM 2-layers\", 64, \"D1 - 0.425, D2 - 0.233\", 0.8979])\n",
    "print(x)"
   ]
  },
  {
   "cell_type": "code",
   "execution_count": 205,
   "metadata": {},
   "outputs": [
    {
     "name": "stdout",
     "output_type": "stream",
     "text": [
      "+------------------------------------------------------+----------+\n",
      "|                        Model                         | Accuracy |\n",
      "+------------------------------------------------------+----------+\n",
      "|             CNN + CNN + MP + DO + Dense              |  0.9199  |\n",
      "|                CNN + MP + DO + Dense                 |  0.9056  |\n",
      "| TimeDistributed(CNN + MP + CNN  + MP) + LSTM + Dense |  0.8992  |\n",
      "+------------------------------------------------------+----------+\n"
     ]
    }
   ],
   "source": [
    "from prettytable import PrettyTable\n",
    "x = PrettyTable()\n",
    "x.field_names = [\"Model\", \"Accuracy\"]\n",
    "x.add_row([\"CNN + CNN + MP + DO + Dense\",  0.9199])\n",
    "x.add_row([\"CNN + MP + DO + Dense\", 0.9056])\n",
    "x.add_row([\"TimeDistributed(CNN + MP + CNN  + MP) + LSTM + Dense\", 0.8992])\n",
    "print(x)"
   ]
  },
  {
   "cell_type": "code",
   "execution_count": 206,
   "metadata": {},
   "outputs": [
    {
     "name": "stdout",
     "output_type": "stream",
     "text": [
      "+---------------------+---------+-------+-------+----------+\n",
      "|        Model        |  Split  | Sigma | Alpha | Accuracy |\n",
      "+---------------------+---------+-------+-------+----------+\n",
      "| CNN + Test Sharping | Dynamic |   8   |  0.04 |  0.9796  |\n",
      "| CNN + Test Sharping |  Static |   8   |  0.14 |  0.9647  |\n",
      "+---------------------+---------+-------+-------+----------+\n"
     ]
    }
   ],
   "source": [
    "from prettytable import PrettyTable\n",
    "x = PrettyTable()\n",
    "x.field_names = [\"Model\", \"Split\",\"Sigma\", \"Alpha\",\"Accuracy\"]\n",
    "x.add_row([\"CNN + Test Sharping\", \"Dynamic\", 8 , 0.04 , 0.9796])\n",
    "x.add_row([\"CNN + Test Sharping\", \"Static\", 8, 0.14, 0.9647])\n",
    "print(x)"
   ]
  },
  {
   "cell_type": "markdown",
   "metadata": {},
   "source": [
    "## Step followed in case study"
   ]
  },
  {
   "cell_type": "markdown",
   "metadata": {},
   "source": [
    "- ____Step 1____ : Fetched data from raw dataset.\n",
    " - ____Step 2____ : Applied dataset on various LSTM Architectures.\n",
    " - ____Step 3____ : Applied dataset on various CNN Architectures. \n",
    " - ____Step 4____ : Since LSTM and CNN have a cap of 92%, split dataset features into 2 categories static and dynamic.\n",
    " - ____Step 5____ : Applied CNN on 2 seperate datasets and saved their model weights in files static.hdf5 and dynamic.hdf5.\n",
    " - ____Step 6____ : Again split the categories into subsets of 2 for each category.\n",
    " - ____Step 7____ : The above method is helpful in determining sigma and alpha values for sharpening.\n",
    " - ____Step 7____ : Finally converged the model into 2 seperate model, one predicting static and other dynamic.\n",
    " \n",
    " - ____Observations____ : In the following case study, static gave an accuracy of 96.47% and dynamic an accuracy of 97.96%."
   ]
  },
  {
   "cell_type": "markdown",
   "metadata": {},
   "source": [
    "## References"
   ]
  },
  {
   "cell_type": "markdown",
   "metadata": {},
   "source": [
    "https://www.ncbi.nlm.nih.gov/pmc/articles/PMC5949027/\n",
    "https://github.com/heeryoncho/sensors2018cnnhar"
   ]
  }
 ],
 "metadata": {
  "kernelspec": {
   "display_name": "Python 3",
   "language": "python",
   "name": "python3"
  },
  "language_info": {
   "codemirror_mode": {
    "name": "ipython",
    "version": 3
   },
   "file_extension": ".py",
   "mimetype": "text/x-python",
   "name": "python",
   "nbconvert_exporter": "python",
   "pygments_lexer": "ipython3",
   "version": "3.7.3"
  }
 },
 "nbformat": 4,
 "nbformat_minor": 2
}
